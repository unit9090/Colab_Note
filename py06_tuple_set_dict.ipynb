{
  "nbformat": 4,
  "nbformat_minor": 0,
  "metadata": {
    "colab": {
      "provenance": [],
      "toc_visible": true,
      "authorship_tag": "ABX9TyN4CIKLt3i+zIqRfe4/N9dW",
      "include_colab_link": true
    },
    "kernelspec": {
      "name": "python3",
      "display_name": "Python 3"
    },
    "language_info": {
      "name": "python"
    }
  },
  "cells": [
    {
      "cell_type": "markdown",
      "metadata": {
        "id": "view-in-github",
        "colab_type": "text"
      },
      "source": [
        "<a href=\"https://colab.research.google.com/github/unit9090/Colab_Note/blob/main/py06_tuple_set_dict.ipynb\" target=\"_parent\"><img src=\"https://colab.research.google.com/assets/colab-badge.svg\" alt=\"Open In Colab\"/></a>"
      ]
    },
    {
      "cell_type": "markdown",
      "source": [
        "# tuple(튜플)\n",
        "\n",
        "* 하나의 변수에 여러 개의 값들을 저장하기 위한 자료 타입.\n",
        "* 저장된 원소(아이템)들을 변경할 수 없는 리스트.\n",
        "    * `append()`, `remove()`와 같은 원소를 변경하는 메서드(기능)은 제공하지 않음.\n",
        "* 인덱스 기반 자료 타입\n",
        "    * indexing, slicing\n",
        "    * 음수 인덱스도 사용 가능"
      ],
      "metadata": {
        "id": "HMyAbSQPWyU5"
      }
    },
    {
      "cell_type": "code",
      "execution_count": 4,
      "metadata": {
        "id": "VrKaIR0xeRKk",
        "colab": {
          "base_uri": "https://localhost:8080/"
        },
        "outputId": "3427212e-29f5-4006-e188-0e6a3976cebe"
      },
      "outputs": [
        {
          "output_type": "stream",
          "name": "stdout",
          "text": [
            "(1, 2, 10, 20, 100, 200)\n",
            "<class 'tuple'>\n"
          ]
        }
      ],
      "source": [
        "# 숫자들을 저장하는 튜플\n",
        "numbers = (1, 2, 10, 20, 100, 200)\n",
        "print(numbers)\n",
        "type(numbers)"
      ]
    },
    {
      "cell_type": "markdown",
      "source": [
        "indexing: 인덱스를 사용해서 원소 1개를 참조하는 방법"
      ],
      "metadata": {
        "id": "AENKUW0nYxVT"
      }
    },
    {
      "cell_type": "code",
      "source": [
        "# 인덱스는 [](대괄호)를 사용한다.\n",
        "\n",
        "# 튜플의 첫번째 원소\n",
        "numbers[0]\n",
        "\n",
        "# 튜플의 마지막 원소\n",
        "numbers[-1]\n",
        "numbers[len(numbers) - 1]"
      ],
      "metadata": {
        "colab": {
          "base_uri": "https://localhost:8080/"
        },
        "id": "YU7EHlPlYVrY",
        "outputId": "beeb455d-75ef-4110-b17a-49ec93a2d42c"
      },
      "execution_count": 6,
      "outputs": [
        {
          "output_type": "execute_result",
          "data": {
            "text/plain": [
              "200"
            ]
          },
          "metadata": {},
          "execution_count": 6
        }
      ]
    },
    {
      "cell_type": "markdown",
      "source": [
        "slicing: 자르기. 부분 집합."
      ],
      "metadata": {
        "id": "QfYHAZpkZRgK"
      }
    },
    {
      "cell_type": "code",
      "source": [
        "# 튜플에서 첫 3개의 원소들을 잘라내기. [start, end) 범위.\n",
        "numbers[:3]\n",
        "\n",
        "# 튜플에서 마지막 3개의 원소들을 잘라내기.\n",
        "numbers[-3:]"
      ],
      "metadata": {
        "colab": {
          "base_uri": "https://localhost:8080/"
        },
        "id": "bwMDACaOZVc9",
        "outputId": "d5484a7a-3c57-4449-80ce-ea68f9e45fca"
      },
      "execution_count": 8,
      "outputs": [
        {
          "output_type": "execute_result",
          "data": {
            "text/plain": [
              "(20, 100, 200)"
            ]
          },
          "metadata": {},
          "execution_count": 8
        }
      ]
    },
    {
      "cell_type": "markdown",
      "source": [
        "## decomposition(분해)\n",
        "\n",
        "- indexing을 좀 더 같단하게 사용"
      ],
      "metadata": {
        "id": "sXF3YVlXZ5mX"
      }
    },
    {
      "cell_type": "code",
      "source": [
        "# 번거로운 분해\n",
        "odds = (1, 3, 5)\n",
        "a = odds[0]\n",
        "b = odds[1]\n",
        "c = odds[2]\n",
        "print(a, b, c)"
      ],
      "metadata": {
        "colab": {
          "base_uri": "https://localhost:8080/"
        },
        "id": "F9dl6Q_4aG_C",
        "outputId": "ea0611d1-8b61-4e40-f2a5-b72a535d0d40"
      },
      "execution_count": 12,
      "outputs": [
        {
          "output_type": "stream",
          "name": "stdout",
          "text": [
            "1 3 5\n"
          ]
        }
      ]
    },
    {
      "cell_type": "code",
      "source": [
        "# decomposition 사용\n",
        "x, y = (1, 3)\n",
        "print(x, y)\n",
        "\n",
        "x, y, z = (1, 3, 5)\n",
        "print(x, y, z)"
      ],
      "metadata": {
        "colab": {
          "base_uri": "https://localhost:8080/"
        },
        "id": "YK4JR3B9aZfv",
        "outputId": "b841e969-bdd4-422f-e306-350c2cbf6c36"
      },
      "execution_count": 13,
      "outputs": [
        {
          "output_type": "stream",
          "name": "stdout",
          "text": [
            "1 3\n",
            "1 3 5\n"
          ]
        }
      ]
    },
    {
      "cell_type": "markdown",
      "source": [
        "## tuple & for\n",
        "\n",
        "튜플은 비어있는 튜플을 만들어 원소를 넣을 수 없기 때문에 튜플에서는 comprehension을 사용할 수 없다."
      ],
      "metadata": {
        "id": "IMYoWiHNbNXn"
      }
    },
    {
      "cell_type": "code",
      "source": [
        "for x in odds:\n",
        "    print(x)"
      ],
      "metadata": {
        "colab": {
          "base_uri": "https://localhost:8080/"
        },
        "id": "YynXcU2xbQmx",
        "outputId": "3c0e2b93-88fa-4466-cf60-8a8a2d1fa4ce"
      },
      "execution_count": 14,
      "outputs": [
        {
          "output_type": "stream",
          "name": "stdout",
          "text": [
            "1\n",
            "3\n",
            "5\n"
          ]
        }
      ]
    },
    {
      "cell_type": "markdown",
      "source": [
        "# 2차원 리스트/튜플"
      ],
      "metadata": {
        "id": "D7ueaYhScD3v"
      }
    },
    {
      "cell_type": "code",
      "source": [
        "# 2차원\n",
        "numbers = [\n",
        "    [1, 2, 3],\n",
        "    [4, 5, 6]\n",
        "]\n",
        "print(numbers)\n",
        "print(len(numbers))        # 2차원 리스트 numbers의 원소 개수\n",
        "print(numbers[0])     # 2차원 리스트의 1차원[0]의 원소\n",
        "\n",
        "# 3차원\n",
        "numbers = [\n",
        "    [\n",
        "        [1, 2, 3],\n",
        "        [4, 5, 6],\n",
        "        [7, 8, 9]\n",
        "    ],\n",
        "    [\n",
        "        ['A', 'B', 'C'],\n",
        "        ['D', 'E', 'F'],\n",
        "        ['G', 'H', 'I']\n",
        "    ]\n",
        "]\n",
        "print(numbers)\n",
        "print(len(numbers))        # 3차원 리스트 numbers의 원소 개수\n",
        "print(numbers[0])          # 3차원 리스트의 2차원[0]의 원소\n",
        "print(numbers[0][0])       # 3차원 리스트의 2차원[0]의 1차원[0]의 원소\n",
        "print(numbers[0][0][0])    # 3차원 리스트의 2차원[0]의 1차원[0]의 원소[0]"
      ],
      "metadata": {
        "colab": {
          "base_uri": "https://localhost:8080/"
        },
        "id": "kEplveU9cCJb",
        "outputId": "a77100ef-69a5-49df-cc77-e2693ade2d0c"
      },
      "execution_count": 21,
      "outputs": [
        {
          "output_type": "stream",
          "name": "stdout",
          "text": [
            "[[1, 2, 3], [4, 5, 6]]\n",
            "2\n",
            "[1, 2, 3]\n",
            "[[[1, 2, 3], [4, 5, 6], [7, 8, 9]], [['A', 'B', 'C'], ['D', 'E', 'F'], ['G', 'H', 'I']]]\n",
            "2\n",
            "[[1, 2, 3], [4, 5, 6], [7, 8, 9]]\n",
            "[1, 2, 3]\n",
            "1\n"
          ]
        }
      ]
    },
    {
      "cell_type": "markdown",
      "source": [
        "Ex.\n",
        "\n",
        "1. 2 x 2모양의 [0, 10) 범위의 정수 난수들을 저장하는 2차원 리스트 array1을 만드세요.\n",
        "1. 2 x 2모양의 [0, 10) 범위의 정수 난수들을 저장하는 2차원 리스트 array2을 만드세요.\n",
        "1. array1과 array2의 같은 인덱스의 원소들끼리의 덧셈 결과를 저장하는 2차원 리스트 add를 만들고 출력하세요."
      ],
      "metadata": {
        "id": "JUKN9D2Vd92-"
      }
    },
    {
      "cell_type": "code",
      "source": [
        "import random"
      ],
      "metadata": {
        "id": "2HVRym6neZy-"
      },
      "execution_count": 22,
      "outputs": []
    },
    {
      "cell_type": "code",
      "source": [
        "'''\n",
        "array1 = [\n",
        "    [random.randrange(10), random.randrange(10)],\n",
        "    [random.randrange(10), random.randrange(10)]\n",
        "]\n",
        "print(f'array1 = {array1}')\n",
        "\n",
        "array2 = [\n",
        "    [random.randrange(10), random.randrange(10)],\n",
        "    [random.randrange(10), random.randrange(10)]\n",
        "]\n",
        "print(f'array2 = {array2}')\n",
        "\n",
        "add = [\n",
        "    [x + y for x, y in zip(array1[0], array2[0])],\n",
        "    [x + y for x, y in zip(array1[1], array2[1])]\n",
        "]\n",
        "'''\n",
        "\n",
        "array1 = [[], []]\n",
        "array2 = [[], []]\n",
        "for x in range(2):\n",
        "    for y in range(2):\n",
        "        array1[x].append(random.randrange(10))\n",
        "        array2[x].append(random.randrange(10))\n",
        "print(f'array1 = {array1}')\n",
        "print(f'array2 = {array2}')\n",
        "\n",
        "add = [[], []]\n",
        "for i in range(2):\n",
        "    add[i] = [x + y for x, y in zip(array1[i], array2[i])]\n",
        "print(f'add = {add}')"
      ],
      "metadata": {
        "colab": {
          "base_uri": "https://localhost:8080/"
        },
        "id": "ARQ9GA53eJX2",
        "outputId": "24ae20f8-7c5a-4f46-9ccd-9e9c7999fa0b"
      },
      "execution_count": 32,
      "outputs": [
        {
          "output_type": "stream",
          "name": "stdout",
          "text": [
            "array1 = [[8, 7], [5, 2]]\n",
            "array2 = [[3, 3], [0, 2]]\n",
            "add = [[11, 10], [5, 4]]\n"
          ]
        }
      ]
    },
    {
      "cell_type": "code",
      "source": [
        "array1 = []     # 1차원 리스트들을 저장할 빈 리스트.\n",
        "for _ in range(2):      # 2번 반복\n",
        "    row = []            # 난수들을 저장할 빈 리스트.\n",
        "    for _ in range(2):  # 2번 반복\n",
        "        row.append(random.randrange(10))        # 난수를 row에 추가.\n",
        "    array1.append(row)  # 난수 2개를 갖는 1차원 리스트를 array1에 추가\n",
        "\n",
        "print(f'array1 = {array1}')\n",
        "\n",
        "#------------\n",
        "\n",
        "array2 = [[random.randrange(10) for _ in range(2)] for _ in range(2)]\n",
        "print(f'array2 = {array2}')\n",
        "\n",
        "add = []        # 1차원 배열들을 저장할 빈 배열\n",
        "for row1, row2 in zip(array1, array2):\n",
        "    print(row1, row2)\n",
        "    temp = []   # 덧셈 결과를 저장할 빈 배열\n",
        "    for x, y in zip(row1, row2):\n",
        "        temp.append(x + y)\n",
        "    add.append(temp)\n",
        "add"
      ],
      "metadata": {
        "colab": {
          "base_uri": "https://localhost:8080/"
        },
        "id": "BolSjb5fk4ck",
        "outputId": "4f7583c4-dd97-46e7-8087-371e508a4199"
      },
      "execution_count": 36,
      "outputs": [
        {
          "output_type": "stream",
          "name": "stdout",
          "text": [
            "array1 = [[5, 9], [7, 8]]\n",
            "array2 = [[8, 9], [6, 5]]\n",
            "[5, 9] [8, 9]\n",
            "[7, 8] [6, 5]\n"
          ]
        },
        {
          "output_type": "execute_result",
          "data": {
            "text/plain": [
              "[[13, 18], [13, 13]]"
            ]
          },
          "metadata": {},
          "execution_count": 36
        }
      ]
    },
    {
      "cell_type": "code",
      "source": [
        "[[x + y for x, y in zip(row1, row2)]\n",
        " for row1, row2 in zip(array1, array2)]"
      ],
      "metadata": {
        "colab": {
          "base_uri": "https://localhost:8080/"
        },
        "id": "Jjc-9wMEpNuD",
        "outputId": "1d10cc0c-e92c-4def-a05c-255bdb662d44"
      },
      "execution_count": 37,
      "outputs": [
        {
          "output_type": "execute_result",
          "data": {
            "text/plain": [
              "[[13, 18], [13, 13]]"
            ]
          },
          "metadata": {},
          "execution_count": 37
        }
      ]
    },
    {
      "cell_type": "markdown",
      "source": [
        "# Set(집합)\n",
        "\n",
        "* 중복된 데이터를 허용하지 않음: `{1, 2, 2, 3, 3} = {1, 2, 3}`\n",
        "* 인덱스 기반의 자료 구조가 아님. 인덱스가 없음.\n",
        "    * 데이터의 저장 순서가 중요하지 않음: `{1, 2, 3} = {3, 1, 2}`\n",
        "    * indexing, slicing 기능을 제공하지 않음.\n",
        "    * for-in 구문에서 사용할 수 있는 iterable 타입."
      ],
      "metadata": {
        "id": "sM8b65A-qLZi"
      }
    },
    {
      "cell_type": "code",
      "source": [
        "s = {1, 2, 2, 3, 3}\n",
        "s"
      ],
      "metadata": {
        "colab": {
          "base_uri": "https://localhost:8080/"
        },
        "id": "jcH_qjc8rTYd",
        "outputId": "999b1906-192d-4798-e1e2-5c1c82f74057"
      },
      "execution_count": 38,
      "outputs": [
        {
          "output_type": "execute_result",
          "data": {
            "text/plain": [
              "{1, 2, 3}"
            ]
          },
          "metadata": {},
          "execution_count": 38
        }
      ]
    },
    {
      "cell_type": "code",
      "source": [
        "type(s)"
      ],
      "metadata": {
        "colab": {
          "base_uri": "https://localhost:8080/"
        },
        "id": "aqteaFA8rYdf",
        "outputId": "317e5182-f1ae-4278-9ef6-c3c09afd9c59"
      },
      "execution_count": 39,
      "outputs": [
        {
          "output_type": "execute_result",
          "data": {
            "text/plain": [
              "set"
            ]
          },
          "metadata": {},
          "execution_count": 39
        }
      ]
    },
    {
      "cell_type": "markdown",
      "source": [
        "## Set의 기능(메서드)"
      ],
      "metadata": {
        "id": "Q9BEHoQ4rvI6"
      }
    },
    {
      "cell_type": "code",
      "source": [
        "s.add(5)       # set의 원소 추가\n",
        "print(s)\n",
        "\n",
        "s.add(5)\n",
        "print(s)"
      ],
      "metadata": {
        "colab": {
          "base_uri": "https://localhost:8080/"
        },
        "id": "oZ2XJG7rruDB",
        "outputId": "1b2d2759-2cd1-45d7-e830-7b0991b7492a"
      },
      "execution_count": 49,
      "outputs": [
        {
          "output_type": "stream",
          "name": "stdout",
          "text": [
            "{2, 3, 5}\n",
            "{2, 3, 5}\n"
          ]
        }
      ]
    },
    {
      "cell_type": "code",
      "source": [
        "s.remove(3)     # set의 원소를 삭제. 삭제할 원소를 아규먼트로 전달.\n",
        "s"
      ],
      "metadata": {
        "colab": {
          "base_uri": "https://localhost:8080/"
        },
        "id": "uEMEUg_MscLN",
        "outputId": "6914685b-2ad2-472e-87f5-9fda8f272c27"
      },
      "execution_count": 44,
      "outputs": [
        {
          "output_type": "execute_result",
          "data": {
            "text/plain": [
              "{1, 2, 5}"
            ]
          },
          "metadata": {},
          "execution_count": 44
        }
      ]
    },
    {
      "cell_type": "code",
      "source": [
        "s.pop()         # set 원소 하나를 랜덤으로? 삭제하고 리턴\n",
        "s"
      ],
      "metadata": {
        "colab": {
          "base_uri": "https://localhost:8080/"
        },
        "id": "sVUCDcRVsj41",
        "outputId": "10865657-4ac4-4611-e8c4-8e29717bf67d"
      },
      "execution_count": 46,
      "outputs": [
        {
          "output_type": "execute_result",
          "data": {
            "text/plain": [
              "{5}"
            ]
          },
          "metadata": {},
          "execution_count": 46
        }
      ]
    },
    {
      "cell_type": "code",
      "source": [
        "s1 = {1, 2, 3, 4}\n",
        "s2 = {2, 3, 5, 6}\n",
        "\n",
        "print(s1.union(s2))    # 합집합\n",
        "print(s1.intersection(s2))     # 교집합\n",
        "print(s1.difference(s2))      # 차집합 s1 - s2\n",
        "print(s2.difference(s1))      # 차집합 s2 - s1"
      ],
      "metadata": {
        "colab": {
          "base_uri": "https://localhost:8080/"
        },
        "id": "Vz4xqCrZsq8S",
        "outputId": "6e6b9088-917f-471b-e396-34ca9ddf85c3"
      },
      "execution_count": 51,
      "outputs": [
        {
          "output_type": "stream",
          "name": "stdout",
          "text": [
            "{1, 2, 3, 4, 5, 6}\n",
            "{2, 3}\n",
            "{1, 4}\n",
            "{5, 6}\n"
          ]
        }
      ]
    },
    {
      "cell_type": "markdown",
      "source": [
        "# dict\n",
        "\n",
        "* dictionary(사전) 형식의 데이터 타입.\n",
        "* 키(key)를 기반으로 값(value)를 저장하는 데이터 타입.\n",
        "    * list, tuple: 인덱스 기반의 데이터 타입.\n",
        "    * dict: key-value 기반의 데이터 타입.\n",
        "    * dict에서 key의 역할은 1개 아이템의 값(value)를 찾기 위한 용도."
      ],
      "metadata": {
        "id": "HQGRKkrNvpJ6"
      }
    },
    {
      "cell_type": "code",
      "source": [
        "students = {1: '홍길동', 2: '허균', 3: '오쌤'}\n",
        "print(students)\n",
        "\n",
        "type(students)"
      ],
      "metadata": {
        "colab": {
          "base_uri": "https://localhost:8080/"
        },
        "id": "-LW8Cdtjzij3",
        "outputId": "e8d20e5b-4422-4c3a-de90-fcd5984b8e30"
      },
      "execution_count": 54,
      "outputs": [
        {
          "output_type": "stream",
          "name": "stdout",
          "text": [
            "{1: '홍길동', 2: '허균', 3: '오쌤'}\n"
          ]
        },
        {
          "output_type": "execute_result",
          "data": {
            "text/plain": [
              "dict"
            ]
          },
          "metadata": {},
          "execution_count": 54
        }
      ]
    },
    {
      "cell_type": "markdown",
      "source": [
        "`dict`에서 키를 사용하는 방법은 `list` 또는 `tuple`과 마찬가지로 인덱스 연산자(`[]`)를 사용함."
      ],
      "metadata": {
        "id": "RcXn7CcR0Jh7"
      }
    },
    {
      "cell_type": "code",
      "source": [
        "students[1]     # dict에서 key가 1인 아이템의 value\n",
        "students"
      ],
      "metadata": {
        "colab": {
          "base_uri": "https://localhost:8080/"
        },
        "id": "uYSImPKx0txE",
        "outputId": "171efefc-1670-4d95-b42b-5614c5082fa7"
      },
      "execution_count": 58,
      "outputs": [
        {
          "output_type": "execute_result",
          "data": {
            "text/plain": [
              "{1: '홍길동', 2: '허균', 3: '오쌤', 10: '홍길동'}"
            ]
          },
          "metadata": {},
          "execution_count": 58
        }
      ]
    },
    {
      "cell_type": "code",
      "source": [
        "students[10] = '홍길동' # dict에 새로운 key-value 아이템을 추가 students\n",
        "students"
      ],
      "metadata": {
        "colab": {
          "base_uri": "https://localhost:8080/"
        },
        "id": "-Bf9-k2d1p1A",
        "outputId": "3c852bb2-0feb-4bed-b3d6-48f8acca57ac"
      },
      "execution_count": 59,
      "outputs": [
        {
          "output_type": "execute_result",
          "data": {
            "text/plain": [
              "{1: '홍길동', 2: '허균', 3: '오쌤', 10: '홍길동'}"
            ]
          },
          "metadata": {},
          "execution_count": 59
        }
      ]
    },
    {
      "cell_type": "code",
      "source": [
        "students[3] = 'scott'       # dict에서 key에 해당하는 value를 변경.\n",
        "students"
      ],
      "metadata": {
        "colab": {
          "base_uri": "https://localhost:8080/"
        },
        "id": "mYoHRm4x1fE3",
        "outputId": "4cd27f78-89ee-4b87-d4cb-b3a2358c00af"
      },
      "execution_count": 60,
      "outputs": [
        {
          "output_type": "execute_result",
          "data": {
            "text/plain": [
              "{1: '홍길동', 2: '허균', 3: 'scott', 10: '홍길동'}"
            ]
          },
          "metadata": {},
          "execution_count": 60
        }
      ]
    },
    {
      "cell_type": "code",
      "source": [
        "students.pop(3)         # dict 해당하는 key의 아이템(key: value)을 삭제\n",
        "students"
      ],
      "metadata": {
        "colab": {
          "base_uri": "https://localhost:8080/"
        },
        "id": "wyklUXTV12GA",
        "outputId": "c841822f-8a54-4496-8566-790cff5d8fb9"
      },
      "execution_count": 62,
      "outputs": [
        {
          "output_type": "execute_result",
          "data": {
            "text/plain": [
              "{1: '홍길동', 2: '허균', 10: '홍길동'}"
            ]
          },
          "metadata": {},
          "execution_count": 62
        }
      ]
    },
    {
      "cell_type": "code",
      "source": [
        "book = {\n",
        "    'title': '점프 투 파이썬',\n",
        "    'authors': ['박응용', '웨스 매키니'],\n",
        "    'isbn': 123456789\n",
        "}\n",
        "book"
      ],
      "metadata": {
        "colab": {
          "base_uri": "https://localhost:8080/"
        },
        "id": "haMjN4YN2t__",
        "outputId": "5273269e-e0eb-4a1e-db17-a825255818c9"
      },
      "execution_count": 64,
      "outputs": [
        {
          "output_type": "execute_result",
          "data": {
            "text/plain": [
              "{'title': '점프 투 파이썬', 'authors': ['박응용', '웨스 매키니'], 'isbn': 123456789}"
            ]
          },
          "metadata": {},
          "execution_count": 64
        }
      ]
    },
    {
      "cell_type": "code",
      "source": [
        "book['authors'][0]"
      ],
      "metadata": {
        "colab": {
          "base_uri": "https://localhost:8080/",
          "height": 35
        },
        "id": "AF70wVzi3U2K",
        "outputId": "d90d873c-a547-4927-cc85-9c85ebc3a7ed"
      },
      "execution_count": 66,
      "outputs": [
        {
          "output_type": "execute_result",
          "data": {
            "text/plain": [
              "'박응용'"
            ],
            "application/vnd.google.colaboratory.intrinsic+json": {
              "type": "string"
            }
          },
          "metadata": {},
          "execution_count": 66
        }
      ]
    },
    {
      "cell_type": "markdown",
      "source": [
        "## dict & for"
      ],
      "metadata": {
        "id": "mdFPXJMd3z_h"
      }
    },
    {
      "cell_type": "code",
      "source": [
        "contact = {\n",
        "    'no': 1,\n",
        "    'name': '오쌤',\n",
        "    'phones': ['010-0000-0000', '02-0000-0000'],\n",
        "    'emails': {\n",
        "        'company': 'jake@itwill.co.kr',\n",
        "        'personal': 'jake@naver.com'\n",
        "    }\n",
        "}\n",
        "contact"
      ],
      "metadata": {
        "colab": {
          "base_uri": "https://localhost:8080/"
        },
        "id": "GDjx_RL032tH",
        "outputId": "164f56a8-54d8-4f4c-a366-6d789f61b849"
      },
      "execution_count": 69,
      "outputs": [
        {
          "output_type": "execute_result",
          "data": {
            "text/plain": [
              "{'no': 1,\n",
              " 'name': '오쌤',\n",
              " 'phones': ['010-0000-0000', '02-0000-0000'],\n",
              " 'emails': {'company': 'jake@itwill.co.kr', 'personal': 'jake@naver.com'}}"
            ]
          },
          "metadata": {},
          "execution_count": 69
        }
      ]
    },
    {
      "cell_type": "code",
      "source": [
        "for k in contact:\n",
        "    print(k)"
      ],
      "metadata": {
        "colab": {
          "base_uri": "https://localhost:8080/"
        },
        "id": "qXzX9sh04iMG",
        "outputId": "959f32af-4c37-4c04-84bc-4b0923cc698a"
      },
      "execution_count": 70,
      "outputs": [
        {
          "output_type": "stream",
          "name": "stdout",
          "text": [
            "no\n",
            "name\n",
            "phones\n",
            "emails\n"
          ]
        }
      ]
    },
    {
      "cell_type": "markdown",
      "source": [
        "for-in 구문에서 dict를 사용하면 키(key)를 iteration 함!"
      ],
      "metadata": {
        "id": "GN2u6xD445n3"
      }
    },
    {
      "cell_type": "code",
      "source": [
        "for k in contact:\n",
        "    print(k, ':', contact[k])"
      ],
      "metadata": {
        "colab": {
          "base_uri": "https://localhost:8080/"
        },
        "id": "XiXiFbLK5BBG",
        "outputId": "16e0d99e-862b-4032-ee0f-246a483fc037"
      },
      "execution_count": 73,
      "outputs": [
        {
          "output_type": "stream",
          "name": "stdout",
          "text": [
            "no : 1\n",
            "name : 오쌤\n",
            "phones : ['010-0000-0000', '02-0000-0000']\n",
            "emails : {'company': 'jake@itwill.co.kr', 'personal': 'jake@naver.com'}\n"
          ]
        }
      ]
    },
    {
      "cell_type": "code",
      "source": [
        "contact.keys()      # dict의 key들의 리스트를 리턴.\n",
        "contact.values()    # dict의 value들의 리스트를 리턴.\n",
        "contact.items()     # dict에서 (key, value) 튜플들의 리스트를 리턴."
      ],
      "metadata": {
        "colab": {
          "base_uri": "https://localhost:8080/"
        },
        "id": "CqWbzYSs5gDO",
        "outputId": "50074ea4-9bd5-4abd-ca57-4e9b3477c26b"
      },
      "execution_count": 77,
      "outputs": [
        {
          "output_type": "execute_result",
          "data": {
            "text/plain": [
              "dict_items([('no', 1), ('name', '오쌤'), ('phones', ['010-0000-0000', '02-0000-0000']), ('emails', {'company': 'jake@itwill.co.kr', 'personal': 'jake@naver.com'})])"
            ]
          },
          "metadata": {},
          "execution_count": 77
        }
      ]
    },
    {
      "cell_type": "code",
      "source": [
        "for k, v in contact.items():\n",
        "    print(k, v)"
      ],
      "metadata": {
        "colab": {
          "base_uri": "https://localhost:8080/"
        },
        "id": "9vXVt1lS6zzu",
        "outputId": "7056f288-a546-4d61-b79d-c24c13e01ca5"
      },
      "execution_count": 78,
      "outputs": [
        {
          "output_type": "stream",
          "name": "stdout",
          "text": [
            "no 1\n",
            "name 오쌤\n",
            "phones ['010-0000-0000', '02-0000-0000']\n",
            "emails {'company': 'jake@itwill.co.kr', 'personal': 'jake@naver.com'}\n"
          ]
        }
      ]
    },
    {
      "cell_type": "markdown",
      "source": [
        "## Dictionary Comprehension"
      ],
      "metadata": {
        "id": "94ugHo74_Jav"
      }
    },
    {
      "cell_type": "code",
      "source": [
        "emp_no = [1001, 1002, 2001, 2002]       # 직원 번호\n",
        "emp_name = ['King', 'Scott', 'Allen', 'Tiger']      # 직원 이름"
      ],
      "metadata": {
        "id": "0G4s4dfe_NHU"
      },
      "execution_count": 79,
      "outputs": []
    },
    {
      "cell_type": "code",
      "source": [
        "# emp_no를 key로 하고 emp_name을 value로 dict를 만들고 출력\n",
        "emp = {no : name for no, name in zip(emp_no, emp_name)}\n",
        "emp"
      ],
      "metadata": {
        "colab": {
          "base_uri": "https://localhost:8080/"
        },
        "id": "FUrW40_X_Yj8",
        "outputId": "f80d2c74-11ef-4ffa-8cf8-a24bd434725d"
      },
      "execution_count": 83,
      "outputs": [
        {
          "output_type": "execute_result",
          "data": {
            "text/plain": [
              "{1001: 'King', 1002: 'Scott', 2001: 'Allen', 2002: 'Tiger'}"
            ]
          },
          "metadata": {},
          "execution_count": 83
        }
      ]
    },
    {
      "cell_type": "code",
      "source": [
        "# key-value를 저장할 빈 dict\n",
        "emp = {}\n",
        "emp = dict()    # 비어있는 dict를 만들겠다는 생성자\n",
        "\n",
        "# 리스트의 원소 개수만큼 반복\n",
        "for no, name in zip(emp_no, emp_name):\n",
        "    # dict에 key-value 아이템을 저장\n",
        "    emp[no] = name\n",
        "\n",
        "emp\n"
      ],
      "metadata": {
        "colab": {
          "base_uri": "https://localhost:8080/"
        },
        "id": "WleYPqnWATm0",
        "outputId": "e1478d24-449e-4ea1-acc2-8e08ec67fdad"
      },
      "execution_count": 82,
      "outputs": [
        {
          "output_type": "execute_result",
          "data": {
            "text/plain": [
              "{1001: 'King', 1002: 'Scott', 2001: 'Allen', 2002: 'Tiger'}"
            ]
          },
          "metadata": {},
          "execution_count": 82
        }
      ]
    },
    {
      "cell_type": "markdown",
      "source": [
        "리스트 strings의 문자열을 키로 하고, 그 문자열의 길이를 값으로 하는 dict를 만들고 출력"
      ],
      "metadata": {
        "id": "Kx0rfcuODNSe"
      }
    },
    {
      "cell_type": "code",
      "source": [
        "strings = ['hello', 'java', 'sql', 'python', 'javascript']"
      ],
      "metadata": {
        "colab": {
          "base_uri": "https://localhost:8080/"
        },
        "id": "ijtG5owACP8c",
        "outputId": "af1a56df-7323-4585-e9f9-341185d9f77c"
      },
      "execution_count": 87,
      "outputs": [
        {
          "output_type": "execute_result",
          "data": {
            "text/plain": [
              "{'hello': 5, 'java': 4, 'sql': 3, 'python': 6, 'javascript': 10}"
            ]
          },
          "metadata": {},
          "execution_count": 87
        }
      ]
    },
    {
      "cell_type": "code",
      "source": [
        "string_dict = {s : len(s) for s in strings}\n",
        "string_dict"
      ],
      "metadata": {
        "colab": {
          "base_uri": "https://localhost:8080/"
        },
        "id": "ERWsdTd8DSiF",
        "outputId": "15a6eadb-3980-4563-f3fe-29df1ba5c22f"
      },
      "execution_count": 89,
      "outputs": [
        {
          "output_type": "execute_result",
          "data": {
            "text/plain": [
              "{'hello': 5, 'java': 4, 'sql': 3, 'python': 6, 'javascript': 10}"
            ]
          },
          "metadata": {},
          "execution_count": 89
        }
      ]
    },
    {
      "cell_type": "code",
      "source": [
        "string_lengths = dict() # 빈 dict\n",
        "for s in strings:\n",
        "    string_lengths[s] = len(s)      # 문자열(key)-길이(value) 아이템을 dict에 추가\n",
        "string_lengths"
      ],
      "metadata": {
        "colab": {
          "base_uri": "https://localhost:8080/"
        },
        "id": "qivRSjKADIjj",
        "outputId": "30bdc520-b23d-4092-929b-1846d7999228"
      },
      "execution_count": 88,
      "outputs": [
        {
          "output_type": "execute_result",
          "data": {
            "text/plain": [
              "{'hello': 5, 'java': 4, 'sql': 3, 'python': 6, 'javascript': 10}"
            ]
          },
          "metadata": {},
          "execution_count": 88
        }
      ]
    }
  ]
}