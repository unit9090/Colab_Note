{
  "nbformat": 4,
  "nbformat_minor": 0,
  "metadata": {
    "colab": {
      "provenance": [],
      "authorship_tag": "ABX9TyPdLCRhnHH92cpZOXHLQLjy",
      "include_colab_link": true
    },
    "kernelspec": {
      "name": "python3",
      "display_name": "Python 3"
    },
    "language_info": {
      "name": "python"
    }
  },
  "cells": [
    {
      "cell_type": "markdown",
      "metadata": {
        "id": "view-in-github",
        "colab_type": "text"
      },
      "source": [
        "<a href=\"https://colab.research.google.com/github/unit9090/Colab_Note/blob/main/py05_list.ipynb\" target=\"_parent\"><img src=\"https://colab.research.google.com/assets/colab-badge.svg\" alt=\"Open In Colab\"/></a>"
      ]
    },
    {
      "cell_type": "markdown",
      "source": [
        "# list\n",
        "\n",
        "* 여러 개의 값들을 하나의 변수에 저장하기 위한 데이터 타입.\n",
        "* element(원소, 요소): 리스트에 저장되는 각각의 값.\n",
        "* index(인덱스): 리스트에서 원소가 저장된 위치\n",
        "    * 리스트의 인덱스는 **0**부터 시작.\n",
        "    * 리스트의 마지막 인덱스는 (원소 개수 - 1).\n",
        "* 리스트는 원소들을 추가, 삭제, 변경할 수 있음.\n",
        "    * `tuple`과 다른 점!"
      ],
      "metadata": {
        "id": "LwR2sJlzh0yO"
      }
    },
    {
      "cell_type": "code",
      "execution_count": null,
      "metadata": {
        "colab": {
          "base_uri": "https://localhost:8080/"
        },
        "id": "4GEDVPrPhka-",
        "outputId": "c7712113-a5aa-42e2-dd79-e917c2ab0a01"
      },
      "outputs": [
        {
          "output_type": "execute_result",
          "data": {
            "text/plain": [
              "[1, 2, 3, 10, 20, 30]"
            ]
          },
          "metadata": {},
          "execution_count": 1
        }
      ],
      "source": [
        "# 숫자들을 저장하는 리스트\n",
        "numbers = [1, 2, 3, 10, 20, 30]     # 6개의 원소들을 저장하고 있는 리스트\n",
        "numbers"
      ]
    },
    {
      "cell_type": "markdown",
      "source": [
        "# 인덱싱(indexing)\n",
        "\n",
        "인덱스를 사용해서 리스트의 원소를 참조하는 방법."
      ],
      "metadata": {
        "id": "L16pFebnnoiK"
      }
    },
    {
      "cell_type": "code",
      "source": [
        "numbers[0]  # 리스트 numbers의 인덱스 0 위치의 원소\n",
        "\n",
        "numbers[5]  # 리스트 numbers의 인덱스 5 위치의 원소"
      ],
      "metadata": {
        "colab": {
          "base_uri": "https://localhost:8080/"
        },
        "id": "wHFqIcPSjtu8",
        "outputId": "490ba703-c57d-42aa-b337-dc2052a13341"
      },
      "execution_count": null,
      "outputs": [
        {
          "output_type": "execute_result",
          "data": {
            "text/plain": [
              "30"
            ]
          },
          "metadata": {},
          "execution_count": 3
        }
      ]
    },
    {
      "cell_type": "code",
      "source": [
        "numbers[-1] # 리스트에서 가장 마지막 원소\n",
        "\n",
        "numbers[-2] # 리스트에서 마지막에서 2번째 원소\n",
        "\n",
        "numbers[-6] # 리스트에서 첫번째 원소"
      ],
      "metadata": {
        "colab": {
          "base_uri": "https://localhost:8080/"
        },
        "id": "W3bHMziwoVoz",
        "outputId": "27e84606-2198-449f-dfe9-aa934952811b"
      },
      "execution_count": null,
      "outputs": [
        {
          "output_type": "execute_result",
          "data": {
            "text/plain": [
              "1"
            ]
          },
          "metadata": {},
          "execution_count": 7
        }
      ]
    },
    {
      "cell_type": "markdown",
      "source": [
        "# slicing\n",
        "\n",
        "인덱스를 사용해서 리스트의 부분접합(리스트)를 잘라내는 방법.\n",
        "\n",
        "`list[start:end]`\n",
        "\n",
        "* start <= index < end 범위의 인덱스 위치의 원소들을 잘라냄.\n",
        "* start를 생략한 경우에는 첫번째 원소부터 잘라냄.\n",
        "    * `list[0:5]`과 `list[:5]`는 같은 결과.\n",
        "* end를 생략한 경우에는 마지막 원소까지 잘라냄.\n",
        "* 리스트를 slicing한 결과는 또다른 새로운 **리스트**이다."
      ],
      "metadata": {
        "id": "S5DgxOlRqLxq"
      }
    },
    {
      "cell_type": "code",
      "source": [
        "print(numbers)\n",
        "\n",
        "print(numbers[1:4])     # 1 <= index < 4\n",
        "\n",
        "print(numbers[3:6])     # 3 <= index < 6\n",
        "\n",
        "print(numbers[3:])      # 3 <= index < list.length\n",
        "\n",
        "print(numbers[:3])      # 0 <= index < 3, 리스트에서 앞에서 3개를 선택\n",
        "\n",
        "numbers[-3:]        # 리스트에서 뒤에서 3개"
      ],
      "metadata": {
        "colab": {
          "base_uri": "https://localhost:8080/"
        },
        "id": "0Zhwu6SGreSi",
        "outputId": "e27454f7-44a7-47a0-e806-4075656f39e4"
      },
      "execution_count": null,
      "outputs": [
        {
          "output_type": "stream",
          "name": "stdout",
          "text": [
            "[1, 2, 3, 10, 20, 30]\n",
            "[2, 3, 10]\n",
            "[10, 20, 30]\n",
            "[10, 20, 30]\n",
            "[1, 2, 3]\n"
          ]
        },
        {
          "output_type": "execute_result",
          "data": {
            "text/plain": [
              "[10, 20, 30]"
            ]
          },
          "metadata": {},
          "execution_count": 13
        }
      ]
    },
    {
      "cell_type": "code",
      "source": [
        "print(numbers[0:1])        # slicing -> list\n",
        "\n",
        "print(numbers[0])          # indexing -> 값(숫자)"
      ],
      "metadata": {
        "colab": {
          "base_uri": "https://localhost:8080/"
        },
        "id": "uiKTTppdtXtB",
        "outputId": "13b77457-a4d3-4c6b-b1ed-118945444136"
      },
      "execution_count": null,
      "outputs": [
        {
          "output_type": "stream",
          "name": "stdout",
          "text": [
            "[1]\n",
            "1\n"
          ]
        }
      ]
    },
    {
      "cell_type": "markdown",
      "source": [
        "# 문자열(str)\n",
        "\n",
        "* 문자들의 **리스트**.\n",
        "* 문자열은 인덱스를 사용할 수 있음.\n",
        "* indexing, slicing 가능."
      ],
      "metadata": {
        "id": "qtSqjb0ru-vg"
      }
    },
    {
      "cell_type": "code",
      "source": [
        "message = '안녕하세요, 여러분!'     # 11개의 문자들로 이루어진 리스트.\n",
        "\n",
        "print(message[0])      # 문자열에서 첫번째 문자\n",
        "\n",
        "print(message[-1])     # 문자열에서 마지막 문자\n",
        "\n",
        "print(message[10])     # 문자열에서 마지막 문자\n"
      ],
      "metadata": {
        "colab": {
          "base_uri": "https://localhost:8080/"
        },
        "id": "rHvS9YhQvdvA",
        "outputId": "83e56b38-016b-40be-86ba-d6f3f4a4e16d"
      },
      "execution_count": null,
      "outputs": [
        {
          "output_type": "stream",
          "name": "stdout",
          "text": [
            "안\n",
            "!\n",
            "!\n"
          ]
        }
      ]
    },
    {
      "cell_type": "code",
      "source": [
        "print(message[:3])         # 문자열에서 앞에서 3글자\n",
        "\n",
        "print(message[-3:])        # 문자열에서 뒤에서 3글자"
      ],
      "metadata": {
        "colab": {
          "base_uri": "https://localhost:8080/"
        },
        "id": "EH3J1Sa1wNmZ",
        "outputId": "b0253db5-8a6c-4288-f021-c4e76dc22be3"
      },
      "execution_count": null,
      "outputs": [
        {
          "output_type": "stream",
          "name": "stdout",
          "text": [
            "안녕하\n",
            "러분!\n"
          ]
        }
      ]
    },
    {
      "cell_type": "code",
      "source": [
        "# 문자열 산술 연산: +, *\n",
        "print('hello' + 'python')\n",
        "print('hello' * 3)"
      ],
      "metadata": {
        "colab": {
          "base_uri": "https://localhost:8080/"
        },
        "id": "VwiDDXMpw7jY",
        "outputId": "6405759a-2f2f-4fcf-c5dd-14c9a8646508"
      },
      "execution_count": null,
      "outputs": [
        {
          "output_type": "stream",
          "name": "stdout",
          "text": [
            "hellopython\n",
            "hellohellohello\n"
          ]
        }
      ]
    },
    {
      "cell_type": "markdown",
      "source": [
        "# 리스트의 산술 연산\n",
        "\n",
        "* `list + list`\n",
        "* `list * int` 또는 `int * list`"
      ],
      "metadata": {
        "id": "gf5rnYeexK1_"
      }
    },
    {
      "cell_type": "code",
      "source": [
        "[1, 2, 3] + [4, 5, 6]   # concatenate"
      ],
      "metadata": {
        "colab": {
          "base_uri": "https://localhost:8080/"
        },
        "id": "mvGG60nexjPQ",
        "outputId": "33e399ff-fbda-4168-b53a-adbaaa2a2b8b"
      },
      "execution_count": null,
      "outputs": [
        {
          "output_type": "execute_result",
          "data": {
            "text/plain": [
              "[1, 2, 3, 4, 5, 6]"
            ]
          },
          "metadata": {},
          "execution_count": 22
        }
      ]
    },
    {
      "cell_type": "code",
      "source": [
        "[1, 2, 3] * 3       # replicate"
      ],
      "metadata": {
        "colab": {
          "base_uri": "https://localhost:8080/"
        },
        "id": "vaud9CB5xyBX",
        "outputId": "de02d2e0-8463-4ddf-af48-9ef2d329a316"
      },
      "execution_count": null,
      "outputs": [
        {
          "output_type": "execute_result",
          "data": {
            "text/plain": [
              "[1, 2, 3, 1, 2, 3, 1, 2, 3]"
            ]
          },
          "metadata": {},
          "execution_count": 23
        }
      ]
    },
    {
      "cell_type": "markdown",
      "source": [
        "# list와 for 반복문"
      ],
      "metadata": {
        "id": "0JgIoJ0S2Pgv"
      }
    },
    {
      "cell_type": "code",
      "source": [
        "for x in 'hello':\n",
        "    print(x)"
      ],
      "metadata": {
        "colab": {
          "base_uri": "https://localhost:8080/"
        },
        "id": "dZAvVdOO2SAO",
        "outputId": "2d305119-3dfb-4467-8f03-b77c28a17730"
      },
      "execution_count": null,
      "outputs": [
        {
          "output_type": "stream",
          "name": "stdout",
          "text": [
            "h\n",
            "e\n",
            "l\n",
            "l\n",
            "o\n"
          ]
        }
      ]
    },
    {
      "cell_type": "code",
      "source": [
        "numbers = [1, 10, 5, 100]\n",
        "for x in numbers:\n",
        "    print(x)"
      ],
      "metadata": {
        "colab": {
          "base_uri": "https://localhost:8080/"
        },
        "id": "q_6suybP2axv",
        "outputId": "344009b9-8f5c-47a4-e98c-5c0c7fa409ab"
      },
      "execution_count": null,
      "outputs": [
        {
          "output_type": "stream",
          "name": "stdout",
          "text": [
            "1\n",
            "10\n",
            "5\n",
            "100\n"
          ]
        }
      ]
    },
    {
      "cell_type": "code",
      "source": [
        "# 인덱스와 값을 꺼내고 싶을 때\n",
        "i = 0;\n",
        "while i < len(numbers):\n",
        "    print(i, ':', numbers[i])\n",
        "    i += 1\n",
        "\n",
        "print('-' * 10)\n",
        "\n",
        "for x in range(len(numbers)):       # 0 <= x < len\n",
        "    print(x, ':', numbers[x])"
      ],
      "metadata": {
        "colab": {
          "base_uri": "https://localhost:8080/"
        },
        "id": "a5W8CDTw28ms",
        "outputId": "5b16fcc3-872c-4ea7-a440-b2ae1aaf48df"
      },
      "execution_count": null,
      "outputs": [
        {
          "output_type": "stream",
          "name": "stdout",
          "text": [
            "0 : 1\n",
            "1 : 10\n",
            "2 : 5\n",
            "3 : 100\n",
            "----------\n",
            "0 : 1\n",
            "1 : 10\n",
            "2 : 5\n",
            "3 : 100\n"
          ]
        }
      ]
    },
    {
      "cell_type": "code",
      "source": [
        "# 하지만 파이썬에선 다른 함수를 사용\n",
        "# 파이썬에선 복수의 변수를 선언할 수 있고,\n",
        "# enumerate를 사용하여 인덱스와 값을 함께 출력할 수 있음.\n",
        "# key를 먼저 리턴하고, value를 리턴해준다.\n",
        "for i, v in enumerate(numbers):\n",
        "    print(i, ':', v)"
      ],
      "metadata": {
        "colab": {
          "base_uri": "https://localhost:8080/"
        },
        "id": "y8vtrCkG4Pmu",
        "outputId": "cf65dfb0-1a31-4d76-98e3-9be7a3db3bdc"
      },
      "execution_count": null,
      "outputs": [
        {
          "output_type": "stream",
          "name": "stdout",
          "text": [
            "0 : 1\n",
            "1 : 10\n",
            "2 : 5\n",
            "3 : 100\n"
          ]
        }
      ]
    },
    {
      "cell_type": "code",
      "source": [
        "numbers1 = [1, 2, 3]\n",
        "numbers2 = [10, 11, 12]\n",
        "# numbers1과 numbers2의 같은 인덱스의 원소들끼리의 합을 원소로 갖는 리스트\n",
        "# [11, 13, 15]\n",
        "\n",
        "result = []\n",
        "for i, v in enumerate(numbers1):\n",
        "    result.append(v + numbers2[i])\n",
        "print(result)\n",
        "\n",
        "result1 = []\n",
        "for x in range(len(numbers1)):\n",
        "    result1.append(numbers1[x] + numbers2[x])\n",
        "print(result1)\n",
        "\n",
        "#----------------------------------------------------------\n",
        "resultT = []        # 빈(empty) 리스트\n",
        "for i in range(len(numbers1)):  # 0 <= i <len\n",
        "    resultT.append(numbers1[i] + numbers2[i])\n",
        "print(resultT)\n"
      ],
      "metadata": {
        "colab": {
          "base_uri": "https://localhost:8080/"
        },
        "id": "E3HlPcxX56F6",
        "outputId": "d39412af-9d2e-45b9-df57-392af0857142"
      },
      "execution_count": null,
      "outputs": [
        {
          "output_type": "stream",
          "name": "stdout",
          "text": [
            "[11, 13, 15]\n",
            "[11, 13, 15]\n",
            "[11, 13, 15]\n"
          ]
        }
      ]
    },
    {
      "cell_type": "code",
      "source": [
        "# zip: 같은 위치에 있는 것들끼리 묶어주는 것.\n",
        "# 같은 길이를 가지고 있는 두 개의 값을 묶어주면 같은 인덱스에 있는 값들을 꺼내준다.\n",
        "\n",
        "result = []\n",
        "for x, y in zip(numbers1, numbers2):\n",
        "    result.append(x + y)\n",
        "print(result)"
      ],
      "metadata": {
        "colab": {
          "base_uri": "https://localhost:8080/"
        },
        "id": "-kMpj08n8iKV",
        "outputId": "04529782-5003-445b-8343-222dc382a1dc"
      },
      "execution_count": null,
      "outputs": [
        {
          "output_type": "execute_result",
          "data": {
            "text/plain": [
              "[11, 13, 15]"
            ]
          },
          "metadata": {},
          "execution_count": 44
        }
      ]
    },
    {
      "cell_type": "markdown",
      "source": [
        "파이썬에서 난수를 만드는 방법:"
      ],
      "metadata": {
        "id": "YPz_IWdr-CtN"
      }
    },
    {
      "cell_type": "code",
      "source": [
        "import random   # random 모듈을 임포트"
      ],
      "metadata": {
        "id": "cpcNIYVF-Fr7"
      },
      "execution_count": 5,
      "outputs": []
    },
    {
      "cell_type": "code",
      "source": [
        "# random 모듈의 random() 함수를 호출\n",
        "# random 모듈 안에 들어가 있는 함수(모듈이름.모듈함수)\n",
        "random.random()     # [0, 1) 범위(0 <= x < 1)"
      ],
      "metadata": {
        "colab": {
          "base_uri": "https://localhost:8080/"
        },
        "id": "Cm1ial42-cgE",
        "outputId": "a8f265f6-af1e-4065-8129-9edbf1d71001"
      },
      "execution_count": null,
      "outputs": [
        {
          "output_type": "execute_result",
          "data": {
            "text/plain": [
              "0.39562734939987043"
            ]
          },
          "metadata": {},
          "execution_count": 51
        }
      ]
    },
    {
      "cell_type": "code",
      "source": [
        "# random 모듈의 randrange() 함수를 호출\n",
        "print(random.randrange(10))     # [0, 10) 범위의 정수 난수를 리턴.\n",
        "\n",
        "print(random.randrange(1, 4))   # [1, 4) 범위의 정수 난수를 리턴.\n",
        "\n",
        "print(random.randint(1, 10))    # [1, 10] 범위의 정수 난수를 리턴."
      ],
      "metadata": {
        "colab": {
          "base_uri": "https://localhost:8080/"
        },
        "id": "8u25KjM5_BiA",
        "outputId": "e6567f92-5328-465b-b352-7d259f60b6fa"
      },
      "execution_count": null,
      "outputs": [
        {
          "output_type": "stream",
          "name": "stdout",
          "text": [
            "3\n",
            "2\n",
            "3\n"
          ]
        }
      ]
    },
    {
      "cell_type": "markdown",
      "source": [
        "# Exercises\n",
        "\n",
        "## Ex 1.\n",
        "\n",
        "1. 빈 리스트를 생성.\n",
        "2. 1 이상 10 이하의 정수 난수 5개를 저장.\n",
        "3. 리스트의 모든 정수들의 합을 출력.\n",
        "4. 리스트의 모든 정수들의 평균을 출력.\n",
        "\n",
        "## Ex 2.\n",
        "\n",
        "1. 빈 리스트(numbers)를 생성.\n",
        "2. 10 이상, 100 미만의 정수 난수 10개를 numbers에 저장.\n",
        "3. numbers에서 짝수들만 선택해서 evens 리스트를 만들고 출력.\n",
        "4. numbers에서 홀수들만 선택해서 odds 리스트를 만들고 출력.\n",
        "\n",
        "## Ex 3.\n",
        "\n",
        "1. 빈 리스트 numbers를 만듦.\n",
        "2. -10 이상 10 이하인 범위의 정수 난수 10개를 numbers에 저장.\n",
        "3. numbers의 원소가 양수이면 True, 그렇지 않으면 False를 저장하는 is_positive 4. 리스트를 만들고 출력.\n",
        "\n",
        "## Ex 4.\n",
        "\n",
        "1. gender_codes 리스트에 0 또는 1을 랜덤하게 10개를 저장.\n",
        "2. gender_codes의 값이 0이면 'Male', 그렇지 않으며 'Female'을 저장하는 genders 리스트를 만들고 출력.\n",
        "\n",
        "## Ex 5.\n",
        "1. numbers1: 100 미만의 정수 난수 10개를 저장하는 리스트.\n",
        "2. numbers2: 100 미만의 정수 난수 10개를 저장하는 리스트.\n",
        "3. multiplication: numbers1과 numbers2의 같은 인덱스에 있는 원소들끼리의 곱셈 결과를 저장하는 리스트.\n",
        "4. subtraction: numbers1의 원소에서 같은 인덱스에 있는 numbers2의 원소를 뺀 값을 저장하는 리스트.\n",
        "5. numbers1, numbers2, multiplication, subtraction를 출력."
      ],
      "metadata": {
        "id": "RMt--_BxCSqC"
      }
    },
    {
      "cell_type": "code",
      "source": [
        "# Ex 1\n",
        "ex1 = []\n",
        "\n",
        "# 변수가 사용되지 않으면 언더바(_)로 대체 가능\n",
        "# for _ in range(5)\n",
        "for x in range(5):\n",
        "    # ex1.append(random.randrange(1, 11))\n",
        "    ex1.append(random.randint(1, 10))\n",
        "print(ex1)\n",
        "\n",
        "total = 0\n",
        "for x in ex1:\n",
        "    total += x\n",
        "# 파이썬은 sum이라는 함수가 따로 있음.\n",
        "# total = sum(ex1)\n",
        "# sum이란 함수가 있어서 변수 이름을 sum이라고 선언하면,\n",
        "# 그 아래부턴 sum 함수를 사용하지 못함.\n",
        "\n",
        "avg = total / len(ex1)\n",
        "\n",
        "print(f'total = {total}, avg = {avg}')"
      ],
      "metadata": {
        "colab": {
          "base_uri": "https://localhost:8080/"
        },
        "id": "yU89Xg_3CZPy",
        "outputId": "ae11e228-8236-41a9-a3d8-05028416a4b6"
      },
      "execution_count": 6,
      "outputs": [
        {
          "output_type": "stream",
          "name": "stdout",
          "text": [
            "[3, 2, 6, 4, 4]\n",
            "total = 19, avg = 3.8\n"
          ]
        }
      ]
    },
    {
      "cell_type": "code",
      "source": [
        "# Ex 2\n",
        "ex2 = []\n",
        "for x in range(10):\n",
        "    ex2.append(random.randrange(10, 100))\n",
        "print(f'ex2 = {ex2}')\n",
        "\n",
        "evens = []      # 짝수들을 저장할 빈 리스트\n",
        "odds = []       # 홀수들을 저장할 빈 리스트\n",
        "for x in ex2:       # 리스트 ex2의 원소들을 순서대로 반복하면서\n",
        "    if x % 2:       # 리스트에서 찾은 값을 2로 나눈 나머지가 있으면(홀수이면)\n",
        "        odds.append(x)\n",
        "    else:\n",
        "        evens.append(x)\n",
        "print(f'odds: {odds}')\n",
        "print(f'evens: {evens}')"
      ],
      "metadata": {
        "colab": {
          "base_uri": "https://localhost:8080/"
        },
        "id": "oxy4MA2jDazl",
        "outputId": "6f612c80-4972-4581-cc57-a7ee4b9f4ecf"
      },
      "execution_count": null,
      "outputs": [
        {
          "output_type": "stream",
          "name": "stdout",
          "text": [
            "[88, 85, 81, 54, 88, 25, 12, 58, 51, 87]\n",
            "odds: [85, 81, 25, 51, 87]\n",
            "evens: [88, 54, 88, 12, 58]\n"
          ]
        }
      ]
    },
    {
      "cell_type": "code",
      "source": [
        "# EX 3\n",
        "ex3 = []\n",
        "for x in range(10):\n",
        "    ex3.append(random.randint(-10, 10))\n",
        "    # ex3.append(random.randrange(-10, 11))\n",
        "print(f'ex3 = {ex3}')\n",
        "\n",
        "is_positive = []\n",
        "for x in ex3:\n",
        "    if x < 0:\n",
        "        is_positive.append(False)\n",
        "    else:\n",
        "        is_positive.append(True)\n",
        "print(f'is_positive = {is_positive}')"
      ],
      "metadata": {
        "colab": {
          "base_uri": "https://localhost:8080/"
        },
        "id": "3nSmK0i2D-xS",
        "outputId": "85cc82f5-999d-4f26-c387-2d1e52e25988"
      },
      "execution_count": null,
      "outputs": [
        {
          "output_type": "stream",
          "name": "stdout",
          "text": [
            "ex3 = [-2, 8, 0, 10, 5, -5, 4, 6, 9, 9]\n",
            "is_positive = [False, True, True, True, True, False, True, True, True, True]\n"
          ]
        }
      ]
    },
    {
      "cell_type": "code",
      "source": [
        "# Ex 4\n",
        "gender_codes = []\n",
        "for x in range(10):\n",
        "    gender_codes.append(random.randint(0, 1))\n",
        "print(f'gender_codes = {gender_codes}')\n",
        "\n",
        "gender = []\n",
        "for x in gender_codes:\n",
        "    if x:\n",
        "        gender.append('Female')\n",
        "    else:\n",
        "        gender.append('Male')\n",
        "print(f'gender = {gender}')"
      ],
      "metadata": {
        "colab": {
          "base_uri": "https://localhost:8080/"
        },
        "id": "q6PqDqKAF5ox",
        "outputId": "ee783463-b0b0-4315-a6d9-d8ba3d7af8ef"
      },
      "execution_count": null,
      "outputs": [
        {
          "output_type": "stream",
          "name": "stdout",
          "text": [
            "gender_codes = [0, 0, 1, 1, 0, 1, 0, 1, 0, 1]\n",
            "gender = ['Male', 'Male', 'Female', 'Female', 'Male', 'Female', 'Male', 'Female', 'Male', 'Female']\n"
          ]
        }
      ]
    },
    {
      "cell_type": "code",
      "source": [
        "# Ex 5\n",
        "numbers1 = []\n",
        "numbers2 = []\n",
        "\n",
        "for x in range(10):\n",
        "    numbers1.append(random.randrange(100))\n",
        "    numbers2.append(random.randrange(100))\n",
        "print(f'numbers1 = {numbers1}')\n",
        "print(f'numbers2 = {numbers2}')\n",
        "\n",
        "multiplication = []\n",
        "subtraction = []\n",
        "for m1, m2 in zip(numbers1, numbers2):\n",
        "    multiplication.append(m1 * m2)\n",
        "    subtraction.append(m1 - m2)\n",
        "\n",
        "print(f'multiplication = {multiplication}')\n",
        "print(f'subtraction = {subtraction}')"
      ],
      "metadata": {
        "colab": {
          "base_uri": "https://localhost:8080/"
        },
        "id": "h076f2-GGX7R",
        "outputId": "9896df69-0e07-4bf1-c4a0-fa6c622375cd"
      },
      "execution_count": null,
      "outputs": [
        {
          "output_type": "stream",
          "name": "stdout",
          "text": [
            "numbers1 = [12, 91, 5, 16, 99, 14, 14, 76, 22, 24]\n",
            "numbers2 = [25, 11, 56, 18, 32, 3, 98, 22, 26, 4]\n",
            "multiplication = [300, 1001, 280, 288, 3168, 42, 1372, 1672, 572, 96]\n",
            "subtraction = [-13, 80, -51, -2, 67, 11, -84, 54, -4, 20]\n"
          ]
        }
      ]
    },
    {
      "cell_type": "markdown",
      "source": [
        "# List comprehension(리스트 내포)"
      ],
      "metadata": {
        "id": "9dNwtK5tsUPF"
      }
    },
    {
      "cell_type": "markdown",
      "source": [
        "1 ~ 10 정수들을 순서대로 리스트에 저장: [1, 2, 3, ... , 9, 10]"
      ],
      "metadata": {
        "id": "9mmQy07Hs6qG"
      }
    },
    {
      "cell_type": "code",
      "source": [
        "numbers = []\n",
        "\n",
        "for x in range(1, 11):\n",
        "    numbers.append(x)\n",
        "\n",
        "numbers"
      ],
      "metadata": {
        "colab": {
          "base_uri": "https://localhost:8080/"
        },
        "id": "yKt_YTuTtBAA",
        "outputId": "4fcf18e2-897b-4b4f-e267-976ae0c8d633"
      },
      "execution_count": 7,
      "outputs": [
        {
          "output_type": "execute_result",
          "data": {
            "text/plain": [
              "[1, 2, 3, 4, 5, 6, 7, 8, 9, 10]"
            ]
          },
          "metadata": {},
          "execution_count": 7
        }
      ]
    },
    {
      "cell_type": "code",
      "source": [
        "# List comprehension(리스트 내포) 활용\n",
        "numbers = [x for x in range(1, 11)]\n",
        "numbers"
      ],
      "metadata": {
        "colab": {
          "base_uri": "https://localhost:8080/"
        },
        "id": "6wV9lBXmtXpU",
        "outputId": "fde940e7-44b2-4f39-d00f-a1360e907751"
      },
      "execution_count": 9,
      "outputs": [
        {
          "output_type": "execute_result",
          "data": {
            "text/plain": [
              "[1, 2, 3, 4, 5, 6, 7, 8, 9, 10]"
            ]
          },
          "metadata": {},
          "execution_count": 9
        }
      ]
    },
    {
      "cell_type": "code",
      "source": [
        "# result = [1, 4, 9, 16, .., 81, 100] 제곱근들을 저장하는 List comprehension\n",
        "squares = [x ** 2 for x in range(1, 11)]\n",
        "# squares = [x * x for x in range(1, 11)]\n",
        "squares"
      ],
      "metadata": {
        "colab": {
          "base_uri": "https://localhost:8080/"
        },
        "id": "puNRK1xyt3f7",
        "outputId": "85f3d632-943d-455f-9333-c0358f2de41d"
      },
      "execution_count": 11,
      "outputs": [
        {
          "output_type": "execute_result",
          "data": {
            "text/plain": [
              "[1, 4, 9, 16, 25, 36, 49, 64, 81, 100]"
            ]
          },
          "metadata": {},
          "execution_count": 11
        }
      ]
    },
    {
      "cell_type": "code",
      "source": [
        "# [0, 10) 범위위 난수 10개를 저장하는 리스트\n",
        "numbers = [random.randrange(10) for _ in range(10)]\n",
        "numbers"
      ],
      "metadata": {
        "colab": {
          "base_uri": "https://localhost:8080/"
        },
        "id": "K3K21laCu2BM",
        "outputId": "5f8d28c7-87b9-4379-b41b-77ee273e3a0d"
      },
      "execution_count": 13,
      "outputs": [
        {
          "output_type": "execute_result",
          "data": {
            "text/plain": [
              "[2, 6, 1, 4, 4, 3, 7, 5, 7, 4]"
            ]
          },
          "metadata": {},
          "execution_count": 13
        }
      ]
    },
    {
      "cell_type": "markdown",
      "source": [
        "## Ex1 ~ Ex5 연습문제를 list comprehension을 사용하여 작성.\n",
        "\n",
        "*   filtering:\n",
        "\n",
        "    [value for x in iterable if condition]\n",
        "*   mapping:\n",
        "\n",
        "    [value if condition else value2 for x in iterable]"
      ],
      "metadata": {
        "id": "Qzsryqdozaai"
      }
    },
    {
      "cell_type": "markdown",
      "source": [
        "### EX1"
      ],
      "metadata": {
        "id": "uSbP0xE61VHa"
      }
    },
    {
      "cell_type": "code",
      "source": [
        "# EX1\n",
        "numbers = [random.randrange(1, 11) for _ in range(5)]\n",
        "print(numbers)\n",
        "\n",
        "total = sum(numbers)\n",
        "avg = total / len(numbers)\n",
        "print(f'total = {total}, avg = {avg}')"
      ],
      "metadata": {
        "colab": {
          "base_uri": "https://localhost:8080/"
        },
        "id": "_5fzg2lqvbMz",
        "outputId": "9b95ca6b-9150-4f8f-eefe-98c24e31fe2e"
      },
      "execution_count": 25,
      "outputs": [
        {
          "output_type": "stream",
          "name": "stdout",
          "text": [
            "[3, 8, 6, 1, 3]\n",
            "total = 21, avg = 4.2\n"
          ]
        }
      ]
    },
    {
      "cell_type": "markdown",
      "source": [
        "### EX2"
      ],
      "metadata": {
        "id": "qXLkIbYh1XeR"
      }
    },
    {
      "cell_type": "code",
      "source": [
        "# EX2\n",
        "numbers = [random.randrange(10, 100) for _ in range(10)]\n",
        "print(numbers)\n",
        "\n",
        "odds = [x for x in numbers if x % 2]\n",
        "evens = [x for x in numbers if x % 2 == 0]\n",
        "print(f'odds = {odds}')\n",
        "print(f'evens = {evens}')"
      ],
      "metadata": {
        "colab": {
          "base_uri": "https://localhost:8080/"
        },
        "id": "aX1e2Fsnv4Cl",
        "outputId": "4f2e8a9e-1adf-4c8c-b9dc-7e2f97a7535f"
      },
      "execution_count": 18,
      "outputs": [
        {
          "output_type": "stream",
          "name": "stdout",
          "text": [
            "[42, 44, 29, 85, 97, 62, 37, 60, 48, 60]\n",
            "odds = [29, 85, 97, 37]\n",
            "evens = [42, 44, 62, 60, 48, 60]\n"
          ]
        }
      ]
    },
    {
      "cell_type": "markdown",
      "source": [
        "### EX3"
      ],
      "metadata": {
        "id": "hCReeH771Zny"
      }
    },
    {
      "cell_type": "code",
      "source": [
        "# EX3\n",
        "numbers = [random.randrange(-10, 11) for _ in range(10)]\n",
        "print(numbers)\n",
        "\n",
        "# 삼항 연산자\n",
        "# x = 1\n",
        "# is_positive1 = True if x > 0 else False\n",
        "# 결과값: True\n",
        "\n",
        "is_positive = [True if x > 0 else False for x in numbers]\n",
        "print(is_positive)"
      ],
      "metadata": {
        "colab": {
          "base_uri": "https://localhost:8080/"
        },
        "id": "Qu4UPbOaxMRD",
        "outputId": "690bf3ff-4dff-4387-e4c9-875dac245b91"
      },
      "execution_count": 27,
      "outputs": [
        {
          "output_type": "stream",
          "name": "stdout",
          "text": [
            "[-10, -6, 6, 7, 5, -10, -4, 0, 5, -3]\n",
            "[False, False, True, True, True, False, False, False, True, False]\n"
          ]
        }
      ]
    },
    {
      "cell_type": "markdown",
      "source": [
        "### EX4"
      ],
      "metadata": {
        "id": "nsEXz3vT1bB7"
      }
    },
    {
      "cell_type": "code",
      "source": [
        "# EX4\n",
        "gender_codes = [random.randrange(0, 2) for _ in range(10)]\n",
        "print(gender_codes)\n",
        "\n",
        "genders = ['Male' if x == 0 else 'Female' for x in gender_codes]\n",
        "print('genders =', genders)"
      ],
      "metadata": {
        "colab": {
          "base_uri": "https://localhost:8080/"
        },
        "id": "gxokPFMNxzIz",
        "outputId": "eb963c6e-5933-402a-bb38-9cbcf67856ae"
      },
      "execution_count": 28,
      "outputs": [
        {
          "output_type": "stream",
          "name": "stdout",
          "text": [
            "[1, 1, 1, 0, 0, 1, 1, 1, 1, 1]\n",
            "genders =  ['Female', 'Female', 'Female', 'Male', 'Male', 'Female', 'Female', 'Female', 'Female', 'Female']\n"
          ]
        }
      ]
    },
    {
      "cell_type": "markdown",
      "source": [
        "### EX5"
      ],
      "metadata": {
        "id": "afQjloC_1dKR"
      }
    },
    {
      "cell_type": "code",
      "source": [
        "# EX5\n",
        "numbers1 = [random.randrange(100) for _ in range(10)]\n",
        "numbers2 = [random.randrange(100) for _ in range(10)]\n",
        "\n",
        "print(f'numbers1 = {numbers1}')\n",
        "print(f'numbers2 = {numbers2}')\n",
        "\n",
        "multiplication = [x * y for x, y in zip(numbers1, numbers2)]\n",
        "subtraction = [x - y for x, y in zip(numbers1, numbers2)]\n",
        "\n",
        "print(f'multiplication = {multiplication}')\n",
        "print(f'subtraction = {subtraction}')"
      ],
      "metadata": {
        "colab": {
          "base_uri": "https://localhost:8080/"
        },
        "id": "18hppObwyRdq",
        "outputId": "8def7082-5458-42fb-ade3-104a8e4007a8"
      },
      "execution_count": 29,
      "outputs": [
        {
          "output_type": "stream",
          "name": "stdout",
          "text": [
            "numbers1 = [95, 0, 39, 47, 65, 65, 82, 66, 95, 64]\n",
            "numbers2 = [28, 62, 33, 13, 23, 77, 72, 99, 73, 43]\n",
            "multiplication = [2660, 0, 1287, 611, 1495, 5005, 5904, 6534, 6935, 2752]\n",
            "subtraction = [67, -62, 6, 34, 42, -12, 10, -33, 22, 21]\n"
          ]
        }
      ]
    },
    {
      "cell_type": "markdown",
      "source": [
        "### EX6 추가 문제"
      ],
      "metadata": {
        "id": "jQFm4_kzA4Y3"
      }
    },
    {
      "cell_type": "code",
      "source": [
        "gender_code = [1, 2, 1, 2, 3]\n",
        "\n",
        "# 1 -? 'M', 2 -> 'F', 3 -> 'Unknown' mapping\n",
        "\n",
        "gender = ['M' if x == 1 else 'F' if x == 2 else 'Unknown'\n",
        "            for x in gender_code]\n",
        "\n",
        "# gender = ['M' if x == 1 else ('F' if x == 2 else 'Unknown')\n",
        "#               for x in gender_codes]\n",
        "\n",
        "print(f'gender = {gender}')"
      ],
      "metadata": {
        "colab": {
          "base_uri": "https://localhost:8080/"
        },
        "id": "2EVCVJF6A8Xe",
        "outputId": "649a95cc-0fc5-4149-900d-4a219abc6946"
      },
      "execution_count": 31,
      "outputs": [
        {
          "output_type": "stream",
          "name": "stdout",
          "text": [
            "gender = ['M', 'F', 'M', 'F', 'Unknown']\n"
          ]
        }
      ]
    }
  ]
}