{
  "nbformat": 4,
  "nbformat_minor": 0,
  "metadata": {
    "colab": {
      "provenance": [],
      "authorship_tag": "ABX9TyMdxapf8mIqlRpnD1BK1U7w",
      "include_colab_link": true
    },
    "kernelspec": {
      "name": "python3",
      "display_name": "Python 3"
    },
    "language_info": {
      "name": "python"
    }
  },
  "cells": [
    {
      "cell_type": "markdown",
      "metadata": {
        "id": "view-in-github",
        "colab_type": "text"
      },
      "source": [
        "<a href=\"https://colab.research.google.com/github/unit9090/Colab_Note/blob/main/py08_function.ipynb\" target=\"_parent\"><img src=\"https://colab.research.google.com/assets/colab-badge.svg\" alt=\"Open In Colab\"/></a>"
      ]
    },
    {
      "cell_type": "markdown",
      "source": [
        "# 1급 객체(first-class object)로서의 함수\n",
        "\n",
        "* 함수는 변수에 할당할 수 있음.\n",
        "* 함수의 파라미터에 아규먼트로 다른 함수를 전달할 수 있음.\n",
        "    * 함수는 아규먼트가 될 수 있음.\n",
        "* 함수는 다른 함수의 리턴 값이 될 수 있음.\n",
        "* 함수 내부에서 다른 함수를 정의할 수 있음."
      ],
      "metadata": {
        "id": "2kW9mZxNxMHh"
      }
    },
    {
      "cell_type": "markdown",
      "source": [
        "## 함수를 변수에 할당"
      ],
      "metadata": {
        "id": "gaRMTcNqyKZh"
      }
    },
    {
      "cell_type": "code",
      "execution_count": 1,
      "metadata": {
        "id": "rI1GhVHDxCvc"
      },
      "outputs": [],
      "source": [
        "def twice(x):\n",
        "    return 2 * x"
      ]
    },
    {
      "cell_type": "code",
      "source": [
        "result = twice(100)     # 함수 호출 결과(리턴 값)을 변수에 저장.\n",
        "result"
      ],
      "metadata": {
        "colab": {
          "base_uri": "https://localhost:8080/"
        },
        "id": "k0x_D2YmyQFp",
        "outputId": "d047b8e1-362a-4bb6-c013-a49d0a67137a"
      },
      "execution_count": 2,
      "outputs": [
        {
          "output_type": "execute_result",
          "data": {
            "text/plain": [
              "200"
            ]
          },
          "metadata": {},
          "execution_count": 2
        }
      ]
    },
    {
      "cell_type": "code",
      "source": [
        "double = twice      # 함수(객체)를 변수에 저장.\n",
        "double"
      ],
      "metadata": {
        "colab": {
          "base_uri": "https://localhost:8080/"
        },
        "id": "2h4onc8ayleI",
        "outputId": "0fb06794-bdec-46d3-d3b1-4f9e1808f1d4"
      },
      "execution_count": 4,
      "outputs": [
        {
          "output_type": "execute_result",
          "data": {
            "text/plain": [
              "<function __main__.twice(x)>"
            ]
          },
          "metadata": {},
          "execution_count": 4
        }
      ]
    },
    {
      "cell_type": "code",
      "source": [
        "double(12)"
      ],
      "metadata": {
        "colab": {
          "base_uri": "https://localhost:8080/"
        },
        "id": "ae6lep4Dy99Q",
        "outputId": "1a46cc57-645e-4961-ef11-fe232306d252"
      },
      "execution_count": 5,
      "outputs": [
        {
          "output_type": "execute_result",
          "data": {
            "text/plain": [
              "24"
            ]
          },
          "metadata": {},
          "execution_count": 5
        }
      ]
    },
    {
      "cell_type": "markdown",
      "source": [
        "## 함수를 아규먼트로 사용"
      ],
      "metadata": {
        "id": "D7wJpuLczAyp"
      }
    },
    {
      "cell_type": "code",
      "source": [
        "def calculate(x, y, fn):\n",
        "    result = fn(x, y)\n",
        "    return result"
      ],
      "metadata": {
        "id": "tT66cwtqy_4o"
      },
      "execution_count": 6,
      "outputs": []
    },
    {
      "cell_type": "code",
      "source": [
        "def plus(x, y):\n",
        "    return x + y"
      ],
      "metadata": {
        "id": "Ky0P77gizKD4"
      },
      "execution_count": 7,
      "outputs": []
    },
    {
      "cell_type": "code",
      "source": [
        "calculate(1, 2, plus)"
      ],
      "metadata": {
        "colab": {
          "base_uri": "https://localhost:8080/"
        },
        "id": "MGSqs4mmzfK4",
        "outputId": "8336dec9-cc53-459f-b90c-4de130babaf0"
      },
      "execution_count": 9,
      "outputs": [
        {
          "output_type": "execute_result",
          "data": {
            "text/plain": [
              "3"
            ]
          },
          "metadata": {},
          "execution_count": 9
        }
      ]
    },
    {
      "cell_type": "code",
      "source": [
        "def minus(x, y):\n",
        "    return x - y"
      ],
      "metadata": {
        "id": "xXZ8OOkQ0IsA"
      },
      "execution_count": 10,
      "outputs": []
    },
    {
      "cell_type": "code",
      "source": [
        "calculate(1, 2, minus)"
      ],
      "metadata": {
        "colab": {
          "base_uri": "https://localhost:8080/"
        },
        "id": "wmz_s45c0MLP",
        "outputId": "8657a3ff-03a8-4363-d50f-43a21dafd4ac"
      },
      "execution_count": 11,
      "outputs": [
        {
          "output_type": "execute_result",
          "data": {
            "text/plain": [
              "-1"
            ]
          },
          "metadata": {},
          "execution_count": 11
        }
      ]
    },
    {
      "cell_type": "markdown",
      "source": [
        "## 내부 함수, 함수 리턴"
      ],
      "metadata": {
        "id": "b7c6ga931NY4"
      }
    },
    {
      "cell_type": "code",
      "source": [
        "def make_increment(n):  # 외부 함수\n",
        "    def add_n(x):       # 내부 함수. 지역 함수.\n",
        "        return x + n    # 내부 함수는 외부 함수의 지역 변수(파라미터 포함)들을 사용할 수 있음.\n",
        "\n",
        "    return add_n"
      ],
      "metadata": {
        "id": "wfQ-3fyz0OaP"
      },
      "execution_count": 14,
      "outputs": []
    },
    {
      "cell_type": "code",
      "source": [
        "increase_by_2 = make_increment(2)\n",
        "increase_by_2"
      ],
      "metadata": {
        "colab": {
          "base_uri": "https://localhost:8080/"
        },
        "id": "V-zKmt9S14Pi",
        "outputId": "e2f53b6b-4832-4351-b07c-5d6548a3a19d"
      },
      "execution_count": 15,
      "outputs": [
        {
          "output_type": "execute_result",
          "data": {
            "text/plain": [
              "<function __main__.make_increment.<locals>.add_n(x)>"
            ]
          },
          "metadata": {},
          "execution_count": 15
        }
      ]
    },
    {
      "cell_type": "code",
      "source": [
        "increase_by_2(100)"
      ],
      "metadata": {
        "colab": {
          "base_uri": "https://localhost:8080/"
        },
        "id": "apNc8DUu1_C3",
        "outputId": "7cc1c4d4-d1c8-4a59-de1e-34bee153cff5"
      },
      "execution_count": 16,
      "outputs": [
        {
          "output_type": "execute_result",
          "data": {
            "text/plain": [
              "102"
            ]
          },
          "metadata": {},
          "execution_count": 16
        }
      ]
    },
    {
      "cell_type": "code",
      "source": [
        "increase_by_10 = make_increment(10)\n",
        "increase_by_10(100)"
      ],
      "metadata": {
        "colab": {
          "base_uri": "https://localhost:8080/"
        },
        "id": "-_rfSZc52OB3",
        "outputId": "19745a8a-47a7-401d-b148-26837f5b3b74"
      },
      "execution_count": 17,
      "outputs": [
        {
          "output_type": "execute_result",
          "data": {
            "text/plain": [
              "110"
            ]
          },
          "metadata": {},
          "execution_count": 17
        }
      ]
    },
    {
      "cell_type": "code",
      "source": [
        "make_increment(5)(100)"
      ],
      "metadata": {
        "colab": {
          "base_uri": "https://localhost:8080/"
        },
        "id": "sHh35qTo4BLa",
        "outputId": "c8ab77b3-90d5-486a-e079-96a520758e41"
      },
      "execution_count": 18,
      "outputs": [
        {
          "output_type": "execute_result",
          "data": {
            "text/plain": [
              "105"
            ]
          },
          "metadata": {},
          "execution_count": 18
        }
      ]
    },
    {
      "cell_type": "markdown",
      "source": [
        "# Lambda expression(람다 표현식)\n",
        "\n",
        "```\n",
        "lambda param1, param2, ... : expression\n",
        "```\n",
        "\n",
        "* 이름이 없는 함수 표기법\n",
        "* 함수 이름 없이 함수의 파라미터 선언과 반환 값 또는 반환 식으로만 함수를 정의하는 방법.\n",
        "* 파이썬은 2줄 이상의 문장이 포함된 람다 표현식 문법을 제공하지 않음."
      ],
      "metadata": {
        "id": "uEEJr1OV8W1u"
      }
    },
    {
      "cell_type": "code",
      "source": [
        "minus = lambda x, y : x - y\n",
        "minus"
      ],
      "metadata": {
        "colab": {
          "base_uri": "https://localhost:8080/"
        },
        "id": "LjTGIB6j9eHN",
        "outputId": "3e43da9c-a2fa-4be3-f3e2-7e8d5810922c"
      },
      "execution_count": 20,
      "outputs": [
        {
          "output_type": "execute_result",
          "data": {
            "text/plain": [
              "<function __main__.<lambda>(x, y)>"
            ]
          },
          "metadata": {},
          "execution_count": 20
        }
      ]
    },
    {
      "cell_type": "code",
      "source": [
        "minus(1, 2)"
      ],
      "metadata": {
        "colab": {
          "base_uri": "https://localhost:8080/"
        },
        "id": "eKCNFHxO9isd",
        "outputId": "8956f219-0bed-44b4-ec1f-951854c24f12"
      },
      "execution_count": 21,
      "outputs": [
        {
          "output_type": "execute_result",
          "data": {
            "text/plain": [
              "-1"
            ]
          },
          "metadata": {},
          "execution_count": 21
        }
      ]
    },
    {
      "cell_type": "code",
      "source": [
        "calculate(2, 3, lambda x, y : x * y)"
      ],
      "metadata": {
        "colab": {
          "base_uri": "https://localhost:8080/"
        },
        "id": "FZD2naM39pSd",
        "outputId": "07fcd5dd-1425-4fbb-cbc5-a3344b1e1302"
      },
      "execution_count": 22,
      "outputs": [
        {
          "output_type": "execute_result",
          "data": {
            "text/plain": [
              "6"
            ]
          },
          "metadata": {},
          "execution_count": 22
        }
      ]
    },
    {
      "cell_type": "code",
      "source": [
        "calculate(2, 3, lambda x, y : x / y)"
      ],
      "metadata": {
        "colab": {
          "base_uri": "https://localhost:8080/"
        },
        "id": "0Td8wnYp-uba",
        "outputId": "000636c6-a4ff-4c36-c784-4bce4633210f"
      },
      "execution_count": 23,
      "outputs": [
        {
          "output_type": "execute_result",
          "data": {
            "text/plain": [
              "0.6666666666666666"
            ]
          },
          "metadata": {},
          "execution_count": 23
        }
      ]
    },
    {
      "cell_type": "markdown",
      "source": [
        "Ex1. calculate 함수에 2개의 숫자 중에서 더 큰 수를 리턴하는 람다 표현식을 전달"
      ],
      "metadata": {
        "id": "SuBSCPjg_TCE"
      }
    },
    {
      "cell_type": "code",
      "source": [
        "calculate(3, 5, lambda x, y : x if x > y else y)"
      ],
      "metadata": {
        "colab": {
          "base_uri": "https://localhost:8080/"
        },
        "id": "Zsxrkpe_-x9D",
        "outputId": "2a02d284-caae-42dc-b0db-3792e526edd8"
      },
      "execution_count": 28,
      "outputs": [
        {
          "output_type": "execute_result",
          "data": {
            "text/plain": [
              "5"
            ]
          },
          "metadata": {},
          "execution_count": 28
        }
      ]
    },
    {
      "cell_type": "markdown",
      "source": [
        "Ex 2. calculate 함수에, 첫번째 아규먼트가 크면 True 그렇지 않으면 False를 리턴하는 람다 표현식을 전달"
      ],
      "metadata": {
        "id": "hyiOozw9_fzk"
      }
    },
    {
      "cell_type": "code",
      "source": [
        "calculate(5, 22, lambda x, y : True if x > y else False)\n",
        "calculate(5, 22, lambda x, y : x > y)"
      ],
      "metadata": {
        "colab": {
          "base_uri": "https://localhost:8080/"
        },
        "id": "TC-c_9lt_nzV",
        "outputId": "96e8847b-15f0-40d9-90ee-e20acc9eff5c"
      },
      "execution_count": 30,
      "outputs": [
        {
          "output_type": "execute_result",
          "data": {
            "text/plain": [
              "False"
            ]
          },
          "metadata": {},
          "execution_count": 30
        }
      ]
    },
    {
      "cell_type": "markdown",
      "source": [
        "## filter 함수\n",
        "\n",
        "조건에 맞는 원소들만 선택."
      ],
      "metadata": {
        "id": "oK7nQvVoCFR1"
      }
    },
    {
      "cell_type": "code",
      "source": [
        "def my_filter(iterable, fn):\n",
        "    '''\n",
        "    리스트 iterable의 원소들 중에서 함수 fn의 호출 결과 값이 True인 원소들로만 이루어진 리스트를 리턴.\n",
        "\n",
        "    Param iterable: 리스트\n",
        "    Param fn: 아규먼트가 1개이고, True/False를 리턴하는 함수\n",
        "    '''\n",
        "\n",
        "    return [x for x in iterable if fn(x)]"
      ],
      "metadata": {
        "id": "mlcpsZQiCJa9"
      },
      "execution_count": 45,
      "outputs": []
    },
    {
      "cell_type": "code",
      "source": [
        "def teacher_filter(iterable, fn):\n",
        "\n",
        "    return [x for x in iterable if fn(x)]\n",
        "\n",
        "    result = []     # 필터링된 원소들을 저장할 빈 리스트\n",
        "    for x in iterable:      # 리스트의 원소들을 순서대로 반복하면서,\n",
        "        if fn(x):           # 그 원소를 함수에게 전달했을 때 True를 리턴하면\n",
        "            # 필터링 조건을 만족하면\n",
        "            result.append(x)    # 결과 리스트에 필터링된 원소를 추가\n",
        "    return result       # 필터링된 결과를 가지고 있는 리스트를 리턴."
      ],
      "metadata": {
        "id": "6l6qo6rgJRaq"
      },
      "execution_count": 46,
      "outputs": []
    },
    {
      "cell_type": "code",
      "source": [
        "num_list = [1, 2, 3, 4, 5, 6, 7, 8, 9, 10]\n",
        "ex_1 = my_filter(num_list, lambda x : x % 2 == 0)\n",
        "print(ex_1)\n",
        "ex_2 = my_filter(num_list, lambda x : x % 5 == 0)\n",
        "print(ex_2)\n",
        "\n",
        "numbers = [1, -2, 3, 4, -5, -6, 7]\n",
        "teacher_filter(numbers, lambda x : x > 0)\n"
      ],
      "metadata": {
        "colab": {
          "base_uri": "https://localhost:8080/"
        },
        "id": "5iLdAnpTCsnE",
        "outputId": "daebb04d-370b-4cbd-be04-4c46f2788c9f"
      },
      "execution_count": 56,
      "outputs": [
        {
          "output_type": "stream",
          "name": "stdout",
          "text": [
            "[2, 4, 6, 8, 10]\n",
            "[5, 10]\n"
          ]
        },
        {
          "output_type": "execute_result",
          "data": {
            "text/plain": [
              "[1, 3, 4, 7]"
            ]
          },
          "metadata": {},
          "execution_count": 56
        }
      ]
    },
    {
      "cell_type": "code",
      "source": [
        "strings = ['python', 'java', 'javascript', 'sql']\n",
        "\n",
        "# my_filter 함수를 사용해서 strings에서 5글자 이상인 문자열들만 필터링\n",
        "my_filter(strings, lambda x : len(x) >= 5)"
      ],
      "metadata": {
        "colab": {
          "base_uri": "https://localhost:8080/"
        },
        "id": "FuKUK8kXMnHZ",
        "outputId": "c9a478fb-d5d5-4d94-baac-fcfbdf24ebc0"
      },
      "execution_count": 48,
      "outputs": [
        {
          "output_type": "execute_result",
          "data": {
            "text/plain": [
              "['python', 'javascript']"
            ]
          },
          "metadata": {},
          "execution_count": 48
        }
      ]
    },
    {
      "cell_type": "markdown",
      "source": [
        "## map 함수\n",
        "\n",
        "원소들을 규칙에 따라서 다른 값으로 변환."
      ],
      "metadata": {
        "id": "4zLcet3zOEUR"
      }
    },
    {
      "cell_type": "code",
      "source": [
        "def my_mapper(iterable, fn):\n",
        "    '''\n",
        "    리스트 iterable의 원소들을 함수 fn의 리턴 값으로 변환한 리스트를 리턴.\n",
        "\n",
        "    Param iterable: 리스트.\n",
        "    Param fn: 아규먼트가 1개이고 리턴 값이 있는 함수.\n",
        "    '''\n",
        "\n",
        "    return [fn(x) for x in iterable]\n",
        "\n",
        "    result = []\n",
        "    for x in iterable:\n",
        "        result.append(fn(x))\n",
        "    return result"
      ],
      "metadata": {
        "id": "MXiWCsvSOLzy"
      },
      "execution_count": 50,
      "outputs": []
    },
    {
      "cell_type": "code",
      "source": [
        "# numbers = [1, 2, 3, 4, 5, 6, 7, 8, 9, 10]\n",
        "\n",
        "ex1 = my_mapper(numbers, lambda x : x ** 2)\n",
        "print(ex1)\n",
        "\n",
        "ex2 = my_mapper(strings, lambda x : 'a' in x)\n",
        "print(ex2)"
      ],
      "metadata": {
        "colab": {
          "base_uri": "https://localhost:8080/"
        },
        "id": "f-zdeWHoOgKg",
        "outputId": "89efe353-f9c7-4e5e-c9c9-2d6eca919371"
      },
      "execution_count": 55,
      "outputs": [
        {
          "output_type": "stream",
          "name": "stdout",
          "text": [
            "[1, 4, 9, 16, 25, 36, 49, 64, 81, 100]\n",
            "[False, True, True, False]\n"
          ]
        }
      ]
    },
    {
      "cell_type": "code",
      "source": [
        "# 리스트 numbers의 원소들의 제곱으로 이루어진 리스트\n",
        "my_mapper(numbers, lambda x : x ** 2)"
      ],
      "metadata": {
        "colab": {
          "base_uri": "https://localhost:8080/"
        },
        "id": "n2uExpQyQfBw",
        "outputId": "e1868479-de61-4853-c052-41c193082835"
      },
      "execution_count": 60,
      "outputs": [
        {
          "output_type": "execute_result",
          "data": {
            "text/plain": [
              "[1, 4, 9, 16, 25, 36, 49]"
            ]
          },
          "metadata": {},
          "execution_count": 60
        }
      ]
    },
    {
      "cell_type": "code",
      "source": [
        "# 리스트 numbers의 원소가 짝수이면 'even', 홀수이면 'odd'를 저장하는 리스트\n",
        "my_mapper(numbers, lambda x : 'odd' if x % 2 else 'even')"
      ],
      "metadata": {
        "colab": {
          "base_uri": "https://localhost:8080/"
        },
        "id": "E3D52Pb_Qhf_",
        "outputId": "57dfe017-be70-4e39-e94a-fc2e0303e923"
      },
      "execution_count": 58,
      "outputs": [
        {
          "output_type": "execute_result",
          "data": {
            "text/plain": [
              "['odd', 'even', 'odd', 'even', 'odd', 'even', 'odd']"
            ]
          },
          "metadata": {},
          "execution_count": 58
        }
      ]
    },
    {
      "cell_type": "code",
      "source": [
        "# strings가 가지고 있는 문자열의 길이들로 이루어진 list\n",
        "my_mapper(strings, lambda x : len(x))"
      ],
      "metadata": {
        "colab": {
          "base_uri": "https://localhost:8080/"
        },
        "id": "7h5Adb9ZRzB3",
        "outputId": "a0b9ff06-4868-4794-9eda-30f2453f2fbf"
      },
      "execution_count": 61,
      "outputs": [
        {
          "output_type": "execute_result",
          "data": {
            "text/plain": [
              "[6, 4, 10, 3]"
            ]
          },
          "metadata": {},
          "execution_count": 61
        }
      ]
    },
    {
      "cell_type": "code",
      "source": [
        "# strings의 문자열들을 모두 대문자로 변환한 리스트\n",
        "my_mapper(strings, lambda x : x.upper())    # 소문자 lower()"
      ],
      "metadata": {
        "colab": {
          "base_uri": "https://localhost:8080/"
        },
        "id": "hqZJloqyR9d_",
        "outputId": "d3c620c3-c37c-4da4-d451-e5f6301ff8f4"
      },
      "execution_count": 64,
      "outputs": [
        {
          "output_type": "execute_result",
          "data": {
            "text/plain": [
              "['PYTHON', 'JAVA', 'JAVASCRIPT', 'SQL']"
            ]
          },
          "metadata": {},
          "execution_count": 64
        }
      ]
    }
  ]
}