{
  "nbformat": 4,
  "nbformat_minor": 0,
  "metadata": {
    "colab": {
      "provenance": [],
      "authorship_tag": "ABX9TyOIz9hOf0eXO/Pg/xIBXHnQ",
      "include_colab_link": true
    },
    "kernelspec": {
      "name": "python3",
      "display_name": "Python 3"
    },
    "language_info": {
      "name": "python"
    }
  },
  "cells": [
    {
      "cell_type": "markdown",
      "metadata": {
        "id": "view-in-github",
        "colab_type": "text"
      },
      "source": [
        "<a href=\"https://colab.research.google.com/github/unit9090/Colab_Note/blob/main/py03_conditional.ipynb\" target=\"_parent\"><img src=\"https://colab.research.google.com/assets/colab-badge.svg\" alt=\"Open In Colab\"/></a>"
      ]
    },
    {
      "cell_type": "markdown",
      "source": [
        "# else가 없는 조건문\n",
        "\n",
        "-- `<pre></pre>` : 백쿼트(`) 3개로 시작해서 3개로 닫는다.\n",
        "\n",
        "```\n",
        "if 조건식:\n",
        "    조건식이 참일 때 실행할 코드 (블록)\n",
        "```\n",
        "\n",
        "* `if 조건식` 뒤에는 반드시 콜론(:)을 사용해야 함.\n",
        "* 코드 블록을 작성할 때 `{}`를 사용하지 않음.\n",
        "* `if` 블록 안의 문장들은 반드시 **같은 크기로 들여쓰기(indentation)**을 해야 함."
      ],
      "metadata": {
        "id": "FotI_YJLxXOr"
      }
    },
    {
      "cell_type": "code",
      "execution_count": 5,
      "metadata": {
        "id": "MPjI4LpPxN0G"
      },
      "outputs": [],
      "source": [
        "n = -100"
      ]
    },
    {
      "cell_type": "code",
      "source": [
        "if n > 0:\n",
        "    print('양수')\n",
        "    print('if 블록 끝')\n",
        "print('if 블록 바깥')   # if 블록과 상관없이 무조건 실행하는 문장."
      ],
      "metadata": {
        "id": "5zO3Rj9dzNAx"
      },
      "execution_count": 9,
      "outputs": []
    },
    {
      "cell_type": "markdown",
      "source": [
        "# else가 있는 조건문\n",
        "\n",
        "```\n",
        "if 조건문:\n",
        "    참일 때 실행할 코드 블록\n",
        "else:\n",
        "    거짓일 때 실행할 코드 블록\n",
        "```"
      ],
      "metadata": {
        "id": "QTkLeOQG0zxC"
      }
    },
    {
      "cell_type": "code",
      "source": [
        "n = 123\n",
        "if n % 2:            # n % 2 == 1\n",
        "    print('홀수')\n",
        "else:\n",
        "    print('짝수')"
      ],
      "metadata": {
        "colab": {
          "base_uri": "https://localhost:8080/"
        },
        "id": "8H9fsfVq1dsb",
        "outputId": "5c1b1ac5-f10a-4e86-f83b-be4294977fdb"
      },
      "execution_count": 11,
      "outputs": [
        {
          "output_type": "stream",
          "name": "stdout",
          "text": [
            "홀수\n"
          ]
        }
      ]
    },
    {
      "cell_type": "markdown",
      "source": [
        "파이썬에서 참(True)로 취급하는 값:\n",
        "\n",
        "* 0이 아닌 숫자들.\n",
        "* 1개 이상의 문자를 가지고 있는 문자열\n",
        "* 1개 이상의 원소를 가지고 있는 리스트(와 비슷한 객체)"
      ],
      "metadata": {
        "id": "bD99dfDW2VR5"
      }
    },
    {
      "cell_type": "markdown",
      "source": [
        "# chained conditional\n",
        "\n",
        "```\n",
        "if 조건식1:\n",
        "    조건식1이 참일 때 실행할 코드 블록\n",
        "elif 조건식2:\n",
        "    조건식1이 거짓이고 조건식2가 참일 때 실행할 코드 블록\n",
        "\n",
        "...\n",
        "\n",
        "else:\n",
        "    위에 모든 조건이 거짓일 때 실행할 코드 블록\n",
        "```"
      ],
      "metadata": {
        "id": "Bkyr5rDj2-Ag"
      }
    },
    {
      "cell_type": "markdown",
      "source": [
        "Ex1. 정수 3개를 입력받고 변수에 저장. 평균이 90 이상이면 'A', 80 이상이면 'B', 70 이상이면 'C', 70 미만이면 'F'를 출력"
      ],
      "metadata": {
        "id": "g2fY6VBv36Ty"
      }
    },
    {
      "cell_type": "code",
      "source": [
        "x = int(input('첫번째 정수 입력 >>>'))\n",
        "y = int(input('두번째 정수 입력 >>>'))\n",
        "z = int(input('세번째 정수 입력 >>>'))\n",
        "\n",
        "avg = (x + y + z) / 3;\n",
        "print(f'평균은 {avg}')\n",
        "\n",
        "if(avg >= 90):\n",
        "    print('A')\n",
        "elif(avg >= 80):\n",
        "    print('B')\n",
        "elif(avg >= 70):\n",
        "    print('C')\n",
        "else:\n",
        "    print('F')"
      ],
      "metadata": {
        "colab": {
          "base_uri": "https://localhost:8080/"
        },
        "id": "KBsCHgWy4LdI",
        "outputId": "631febbe-0b85-44c5-b4d9-d835d03cffc0"
      },
      "execution_count": 15,
      "outputs": [
        {
          "output_type": "stream",
          "name": "stdout",
          "text": [
            "첫번째 정수 입력 >>>34\n",
            "두번째 정수 입력 >>>59\n",
            "세번째 정수 입력 >>>70\n",
            "평균은 54.333333333333336\n",
            "F\n"
          ]
        }
      ]
    }
  ]
}