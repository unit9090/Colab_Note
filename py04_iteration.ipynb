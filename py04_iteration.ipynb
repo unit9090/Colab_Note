{
  "nbformat": 4,
  "nbformat_minor": 0,
  "metadata": {
    "colab": {
      "provenance": [],
      "authorship_tag": "ABX9TyPaO9YHHQRHLW22nq1k8klY",
      "include_colab_link": true
    },
    "kernelspec": {
      "name": "python3",
      "display_name": "Python 3"
    },
    "language_info": {
      "name": "python"
    }
  },
  "cells": [
    {
      "cell_type": "markdown",
      "metadata": {
        "id": "view-in-github",
        "colab_type": "text"
      },
      "source": [
        "<a href=\"https://colab.research.google.com/github/unit9090/Colab_Note/blob/main/py04_iteration.ipynb\" target=\"_parent\"><img src=\"https://colab.research.google.com/assets/colab-badge.svg\" alt=\"Open In Colab\"/></a>"
      ]
    },
    {
      "cell_type": "markdown",
      "source": [
        "# for 반복문\n",
        "\n",
        "```\n",
        "for 변수 in iterable_type:\n",
        "    반복해서 실행할 코드 블록\n",
        "```\n",
        "\n",
        "* iterable_type: 반복 가능한 타입\n",
        "    * range, list, tuple, dict, set, str, ...\n",
        "\n",
        "* `range()` 함수:\n",
        "    * `range(stop)`: 0 <= x < stop 범위의 1씩 증가하는 정수들을 차례로 반환.\n",
        "    * `range(start, stop)`: start <= x < stop 범위의 1씩 증가하는 정수들을 차례로 반환.\n",
        "    * `range(start, stop, step)`:\n",
        "        * step > 0: start <= x < stop 범위의 step만큼씩 증가하는 정수들을 차례로 반환.\n",
        "        * step < 0: start >= x > stop 범위의 step 만큼씩 감소하는 정수들을 차례로 반환.\n"
      ],
      "metadata": {
        "id": "aHTb-cGkL5-7"
      }
    },
    {
      "cell_type": "code",
      "execution_count": 1,
      "metadata": {
        "colab": {
          "base_uri": "https://localhost:8080/"
        },
        "id": "bI0PujuXLqu5",
        "outputId": "20e73a80-7658-44be-f87c-8e15b62b9c7b"
      },
      "outputs": [
        {
          "output_type": "stream",
          "name": "stdout",
          "text": [
            "0\n",
            "1\n",
            "2\n",
            "3\n",
            "4\n"
          ]
        }
      ],
      "source": [
        "for x in  range(5):     # 0 <= x < 5\n",
        "    print(x)"
      ]
    },
    {
      "cell_type": "code",
      "source": [
        "for x in range(1, 6):       # 1 <= X < 6\n",
        "    print(x)"
      ],
      "metadata": {
        "colab": {
          "base_uri": "https://localhost:8080/"
        },
        "id": "vkVwihYnPEN9",
        "outputId": "3cd3de1f-a130-41b7-9a85-6ca99c4e7a88"
      },
      "execution_count": 2,
      "outputs": [
        {
          "output_type": "stream",
          "name": "stdout",
          "text": [
            "1\n",
            "2\n",
            "3\n",
            "4\n",
            "5\n"
          ]
        }
      ]
    },
    {
      "cell_type": "code",
      "source": [
        "for x in range(0, 11, 2):      # (0, 2, 4, 6, 8, 10)\n",
        "    print(x)"
      ],
      "metadata": {
        "colab": {
          "base_uri": "https://localhost:8080/"
        },
        "id": "LTfM2ASzPiDi",
        "outputId": "e611f3ba-a6a8-4329-cc8d-aa373ce1c748"
      },
      "execution_count": 3,
      "outputs": [
        {
          "output_type": "stream",
          "name": "stdout",
          "text": [
            "0\n",
            "2\n",
            "4\n",
            "6\n",
            "8\n",
            "10\n"
          ]
        }
      ]
    },
    {
      "cell_type": "code",
      "source": [
        "for x in range(10, -1, -2):\n",
        "    print(x)"
      ],
      "metadata": {
        "colab": {
          "base_uri": "https://localhost:8080/"
        },
        "id": "VVUPoJTDPpvh",
        "outputId": "eab67239-59d1-40b8-8509-8e0d47b6891f"
      },
      "execution_count": 7,
      "outputs": [
        {
          "output_type": "stream",
          "name": "stdout",
          "text": [
            "10\n",
            "8\n",
            "6\n",
            "4\n",
            "2\n",
            "0\n"
          ]
        }
      ]
    },
    {
      "cell_type": "markdown",
      "source": [
        "# 중첩 반복문\n",
        "\n",
        "```\n",
        "for x in iterable1:\n",
        "    for y in iterable2:\n",
        "        코드 블록\n",
        "```"
      ],
      "metadata": {
        "id": "pu5SPPUVQNSb"
      }
    },
    {
      "cell_type": "markdown",
      "source": [
        "구구단 2단부터 9단까지 출력"
      ],
      "metadata": {
        "id": "NtMSLSFVQdzQ"
      }
    },
    {
      "cell_type": "code",
      "source": [
        "for x in range(2, 10):\n",
        "    print('-' * 10 + f'{x}단' + '-' * 10)\n",
        "    for y in range(1, 10):\n",
        "        print(f'{x} X {y} = {x * y}')"
      ],
      "metadata": {
        "colab": {
          "base_uri": "https://localhost:8080/"
        },
        "id": "E7koPVktQciq",
        "outputId": "60a5325d-1cc5-42eb-9485-fa9accc03d53"
      },
      "execution_count": 13,
      "outputs": [
        {
          "output_type": "stream",
          "name": "stdout",
          "text": [
            "----------2단----------\n",
            "2 X 1 = 2\n",
            "2 X 2 = 4\n",
            "2 X 3 = 6\n",
            "2 X 4 = 8\n",
            "2 X 5 = 10\n",
            "2 X 6 = 12\n",
            "2 X 7 = 14\n",
            "2 X 8 = 16\n",
            "2 X 9 = 18\n",
            "----------3단----------\n",
            "3 X 1 = 3\n",
            "3 X 2 = 6\n",
            "3 X 3 = 9\n",
            "3 X 4 = 12\n",
            "3 X 5 = 15\n",
            "3 X 6 = 18\n",
            "3 X 7 = 21\n",
            "3 X 8 = 24\n",
            "3 X 9 = 27\n",
            "----------4단----------\n",
            "4 X 1 = 4\n",
            "4 X 2 = 8\n",
            "4 X 3 = 12\n",
            "4 X 4 = 16\n",
            "4 X 5 = 20\n",
            "4 X 6 = 24\n",
            "4 X 7 = 28\n",
            "4 X 8 = 32\n",
            "4 X 9 = 36\n",
            "----------5단----------\n",
            "5 X 1 = 5\n",
            "5 X 2 = 10\n",
            "5 X 3 = 15\n",
            "5 X 4 = 20\n",
            "5 X 5 = 25\n",
            "5 X 6 = 30\n",
            "5 X 7 = 35\n",
            "5 X 8 = 40\n",
            "5 X 9 = 45\n",
            "----------6단----------\n",
            "6 X 1 = 6\n",
            "6 X 2 = 12\n",
            "6 X 3 = 18\n",
            "6 X 4 = 24\n",
            "6 X 5 = 30\n",
            "6 X 6 = 36\n",
            "6 X 7 = 42\n",
            "6 X 8 = 48\n",
            "6 X 9 = 54\n",
            "----------7단----------\n",
            "7 X 1 = 7\n",
            "7 X 2 = 14\n",
            "7 X 3 = 21\n",
            "7 X 4 = 28\n",
            "7 X 5 = 35\n",
            "7 X 6 = 42\n",
            "7 X 7 = 49\n",
            "7 X 8 = 56\n",
            "7 X 9 = 63\n",
            "----------8단----------\n",
            "8 X 1 = 8\n",
            "8 X 2 = 16\n",
            "8 X 3 = 24\n",
            "8 X 4 = 32\n",
            "8 X 5 = 40\n",
            "8 X 6 = 48\n",
            "8 X 7 = 56\n",
            "8 X 8 = 64\n",
            "8 X 9 = 72\n",
            "----------9단----------\n",
            "9 X 1 = 9\n",
            "9 X 2 = 18\n",
            "9 X 3 = 27\n",
            "9 X 4 = 36\n",
            "9 X 5 = 45\n",
            "9 X 6 = 54\n",
            "9 X 7 = 63\n",
            "9 X 8 = 72\n",
            "9 X 9 = 81\n"
          ]
        }
      ]
    },
    {
      "cell_type": "markdown",
      "source": [
        "문자열에서 사용 가능한 산술 연산자:\n",
        "\n",
        "* 문자열 `+` 문자열: 문자열 이어붙이기(concatenate)\n",
        "* 문자열 `*` 정수 OR 정수 `*` 문자열: 문자열 반복해서 복사하기"
      ],
      "metadata": {
        "id": "MEk27KUgTCNZ"
      }
    },
    {
      "cell_type": "markdown",
      "source": [
        "# break와 continue\n",
        "\n",
        "* `break`: 반복(interation)을 종료. break가 포함된 가장 가까운 반복문을 빠져나옴.\n",
        "* `continue`: 반복문 내부의 실행을 멈추고, 그 다음 interation을 계속해서 수행."
      ],
      "metadata": {
        "id": "v6tqf15OT_O4"
      }
    },
    {
      "cell_type": "code",
      "source": [
        "for x in range(5):\n",
        "    if x == 2:\n",
        "        break\n",
        "    print(x)"
      ],
      "metadata": {
        "colab": {
          "base_uri": "https://localhost:8080/"
        },
        "id": "H2MZueCiTgS_",
        "outputId": "74377ebd-bdbc-4502-cd3a-3a43508e1545"
      },
      "execution_count": 14,
      "outputs": [
        {
          "output_type": "stream",
          "name": "stdout",
          "text": [
            "0\n",
            "1\n"
          ]
        }
      ]
    },
    {
      "cell_type": "code",
      "source": [
        "for x in range(5):\n",
        "    if x == 2:\n",
        "        continue\n",
        "    print(x)"
      ],
      "metadata": {
        "colab": {
          "base_uri": "https://localhost:8080/"
        },
        "id": "ZLxFTf6wVQtw",
        "outputId": "bf206fb5-aedd-4deb-b155-1fa774e08e87"
      },
      "execution_count": 15,
      "outputs": [
        {
          "output_type": "stream",
          "name": "stdout",
          "text": [
            "0\n",
            "1\n",
            "3\n",
            "4\n"
          ]
        }
      ]
    },
    {
      "cell_type": "markdown",
      "source": [
        "다음과 같이 출력.\n",
        "\n",
        "```\n",
        "2 x 1 = 2\n",
        "2 x 2 = 4\n",
        "----------\n",
        "3 x 1 = 3\n",
        "3 x 2 = 6\n",
        "3 x 3 = 9\n",
        "----------\n",
        "...\n",
        "----------\n",
        "5 x 1 = 5\n",
        "..\n",
        "5 x 5 = 25\n",
        "----------\n",
        "```"
      ],
      "metadata": {
        "id": "YZaOQG2pWQfI"
      }
    },
    {
      "cell_type": "code",
      "source": [
        "for x in range(2, 6):\n",
        "    for y in range(1, 10):\n",
        "        if(x < y):\n",
        "            break\n",
        "        print(f'{x} X {y} = {x * y}')\n",
        "    print('-' * 10)"
      ],
      "metadata": {
        "colab": {
          "base_uri": "https://localhost:8080/"
        },
        "id": "jZ_9Xw1jWmmr",
        "outputId": "2202c1a1-f54f-4d95-ff8b-a4ab01a9c6bc"
      },
      "execution_count": 20,
      "outputs": [
        {
          "output_type": "stream",
          "name": "stdout",
          "text": [
            "2 X 1 = 2\n",
            "2 X 2 = 4\n",
            "----------\n",
            "3 X 1 = 3\n",
            "3 X 2 = 6\n",
            "3 X 3 = 9\n",
            "----------\n",
            "4 X 1 = 4\n",
            "4 X 2 = 8\n",
            "4 X 3 = 12\n",
            "4 X 4 = 16\n",
            "----------\n",
            "5 X 1 = 5\n",
            "5 X 2 = 10\n",
            "5 X 3 = 15\n",
            "5 X 4 = 20\n",
            "5 X 5 = 25\n",
            "----------\n"
          ]
        }
      ]
    },
    {
      "cell_type": "code",
      "source": [
        "for x in range(2, 6):\n",
        "    for y in range(1, x + 1):\n",
        "        print(f'{x} x {y} = {x + y}')\n",
        "    print('-' * 10)"
      ],
      "metadata": {
        "colab": {
          "base_uri": "https://localhost:8080/"
        },
        "id": "0yiLdP3ichKm",
        "outputId": "287f77ab-2ec9-4685-b41b-7adac32f01d8"
      },
      "execution_count": 21,
      "outputs": [
        {
          "output_type": "stream",
          "name": "stdout",
          "text": [
            "2 x 1 = 3\n",
            "2 x 2 = 4\n",
            "----------\n",
            "3 x 1 = 4\n",
            "3 x 2 = 5\n",
            "3 x 3 = 6\n",
            "----------\n",
            "4 x 1 = 5\n",
            "4 x 2 = 6\n",
            "4 x 3 = 7\n",
            "4 x 4 = 8\n",
            "----------\n",
            "5 x 1 = 6\n",
            "5 x 2 = 7\n",
            "5 x 3 = 8\n",
            "5 x 4 = 9\n",
            "5 x 5 = 10\n",
            "----------\n"
          ]
        }
      ]
    },
    {
      "cell_type": "markdown",
      "source": [
        "# while 반복문\n",
        "\n",
        "```\n",
        "[초기화 문장]\n",
        "while 조건식:\n",
        "    반복할 코드 블록\n",
        "    [조건(변수)를 변경하는 문장]\n",
        "```"
      ],
      "metadata": {
        "id": "4UNSLHllcgze"
      }
    },
    {
      "cell_type": "markdown",
      "source": [
        "다음과 같이 출력.\n",
        "\n",
        "```\n",
        "*\n",
        "**\n",
        "***\n",
        "****\n",
        "*****\n",
        "```"
      ],
      "metadata": {
        "id": "1ZuQIMYSdild"
      }
    },
    {
      "cell_type": "code",
      "source": [
        "n = 1\n",
        "while n <= 5:\n",
        "    print('*' * n)\n",
        "    n += 1      # 파이썬은 ++, -- 연산자는 없음."
      ],
      "metadata": {
        "colab": {
          "base_uri": "https://localhost:8080/"
        },
        "id": "jwr494tqdnr4",
        "outputId": "ef1e7a77-aab0-4b8e-d75c-4dfe93bc5b5b"
      },
      "execution_count": 25,
      "outputs": [
        {
          "output_type": "stream",
          "name": "stdout",
          "text": [
            "*\n",
            "**\n",
            "***\n",
            "****\n",
            "*****\n"
          ]
        }
      ]
    },
    {
      "cell_type": "markdown",
      "source": [
        "1 이상 10 미만의 홀수들을 출력하는 코드를 while 문으로 작성."
      ],
      "metadata": {
        "id": "iRn1tAiGgTD8"
      }
    },
    {
      "cell_type": "code",
      "source": [
        "n = 1\n",
        "while n < 10:\n",
        "    print(n)\n",
        "    n += 2"
      ],
      "metadata": {
        "colab": {
          "base_uri": "https://localhost:8080/"
        },
        "id": "ghdr1fvvgXbX",
        "outputId": "14c5f10e-0729-4bb6-f1da-0b534b31bef3"
      },
      "execution_count": 30,
      "outputs": [
        {
          "output_type": "stream",
          "name": "stdout",
          "text": [
            "1\n",
            "3\n",
            "5\n",
            "7\n",
            "9\n"
          ]
        }
      ]
    }
  ]
}