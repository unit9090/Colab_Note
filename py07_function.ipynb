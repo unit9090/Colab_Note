{
  "nbformat": 4,
  "nbformat_minor": 0,
  "metadata": {
    "colab": {
      "provenance": [],
      "authorship_tag": "ABX9TyM31SqkolQjHA4cb7wWYDRa",
      "include_colab_link": true
    },
    "kernelspec": {
      "name": "python3",
      "display_name": "Python 3"
    },
    "language_info": {
      "name": "python"
    }
  },
  "cells": [
    {
      "cell_type": "markdown",
      "metadata": {
        "id": "view-in-github",
        "colab_type": "text"
      },
      "source": [
        "<a href=\"https://colab.research.google.com/github/unit9090/Colab_Note/blob/main/py07_function.ipynb\" target=\"_parent\"><img src=\"https://colab.research.google.com/assets/colab-badge.svg\" alt=\"Open In Colab\"/></a>"
      ]
    },
    {
      "cell_type": "markdown",
      "source": [
        "# Function(함수)"
      ],
      "metadata": {
        "id": "_mHLs1mUFD17"
      }
    },
    {
      "cell_type": "markdown",
      "source": [
        "* function(함수): 기능을 수행하는 코드 블록.\n",
        "* argument: 함수를 호출하는 곳에서 함수에게 전달하는 값(들).\n",
        "* parameter: argument를 저장하기 위해서 함수 선언부에서 선언하는 지역 변수.\n",
        "* return value: 함수가 기능의 수행 결과로 리턴하는 값.\n",
        "    * return value가 있는 함수\n",
        "    * return value가 없는 함수\n",
        "* 파이썬 함수 정의 방법:\n",
        "    ```\n",
        "    def function_name([param, ...]):\n",
        "        [\"\"\" 문서화 주석 - 함수 기능 설명, 파라미터 설명, 리턴 값 설명 \"\"\"]\n",
        "        함수 기능 구현\n",
        "        [return 값]\n",
        "    ```\n",
        "* return value가 없는 경우에,\n",
        "    * return 문장을 생략.\n",
        "    * return None 명시할 수도 있음."
      ],
      "metadata": {
        "id": "jjY3rI58FGji"
      }
    },
    {
      "cell_type": "code",
      "execution_count": null,
      "metadata": {
        "id": "0PLaBc-tE1Dc"
      },
      "outputs": [],
      "source": [
        "# 함수\n",
        "def subtract(x, y):     # 함수 정의\n",
        "    \"\"\" 2개의 숫자 x, y를 전달받아서 x - y 결과를 리턴하는 함수. \"\"\"\n",
        "    return x - y\n",
        "\n",
        "# 실행해야지 함수를 사용할 수 있음"
      ]
    },
    {
      "cell_type": "code",
      "source": [
        "result = subtract(1, 2)     # 함수 실행\n",
        "result"
      ],
      "metadata": {
        "colab": {
          "base_uri": "https://localhost:8080/"
        },
        "id": "BFR1O70DIR3z",
        "outputId": "ed3c5d77-217f-4c42-9fac-dbd6662f454a"
      },
      "execution_count": null,
      "outputs": [
        {
          "output_type": "execute_result",
          "data": {
            "text/plain": [
              "-1"
            ]
          },
          "metadata": {},
          "execution_count": 3
        }
      ]
    },
    {
      "cell_type": "code",
      "source": [
        "def repeat_message(message, n):\n",
        "    \"\"\" 문자열(message)과 양의 정수(n)을 전달받아서, message를 n번 출력하는 함수.\n",
        "    \"\"\"\n",
        "    for _ in range(n):\n",
        "        print(message)\n",
        "\n",
        "    return None\n",
        "    # 리턴 값이 없으면 보통 return 문을 생략하지만, return None으로 명시하기도 함."
      ],
      "metadata": {
        "id": "G8Sowaz6JE-q"
      },
      "execution_count": null,
      "outputs": []
    },
    {
      "cell_type": "code",
      "source": [
        "repeat_message('안녕하세요', 3)"
      ],
      "metadata": {
        "colab": {
          "base_uri": "https://localhost:8080/"
        },
        "id": "OFzGiG9tJxMC",
        "outputId": "c28780ce-1dc2-4f8f-af5c-d415e9d8e73c"
      },
      "execution_count": null,
      "outputs": [
        {
          "output_type": "stream",
          "name": "stdout",
          "text": [
            "안녕하세요\n",
            "안녕하세요\n",
            "안녕하세요\n"
          ]
        }
      ]
    },
    {
      "cell_type": "markdown",
      "source": [
        "## Ex 1.\n",
        "\n",
        "* 함수 이름: make_list\n",
        "* 기능: start 이상 end 미만의 정수 난수 n개를 갖는 리스트를 반환하는 함수."
      ],
      "metadata": {
        "id": "jAZigGZ_L4vw"
      }
    },
    {
      "cell_type": "code",
      "source": [
        "import random"
      ],
      "metadata": {
        "id": "AfWU4-J2NWbg"
      },
      "execution_count": null,
      "outputs": []
    },
    {
      "cell_type": "code",
      "source": [
        "def make_list(start, end, n):\n",
        "    '''start 이상 end 미만의 정수 난수 n개를 갖는 리스트를 반환하는 함수.'''\n",
        "\n",
        "    return [random.randrange(start, end) for x in range(n)]"
      ],
      "metadata": {
        "id": "aILSPkSPMAc5"
      },
      "execution_count": null,
      "outputs": []
    },
    {
      "cell_type": "markdown",
      "source": [
        "## Ex 2.\n",
        "\n",
        "* 함수 이름: calc_sum\n",
        "* 기능: 숫자들의 리스트를 전달받아서, 리스트의 모든 원소들의 합을 리턴하는 함수."
      ],
      "metadata": {
        "id": "vPFyNj8RL5dQ"
      }
    },
    {
      "cell_type": "code",
      "source": [
        "def calc_sum(list):\n",
        "    '''숫자들의 리스트를 전달받아서, 리스트의 모든 원소들의 합을 리턴하는 함수.'''\n",
        "\n",
        "    return sum(list)"
      ],
      "metadata": {
        "id": "PVPI21y_MUbl"
      },
      "execution_count": null,
      "outputs": []
    },
    {
      "cell_type": "markdown",
      "source": [
        "## Ex 3.\n",
        "\n",
        "* 함수 이름: calc_mean\n",
        "* 기능: 숫자들의 리스트를 전달받아서, 리스트의 원소들의 평균을 리턴하는 함수."
      ],
      "metadata": {
        "id": "YPs2zGgZL71I"
      }
    },
    {
      "cell_type": "code",
      "source": [
        "def calc_mean(list):\n",
        "    '''숫자들의 리스트를 전달받아서, 리스트의 원소들의 평균을 리턴하는 함수.'''\n",
        "\n",
        "    return sum(list) / len(list)"
      ],
      "metadata": {
        "id": "F8XOXvx4Mg0Q"
      },
      "execution_count": null,
      "outputs": []
    },
    {
      "cell_type": "markdown",
      "source": [
        "## Ex 4.\n",
        "\n",
        "* 함수 이름: calc_var\n",
        "* 기능: 숫자들의 리스트를 전달받아서, 리스트의 원소들의 분산(variance)을 리턴하는 함수.\n",
        "    * 분산 = (값 - 평균)**2 들의 평균"
      ],
      "metadata": {
        "id": "0_1CMVUDL9pQ"
      }
    },
    {
      "cell_type": "code",
      "source": [
        "def calc_var(list):\n",
        "    '''숫자들의 리스트를 전달받아서, 리스트의 원소들의 분산(variance)을 리턴하는 함수.'''\n",
        "    avg = calc_mean(list)\n",
        "    return calc_mean([(x - avg) ** 2 for x in list])"
      ],
      "metadata": {
        "id": "9rIn-nvQMtbf"
      },
      "execution_count": null,
      "outputs": []
    },
    {
      "cell_type": "code",
      "source": [
        "numbers = make_list(0, 20, 5)\n",
        "print(f'numbers = {numbers}')\n",
        "print(f'calc_sum = {calc_sum(numbers)}')\n",
        "print(f'calc_mean = {calc_mean(numbers)}')\n",
        "print(f'calc_var = {calc_var(numbers)}')"
      ],
      "metadata": {
        "colab": {
          "base_uri": "https://localhost:8080/"
        },
        "id": "nCdiq50kNbRI",
        "outputId": "acf15820-8925-4144-a6b2-fdc3a58f1398"
      },
      "execution_count": null,
      "outputs": [
        {
          "output_type": "stream",
          "name": "stdout",
          "text": [
            "numbers = [16, 12, 3, 19, 3]\n",
            "calc_sum = 53\n",
            "calc_mean = 10.6\n",
            "calc_var = 43.44\n"
          ]
        }
      ]
    }
  ]
}