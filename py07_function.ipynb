{
  "nbformat": 4,
  "nbformat_minor": 0,
  "metadata": {
    "colab": {
      "provenance": [],
      "authorship_tag": "ABX9TyNEtvxHXM3DVagXnKkXd3pf",
      "include_colab_link": true
    },
    "kernelspec": {
      "name": "python3",
      "display_name": "Python 3"
    },
    "language_info": {
      "name": "python"
    }
  },
  "cells": [
    {
      "cell_type": "markdown",
      "metadata": {
        "id": "view-in-github",
        "colab_type": "text"
      },
      "source": [
        "<a href=\"https://colab.research.google.com/github/unit9090/Colab_Note/blob/main/py07_function.ipynb\" target=\"_parent\"><img src=\"https://colab.research.google.com/assets/colab-badge.svg\" alt=\"Open In Colab\"/></a>"
      ]
    },
    {
      "cell_type": "markdown",
      "source": [
        "# Function(함수)"
      ],
      "metadata": {
        "id": "_mHLs1mUFD17"
      }
    },
    {
      "cell_type": "markdown",
      "source": [
        "* function(함수): 기능을 수행하는 코드 블록.\n",
        "* argument: 함수를 호출하는 곳에서 함수에게 전달하는 값(들).\n",
        "* parameter: argument를 저장하기 위해서 함수 선언부에서 선언하는 지역 변수.\n",
        "* return value: 함수가 기능의 수행 결과로 리턴하는 값.\n",
        "    * return value가 있는 함수\n",
        "    * return value가 없는 함수\n",
        "* 파이썬 함수 정의 방법:\n",
        "    ```\n",
        "    def function_name([param, ...]):\n",
        "        [\"\"\" 문서화 주석 - 함수 기능 설명, 파라미터 설명, 리턴 값 설명 \"\"\"]\n",
        "        함수 기능 구현\n",
        "        [return 값]\n",
        "    ```\n",
        "* return value가 없는 경우에,\n",
        "    * return 문장을 생략.\n",
        "    * return None 명시할 수도 있음."
      ],
      "metadata": {
        "id": "jjY3rI58FGji"
      }
    },
    {
      "cell_type": "code",
      "execution_count": 1,
      "metadata": {
        "id": "0PLaBc-tE1Dc"
      },
      "outputs": [],
      "source": [
        "# 함수\n",
        "def subtract(x, y):     # 함수 정의\n",
        "    \"\"\" 2개의 숫자 x, y를 전달받아서 x - y 결과를 리턴하는 함수. \"\"\"\n",
        "    return x - y\n",
        "\n",
        "# 실행해야지 함수를 사용할 수 있음"
      ]
    },
    {
      "cell_type": "code",
      "source": [
        "result = subtract(1, 2)     # 함수 실행\n",
        "result"
      ],
      "metadata": {
        "colab": {
          "base_uri": "https://localhost:8080/"
        },
        "id": "BFR1O70DIR3z",
        "outputId": "10f40b4d-d760-4904-a439-0e89cd14bccb"
      },
      "execution_count": 2,
      "outputs": [
        {
          "output_type": "execute_result",
          "data": {
            "text/plain": [
              "-1"
            ]
          },
          "metadata": {},
          "execution_count": 2
        }
      ]
    },
    {
      "cell_type": "code",
      "source": [
        "def repeat_message(message, n):\n",
        "    \"\"\" 문자열(message)과 양의 정수(n)을 전달받아서, message를 n번 출력하는 함수.\n",
        "    \"\"\"\n",
        "    for _ in range(n):\n",
        "        print(message)\n",
        "\n",
        "    return None\n",
        "    # 리턴 값이 없으면 보통 return 문을 생략하지만, return None으로 명시하기도 함."
      ],
      "metadata": {
        "id": "G8Sowaz6JE-q"
      },
      "execution_count": 3,
      "outputs": []
    },
    {
      "cell_type": "code",
      "source": [
        "repeat_message('안녕하세요', 3)"
      ],
      "metadata": {
        "colab": {
          "base_uri": "https://localhost:8080/"
        },
        "id": "OFzGiG9tJxMC",
        "outputId": "ec99a70a-da93-4545-8581-3f2a58b15c7b"
      },
      "execution_count": 4,
      "outputs": [
        {
          "output_type": "stream",
          "name": "stdout",
          "text": [
            "안녕하세요\n",
            "안녕하세요\n",
            "안녕하세요\n"
          ]
        }
      ]
    },
    {
      "cell_type": "markdown",
      "source": [
        "## Ex 1.\n",
        "\n",
        "* 함수 이름: make_list\n",
        "* 기능: start 이상 end 미만의 정수 난수 n개를 갖는 리스트를 반환하는 함수."
      ],
      "metadata": {
        "id": "jAZigGZ_L4vw"
      }
    },
    {
      "cell_type": "code",
      "source": [
        "import random"
      ],
      "metadata": {
        "id": "AfWU4-J2NWbg"
      },
      "execution_count": 5,
      "outputs": []
    },
    {
      "cell_type": "code",
      "source": [
        "def make_list(start, end, n):\n",
        "    '''start 이상 end 미만의 정수 난수 n개를 갖는 리스트를 반환하는 함수.'''\n",
        "\n",
        "    return [random.randrange(start, end) for x in range(n)]"
      ],
      "metadata": {
        "id": "aILSPkSPMAc5"
      },
      "execution_count": 6,
      "outputs": []
    },
    {
      "cell_type": "markdown",
      "source": [
        "## Ex 2.\n",
        "\n",
        "* 함수 이름: calc_sum\n",
        "* 기능: 숫자들의 리스트를 전달받아서, 리스트의 모든 원소들의 합을 리턴하는 함수."
      ],
      "metadata": {
        "id": "vPFyNj8RL5dQ"
      }
    },
    {
      "cell_type": "code",
      "source": [
        "def calc_sum(list):\n",
        "    '''숫자들의 리스트를 전달받아서, 리스트의 모든 원소들의 합을 리턴하는 함수.'''\n",
        "\n",
        "    return sum(list)"
      ],
      "metadata": {
        "id": "PVPI21y_MUbl"
      },
      "execution_count": 7,
      "outputs": []
    },
    {
      "cell_type": "code",
      "source": [
        "del sum     # 메모리에 있는 변수값을 강제로 지움."
      ],
      "metadata": {
        "id": "CbzyjS_Fvc8E"
      },
      "execution_count": null,
      "outputs": []
    },
    {
      "cell_type": "markdown",
      "source": [
        "## Ex 3.\n",
        "\n",
        "* 함수 이름: calc_mean\n",
        "* 기능: 숫자들의 리스트를 전달받아서, 리스트의 원소들의 평균을 리턴하는 함수."
      ],
      "metadata": {
        "id": "YPs2zGgZL71I"
      }
    },
    {
      "cell_type": "code",
      "source": [
        "def calc_mean(list):\n",
        "    '''숫자들의 리스트를 전달받아서, 리스트의 원소들의 평균을 리턴하는 함수.'''\n",
        "\n",
        "    return sum(list) / len(list)"
      ],
      "metadata": {
        "id": "F8XOXvx4Mg0Q"
      },
      "execution_count": 8,
      "outputs": []
    },
    {
      "cell_type": "markdown",
      "source": [
        "## Ex 4.\n",
        "\n",
        "* 함수 이름: calc_var\n",
        "* 기능: 숫자들의 리스트를 전달받아서, 리스트의 원소들의 분산(variance)을 리턴하는 함수.\n",
        "    * 분산 = (값 - 평균)**2 들의 평균"
      ],
      "metadata": {
        "id": "0_1CMVUDL9pQ"
      }
    },
    {
      "cell_type": "code",
      "source": [
        "def calc_var(list):\n",
        "    '''숫자들의 리스트를 전달받아서, 리스트의 원소들의 분산(variance)을 리턴하는 함수.'''\n",
        "    avg = calc_mean(list)\n",
        "    return calc_mean([(x - avg) ** 2 for x in list])"
      ],
      "metadata": {
        "id": "9rIn-nvQMtbf"
      },
      "execution_count": 9,
      "outputs": []
    },
    {
      "cell_type": "code",
      "source": [
        "numbers = make_list(0, 20, 5)\n",
        "print(f'numbers = {numbers}')\n",
        "print(f'calc_sum = {calc_sum(numbers)}')\n",
        "print(f'calc_mean = {calc_mean(numbers)}')\n",
        "print(f'calc_var = {calc_var(numbers)}')"
      ],
      "metadata": {
        "colab": {
          "base_uri": "https://localhost:8080/"
        },
        "id": "nCdiq50kNbRI",
        "outputId": "f731e86f-c865-40d5-a54d-62fe8242a8cf"
      },
      "execution_count": 10,
      "outputs": [
        {
          "output_type": "stream",
          "name": "stdout",
          "text": [
            "numbers = [12, 3, 7, 10, 17]\n",
            "calc_sum = 49\n",
            "calc_mean = 9.8\n",
            "calc_var = 22.16\n"
          ]
        }
      ]
    },
    {
      "cell_type": "code",
      "source": [
        "scores1 = [3, 4, 5, 6, 7]\n",
        "scores2 = [0, 1, 5, 9, 10]\n",
        "mean1 = calc_mean(scores1)\n",
        "mean2 = calc_mean(scores2)\n",
        "\n",
        "print(f'mean1 = {mean1}')\n",
        "print(f'mean2 = {mean2}')"
      ],
      "metadata": {
        "colab": {
          "base_uri": "https://localhost:8080/"
        },
        "id": "0VR5qmW-y7AT",
        "outputId": "540a72f9-bd3d-4548-bca2-be10fc36a7e5"
      },
      "execution_count": 18,
      "outputs": [
        {
          "output_type": "stream",
          "name": "stdout",
          "text": [
            "mean1 = 5.0\n",
            "mean2 = 5.0\n"
          ]
        }
      ]
    },
    {
      "cell_type": "code",
      "source": [
        "print(calc_var(scores1))\n",
        "print(calc_var(scores2))"
      ],
      "metadata": {
        "colab": {
          "base_uri": "https://localhost:8080/"
        },
        "id": "GnSpTJqNzxub",
        "outputId": "cfbf9ae3-2166-42b1-9474-88c8181f59ae"
      },
      "execution_count": 19,
      "outputs": [
        {
          "output_type": "stream",
          "name": "stdout",
          "text": [
            "2.0\n",
            "16.4\n"
          ]
        }
      ]
    },
    {
      "cell_type": "code",
      "source": [
        "# 로또 번호\n",
        "def make_lotto_list():\n",
        "    lottos = []\n",
        "    for x in range(5):\n",
        "        # 중복 제거를 위해 Set 사용\n",
        "        lotto = set()\n",
        "        count = 0\n",
        "        while True:\n",
        "            count += 1\n",
        "            lotto.add(random.randrange(1, 46))\n",
        "            if len(lotto) == 6:\n",
        "                print(f'{x}번째 {count}만큼 루프')\n",
        "                break\n",
        "        lottos.append(lotto)\n",
        "    return lottos\n"
      ],
      "metadata": {
        "id": "9PWcNiYN0kPT"
      },
      "execution_count": 24,
      "outputs": []
    },
    {
      "cell_type": "code",
      "source": [
        "make_lotto_list()"
      ],
      "metadata": {
        "colab": {
          "base_uri": "https://localhost:8080/"
        },
        "id": "nGsf100L1kDS",
        "outputId": "95bf282e-e239-4e1c-fb8e-a3fe32c5254a"
      },
      "execution_count": 25,
      "outputs": [
        {
          "output_type": "stream",
          "name": "stdout",
          "text": [
            "0번째 7만큼 루프\n",
            "1번째 6만큼 루프\n",
            "2번째 10만큼 루프\n",
            "3번째 6만큼 루프\n",
            "4번째 6만큼 루프\n"
          ]
        },
        {
          "output_type": "execute_result",
          "data": {
            "text/plain": [
              "[{12, 22, 26, 27, 34, 35},\n",
              " {15, 20, 23, 28, 41, 44},\n",
              " {4, 13, 24, 32, 34, 42},\n",
              " {23, 30, 32, 38, 41, 44},\n",
              " {17, 22, 23, 27, 28, 30}]"
            ]
          },
          "metadata": {},
          "execution_count": 25
        }
      ]
    },
    {
      "cell_type": "markdown",
      "source": [
        "파이썬은 2개 이상의 값을 리턴하는 함수를 정의할 수 있음. 함수를 호출한 곳에서는 리턴 값을 튜플로 취급하면 됨.\n",
        "\n",
        "```\n",
        "x, y = (1, 2) # decomposition(성분 분해)\n",
        "```"
      ],
      "metadata": {
        "id": "4C61G08m5E_Z"
      }
    },
    {
      "cell_type": "code",
      "source": [
        "def plus_and_minus(x, y):\n",
        "    return x + y, x - y"
      ],
      "metadata": {
        "id": "iKzOGuo05ltq"
      },
      "execution_count": 26,
      "outputs": []
    },
    {
      "cell_type": "code",
      "source": [
        "result = plus_and_minus(1, 2)\n",
        "result # 결과는 튜플"
      ],
      "metadata": {
        "id": "pGj9wzP46P3x"
      },
      "execution_count": null,
      "outputs": []
    },
    {
      "cell_type": "code",
      "source": [
        "plus, minus = plus_and_minus(1, 2)\n",
        "print(plus, minus)"
      ],
      "metadata": {
        "colab": {
          "base_uri": "https://localhost:8080/"
        },
        "id": "gzTYe3_z6S29",
        "outputId": "514ff374-084c-4540-a27c-cd0c95fa636d"
      },
      "execution_count": 28,
      "outputs": [
        {
          "output_type": "stream",
          "name": "stdout",
          "text": [
            "3 -1\n"
          ]
        }
      ]
    },
    {
      "cell_type": "markdown",
      "source": [
        "숫자들의 리스트를 전달받아서, 최댓값과 최솟값을 리턴하는 함수를 정의."
      ],
      "metadata": {
        "id": "s-iSh9Fc6f2r"
      }
    },
    {
      "cell_type": "code",
      "source": [
        "def find_max_and_min(num_list):\n",
        "    ''' 숫자들의 리스트를 전달받아서, 최댓값과 최솟값을 리턴하는 함수 '''\n",
        "\n",
        "    fmax = num_list[0]  # 리스트의 첫번째 원소를 최대값이라고 가정.\n",
        "    fmin = num_list[0]  # 리스트의 첫번째 원소를 최솟값이라고 가정.\n",
        "    for x in num_list:  # 리스트의 원소들을 처음부터 끝까지 순서대로 반복하면서\n",
        "        if(fmax < x):   # 리스트에 있는 값이 max보다 크다면\n",
        "            fmax = x    # 리스트에서 찾은 값으로 max를 변경\n",
        "        if(fmin > x):   # 리스트에 있는 값이 min보다 작다면\n",
        "            fmin = x    # 리스트에서 찾은 값으로 min을 변경\n",
        "\n",
        "    return fmax, fmin\n",
        "\n",
        "    # return max(num_list), min(num_list)"
      ],
      "metadata": {
        "id": "QSW-XmDv6oPh"
      },
      "execution_count": 36,
      "outputs": []
    },
    {
      "cell_type": "code",
      "source": [
        "numbers = make_list(0, 11, 5)\n",
        "print(f'list = {numbers}')\n",
        "numbers_max, numbers_min = find_max_and_min(numbers)\n",
        "print(f'max = {numbers_max}, min = {numbers_min}')"
      ],
      "metadata": {
        "colab": {
          "base_uri": "https://localhost:8080/"
        },
        "id": "Syyuisrb7ATw",
        "outputId": "0c7c5da1-77e3-4c62-c766-6e088d22437e"
      },
      "execution_count": 38,
      "outputs": [
        {
          "output_type": "stream",
          "name": "stdout",
          "text": [
            "list = [9, 3, 5, 6, 9]\n",
            "max = 9, min = 3\n"
          ]
        }
      ]
    },
    {
      "cell_type": "markdown",
      "source": [
        "숫자들의 리스트를 전달받아서 최댓값과 최댓값의 인덱스(위치)를 리턴하는 함수를 정의. 최댓값이 2개 이상인 경우, 먼저 나오는 최댓값의 인덱스를 리턴."
      ],
      "metadata": {
        "id": "juwVEPBz9t74"
      }
    },
    {
      "cell_type": "code",
      "source": [
        "from ast import Index\n",
        "def find_max_and_index(num_list):\n",
        "    ''' 숫자들의 리스트를 전달받아서 최댓값과 최댓값의 인덱스(위치)를 리턴하는 함수를 정의. 최댓값이 2개 이상인 경우, 먼저 나오는 최댓값의 인덱스를 리턴.\n",
        "    '''\n",
        "\n",
        "    index = 0\n",
        "    max_num = num_list[0]\n",
        "    for i, v in enumerate(num_list):\n",
        "        if(v > max_num):\n",
        "            max_num = v\n",
        "            index = i\n",
        "    '''\n",
        "    for x in range(len(num_list)):\n",
        "        if(max_num < num_list[x]):\n",
        "            max_num = num_list[x]\n",
        "            index = x\n",
        "    '''\n",
        "\n",
        "    return max_num, index\n",
        "\n",
        "    # return max(num_list), num_list.index(max(num_list))"
      ],
      "metadata": {
        "id": "b-2vsGCc98SP"
      },
      "execution_count": 52,
      "outputs": []
    },
    {
      "cell_type": "code",
      "source": [
        "del max, min"
      ],
      "metadata": {
        "id": "3PMAKbDz_IN3"
      },
      "execution_count": 43,
      "outputs": []
    },
    {
      "cell_type": "code",
      "source": [
        "'''\n",
        "numbers = make_list(0, 11, 5)\n",
        "print(f'list = {numbers}')\n",
        "'''\n",
        "numbers = [1, 100, 20, 100, 0, -1, 99]\n",
        "numbers_max, index = find_max_and_index(numbers)\n",
        "print(f'max = {numbers_max}, index = {index}')"
      ],
      "metadata": {
        "colab": {
          "base_uri": "https://localhost:8080/"
        },
        "id": "-LnWCfW0-rxw",
        "outputId": "fd02a733-1f59-4907-a21e-cac675aed498"
      },
      "execution_count": 54,
      "outputs": [
        {
          "output_type": "stream",
          "name": "stdout",
          "text": [
            "max = 100, index = 1\n"
          ]
        }
      ]
    },
    {
      "cell_type": "markdown",
      "source": [
        "# Default argument(기본 인수)\n",
        "\n",
        "* 함수를 정의할 때 파라미터에 설정된 기본값.\n",
        "    * 함수를 호출할 때 파라미터에 값을 전달하지 않으면, 기본값이 사용됨.\n",
        "    * 함수를 호출할 때 파라미터에 값을 전달하면, 기본값은 무시되고 전달한 아규먼트가 사용됨.\n",
        "\n",
        "* **(주의)** 함수를 정의할 때, default argument를 갖는 파라미터들은 반드시 default argument를 갖지 않는 파라미터들 뒤에 선언해야 함!\n",
        "    * 기본값을 갖지 않는 파라미터들을 먼전 선언하고, 기본값을 갖는 파라미터들을 뒤에 선언해야 함."
      ],
      "metadata": {
        "id": "-xsNWCgSEH_e"
      }
    },
    {
      "cell_type": "code",
      "source": [
        "def repeat_message2(msg, n = 1):    # n = 1 -> Default argument(기본 인수)\n",
        "    for _ in range(n):\n",
        "        print(msg)"
      ],
      "metadata": {
        "id": "YcE7dCmgFT6f"
      },
      "execution_count": 55,
      "outputs": []
    },
    {
      "cell_type": "code",
      "source": [
        "repeat_message2('배고프다')"
      ],
      "metadata": {
        "colab": {
          "base_uri": "https://localhost:8080/"
        },
        "id": "bbnn0k9dFtWN",
        "outputId": "85e2ae29-66a3-4b25-8552-2784d2a52515"
      },
      "execution_count": 56,
      "outputs": [
        {
          "output_type": "stream",
          "name": "stdout",
          "text": [
            "배고프다\n"
          ]
        }
      ]
    },
    {
      "cell_type": "code",
      "source": [
        "repeat_message2('힘들얼...', 3)"
      ],
      "metadata": {
        "colab": {
          "base_uri": "https://localhost:8080/"
        },
        "id": "vzb7MGawGMFN",
        "outputId": "919114fb-9094-4409-ac25-2f9f9fc43780"
      },
      "execution_count": 57,
      "outputs": [
        {
          "output_type": "stream",
          "name": "stdout",
          "text": [
            "힘들얼...\n",
            "힘들얼...\n",
            "힘들얼...\n"
          ]
        }
      ]
    },
    {
      "cell_type": "code",
      "source": [
        "# 에러\n",
        "# defalut 값을 가지는 argument는 뒤로 와야 한다.\n",
        "def test(n = 1, msg):\n",
        "    pass"
      ],
      "metadata": {
        "id": "48IsTy57G5ol"
      },
      "execution_count": null,
      "outputs": []
    },
    {
      "cell_type": "markdown",
      "source": [
        "# argument 전달 방법:\n",
        "\n",
        "* positional argument: 함수 정의에서 선언된 파라미터 순서대로 아규먼트들을 전달하는 방법\n",
        "* keyword argument: `param = value` 형식으로 아규먼트들을 전달하는 방법.\n",
        "    * keyword argument 방식에서는 파라미터의 순서를 지키지 않아도 됨.\n",
        "\n",
        "* **(주의)** 함수 호출할 때 positional 방식과 keyword 방식을 함께 사용하는 경우에는, 반드시 positional argument를 먼저 사용하고, keyword argument는 나중에 사용해야 함."
      ],
      "metadata": {
        "id": "dEr_CEtvHPBf"
      }
    },
    {
      "cell_type": "code",
      "source": [
        "def minus(x, y):\n",
        "    return x - y"
      ],
      "metadata": {
        "id": "cHwK_7oHI8ZH"
      },
      "execution_count": 59,
      "outputs": []
    },
    {
      "cell_type": "code",
      "source": [
        "minus(1, 2)     # positional argument"
      ],
      "metadata": {
        "colab": {
          "base_uri": "https://localhost:8080/"
        },
        "id": "J6oY0oxzJBmt",
        "outputId": "2ebf033b-9585-4ff4-f419-2d3568fd4937"
      },
      "execution_count": 61,
      "outputs": [
        {
          "output_type": "execute_result",
          "data": {
            "text/plain": [
              "-1"
            ]
          },
          "metadata": {},
          "execution_count": 61
        }
      ]
    },
    {
      "cell_type": "code",
      "source": [
        "# keyword argument는 파라미터 순서(position)를 지키지 않아도 됨.\n",
        "minus(y = 2, x = 1)     # keyword argument"
      ],
      "metadata": {
        "colab": {
          "base_uri": "https://localhost:8080/"
        },
        "id": "hVCbZZAhJZps",
        "outputId": "28796b54-e4e1-40b6-c5fc-f28ba6a2ab4f"
      },
      "execution_count": 63,
      "outputs": [
        {
          "output_type": "execute_result",
          "data": {
            "text/plain": [
              "-1"
            ]
          },
          "metadata": {},
          "execution_count": 63
        }
      ]
    },
    {
      "cell_type": "code",
      "source": [
        "minus(1, y = 2)     # positional & keyword argument"
      ],
      "metadata": {
        "colab": {
          "base_uri": "https://localhost:8080/"
        },
        "id": "xD27PRxGJhIl",
        "outputId": "81d1ab88-617b-466d-faf1-607674b468f5"
      },
      "execution_count": 64,
      "outputs": [
        {
          "output_type": "execute_result",
          "data": {
            "text/plain": [
              "-1"
            ]
          },
          "metadata": {},
          "execution_count": 64
        }
      ]
    },
    {
      "cell_type": "code",
      "source": [
        "# 에러\n",
        "minus(x = 1, 2)"
      ],
      "metadata": {
        "colab": {
          "base_uri": "https://localhost:8080/",
          "height": 137
        },
        "id": "mcomYwLTKiNE",
        "outputId": "1ff7bceb-fc3d-4120-bf0c-f3fe9e623dc6"
      },
      "execution_count": 65,
      "outputs": [
        {
          "output_type": "error",
          "ename": "SyntaxError",
          "evalue": "ignored",
          "traceback": [
            "\u001b[0;36m  File \u001b[0;32m\"<ipython-input-65-5d854b0207bb>\"\u001b[0;36m, line \u001b[0;32m1\u001b[0m\n\u001b[0;31m    minus(x = 1, 2)\u001b[0m\n\u001b[0m                  ^\u001b[0m\n\u001b[0;31mSyntaxError\u001b[0m\u001b[0;31m:\u001b[0m positional argument follows keyword argument\n"
          ]
        }
      ]
    },
    {
      "cell_type": "markdown",
      "source": [
        "# 가변길이 인수(variable-length argument)\n",
        "\n",
        "* 자바\n",
        "    ```\n",
        "    public void printf(String... args) {\n",
        "        ...\n",
        "    }\n",
        "\n",
        "    print()\n",
        "    print(\"a\")\n",
        "    print(\"a\", \"b\")\n",
        "    ```\n",
        "* 자바스크립트\n",
        "    ```\n",
        "    function test() {}\n",
        "    test()\n",
        "    test(1)\n",
        "    test(1, 'a')\n",
        "    ```\n",
        "* 파이썬\n",
        "\n",
        "    * 함수를 호출할 때, 전달하는 argument의 개수가 임의로 변할 수 있는 것.\n",
        "        * argument를 전달하지 않아도 됨.\n",
        "    * 함수를 정의할 때 파라미터 이름 앞에 `*`를 사용하면 됨.\n",
        "    * 함수 내부에서는 가변길이 인수는 튜플로 취급.\n",
        "        * for-in 반복문 사용 가능.\n",
        "        * 인덱스 사용 가능.\n",
        "    * **(주의)**\n",
        "        * 가변길이 인수는 keyword 방식으로는 전달할 수 없음.\n",
        "        * 함수를 정의할 때, 가변길이 인수를 갖는 파라미터는 오직 1개만 선언 가능."
      ],
      "metadata": {
        "id": "f4j1jfnULW_1"
      }
    },
    {
      "cell_type": "code",
      "source": [
        "def add_all(*values):\n",
        "    total = 0\n",
        "    for x in values:\n",
        "        total += x\n",
        "\n",
        "    return total"
      ],
      "metadata": {
        "id": "8eJOhtl0gw6t"
      },
      "execution_count": 67,
      "outputs": []
    },
    {
      "cell_type": "code",
      "source": [
        "add_all()"
      ],
      "metadata": {
        "colab": {
          "base_uri": "https://localhost:8080/"
        },
        "id": "Ec1Os6Vug6kG",
        "outputId": "514c4f4a-aa09-4ff1-f401-a751106ccad6"
      },
      "execution_count": 68,
      "outputs": [
        {
          "output_type": "execute_result",
          "data": {
            "text/plain": [
              "0"
            ]
          },
          "metadata": {},
          "execution_count": 68
        }
      ]
    },
    {
      "cell_type": "code",
      "source": [
        "add_all(1)"
      ],
      "metadata": {
        "colab": {
          "base_uri": "https://localhost:8080/"
        },
        "id": "Kn9FzT_YhULz",
        "outputId": "1abef1d8-2e3c-4128-d0e6-d62670775b87"
      },
      "execution_count": 69,
      "outputs": [
        {
          "output_type": "execute_result",
          "data": {
            "text/plain": [
              "1"
            ]
          },
          "metadata": {},
          "execution_count": 69
        }
      ]
    },
    {
      "cell_type": "code",
      "source": [
        "add_all(1, 2, 3, 4, 5)"
      ],
      "metadata": {
        "colab": {
          "base_uri": "https://localhost:8080/"
        },
        "id": "Vv52t3vGhFq5",
        "outputId": "aa34dd61-fef9-4492-b31c-30c953e073cc"
      },
      "execution_count": 70,
      "outputs": [
        {
          "output_type": "execute_result",
          "data": {
            "text/plain": [
              "15"
            ]
          },
          "metadata": {},
          "execution_count": 70
        }
      ]
    },
    {
      "cell_type": "code",
      "source": [
        "# 오류\n",
        "def test(*x, *y):\n",
        "    pass\n",
        "\n",
        "test(1, 2, 3, 4, 5)"
      ],
      "metadata": {
        "colab": {
          "base_uri": "https://localhost:8080/",
          "height": 137
        },
        "id": "j9v-RvYlg_RO",
        "outputId": "5c6be2d0-53d5-4660-db43-ad11b7a0c43b"
      },
      "execution_count": 71,
      "outputs": [
        {
          "output_type": "error",
          "ename": "SyntaxError",
          "evalue": "ignored",
          "traceback": [
            "\u001b[0;36m  File \u001b[0;32m\"<ipython-input-71-4cf96ad5a050>\"\u001b[0;36m, line \u001b[0;32m2\u001b[0m\n\u001b[0;31m    def test(*x, *y):\u001b[0m\n\u001b[0m                 ^\u001b[0m\n\u001b[0;31mSyntaxError\u001b[0m\u001b[0;31m:\u001b[0m invalid syntax\n"
          ]
        }
      ]
    },
    {
      "cell_type": "markdown",
      "source": [
        "가변길이 인수 뒤에 파라미터가 있는 경우, 그 파라미터는 keyword 방식으로만 argument를 전달할 수 있음."
      ],
      "metadata": {
        "id": "SOnGjb4zhfH3"
      }
    },
    {
      "cell_type": "code",
      "source": [
        "def test(*x, y):\n",
        "    print(x)\n",
        "    print(y)"
      ],
      "metadata": {
        "id": "Jis6ZPplhdez"
      },
      "execution_count": 72,
      "outputs": []
    },
    {
      "cell_type": "code",
      "source": [
        "test(1, 2, 3, y = 5)"
      ],
      "metadata": {
        "colab": {
          "base_uri": "https://localhost:8080/"
        },
        "id": "NfZn_dUnhkQu",
        "outputId": "97d8ff9a-463c-4312-db7d-edd8455ab58b"
      },
      "execution_count": 76,
      "outputs": [
        {
          "output_type": "stream",
          "name": "stdout",
          "text": [
            "(1, 2, 3)\n",
            "5\n"
          ]
        }
      ]
    },
    {
      "cell_type": "code",
      "source": [
        "def keyword_only(*, x, y, z):\n",
        "    print(f'x = {x}, y = {y}, z = {z}')"
      ],
      "metadata": {
        "id": "JYtgMW2ci7KN"
      },
      "execution_count": 77,
      "outputs": []
    },
    {
      "cell_type": "code",
      "source": [
        "keyword_only(x = 1, y = 2, z = 3)"
      ],
      "metadata": {
        "colab": {
          "base_uri": "https://localhost:8080/"
        },
        "id": "yR1uuPpZjFa1",
        "outputId": "522a779f-658b-40ef-eae9-afa5f78336a2"
      },
      "execution_count": 79,
      "outputs": [
        {
          "output_type": "stream",
          "name": "stdout",
          "text": [
            "x = 1, y = 2, z = 3\n"
          ]
        }
      ]
    },
    {
      "cell_type": "code",
      "source": [
        "print(1, 2, 3)\n",
        "print()\n",
        "print('hello')"
      ],
      "metadata": {
        "colab": {
          "base_uri": "https://localhost:8080/"
        },
        "id": "pryt2h2ljmGd",
        "outputId": "19f24d99-f482-4e67-c1af-32e21bcdb1a5"
      },
      "execution_count": 81,
      "outputs": [
        {
          "output_type": "stream",
          "name": "stdout",
          "text": [
            "1 2 3\n",
            "\n",
            "hello\n"
          ]
        }
      ]
    },
    {
      "cell_type": "code",
      "source": [
        "print(1, 2, 3, sep=':')"
      ],
      "metadata": {
        "colab": {
          "base_uri": "https://localhost:8080/"
        },
        "id": "GkSHe3_AkPOw",
        "outputId": "7b6466d3-c40a-4bdb-8187-262571032773"
      },
      "execution_count": 83,
      "outputs": [
        {
          "output_type": "stream",
          "name": "stdout",
          "text": [
            "1:2:3\n"
          ]
        }
      ]
    },
    {
      "cell_type": "code",
      "source": [
        "print('hello', end=' ')\n",
        "print('python')"
      ],
      "metadata": {
        "colab": {
          "base_uri": "https://localhost:8080/"
        },
        "id": "dhmrP4sok-eV",
        "outputId": "9c5d935d-49c2-446f-9ddd-3ce6ac0b7639"
      },
      "execution_count": 84,
      "outputs": [
        {
          "output_type": "stream",
          "name": "stdout",
          "text": [
            "hello python\n"
          ]
        }
      ]
    },
    {
      "cell_type": "markdown",
      "source": [
        "# 가변길이 키워드 인수(variable-length keyword argument)\n",
        "\n",
        "* 함수를 정의할 때 파라미터 이름 앞에 `**`를 붙임\n",
        "* 가변길이 인수: 함수를 호출할 때 전달하는 아규먼트의 개수 제한이 없음.\n",
        "* keyword argument: 함수를 호출할 때 반드시 `param = value` 형식으로 전달해야 함.\n",
        "* 함수 내부에서 가변길이 키워드 인수는 dict로 취급함.\n",
        "* 함수 호출할 때 파라미터 이름은 아무렇게나 전달해도 됨.\n",
        "* 가변길이 키워드 인수는 함수에서 1개만 사용 가능."
      ],
      "metadata": {
        "id": "vW3KK8BvlwDG"
      }
    },
    {
      "cell_type": "code",
      "source": [
        "def test2(**kwargs):\n",
        "    print(kwargs)"
      ],
      "metadata": {
        "id": "TLB3eq1Qm1n6"
      },
      "execution_count": 86,
      "outputs": []
    },
    {
      "cell_type": "code",
      "source": [
        "test2()"
      ],
      "metadata": {
        "colab": {
          "base_uri": "https://localhost:8080/"
        },
        "id": "JBAZpeafm9RP",
        "outputId": "02e4c542-4919-473b-e7af-ba04541635bf"
      },
      "execution_count": 87,
      "outputs": [
        {
          "output_type": "stream",
          "name": "stdout",
          "text": [
            "{}\n"
          ]
        }
      ]
    },
    {
      "cell_type": "code",
      "source": [
        "test2(x = 1, y = 2, msg = 'hello')"
      ],
      "metadata": {
        "colab": {
          "base_uri": "https://localhost:8080/"
        },
        "id": "kizvugRgnKt0",
        "outputId": "2e19a480-3ce8-4b6f-8b22-7528b98bd1d0"
      },
      "execution_count": 92,
      "outputs": [
        {
          "output_type": "stream",
          "name": "stdout",
          "text": [
            "{'x': 1, 'y': 2, 'msg': 'hello'}\n"
          ]
        }
      ]
    },
    {
      "cell_type": "code",
      "source": [
        "def make_emp_info(emp_no, emp_name, **kwargs):\n",
        "    emp = {'emp_no': emp_no, 'emp_name': emp_name}\n",
        "    for k, v in kwargs.items():\n",
        "        emp[k] = v\n",
        "\n",
        "    return emp"
      ],
      "metadata": {
        "id": "TVrfThFyn7Xc"
      },
      "execution_count": 93,
      "outputs": []
    },
    {
      "cell_type": "code",
      "source": [
        "make_emp_info(1, 'king')"
      ],
      "metadata": {
        "colab": {
          "base_uri": "https://localhost:8080/"
        },
        "id": "rsMXPOtDok5j",
        "outputId": "928d1a5a-ed29-47ff-86d4-c918480f78b3"
      },
      "execution_count": 94,
      "outputs": [
        {
          "output_type": "execute_result",
          "data": {
            "text/plain": [
              "{'emp_no': 1, 'emp_name': 'king'}"
            ]
          },
          "metadata": {},
          "execution_count": 94
        }
      ]
    },
    {
      "cell_type": "code",
      "source": [
        "make_emp_info(2, '홍길동', email = 'gildong@test.com', dept='HR')"
      ],
      "metadata": {
        "colab": {
          "base_uri": "https://localhost:8080/"
        },
        "id": "ljcgHLWkooB8",
        "outputId": "4424cea5-e64c-49e7-e564-88cdd565374c"
      },
      "execution_count": 95,
      "outputs": [
        {
          "output_type": "execute_result",
          "data": {
            "text/plain": [
              "{'emp_no': 2, 'emp_name': '홍길동', 'email': 'gildong@test.com', 'dept': 'HR'}"
            ]
          },
          "metadata": {},
          "execution_count": 95
        }
      ]
    },
    {
      "cell_type": "code",
      "source": [
        "def print_msg(msg):\n",
        "    print(f'message = {msg}')"
      ],
      "metadata": {
        "id": "QqEHFhosveSC"
      },
      "execution_count": 97,
      "outputs": []
    },
    {
      "cell_type": "code",
      "source": [
        "print_msg('안녕하세요')"
      ],
      "metadata": {
        "colab": {
          "base_uri": "https://localhost:8080/"
        },
        "id": "9G5KQmm-vjcz",
        "outputId": "0bb00d0b-07de-4e28-db7e-f3ed6086041e"
      },
      "execution_count": 98,
      "outputs": [
        {
          "output_type": "stream",
          "name": "stdout",
          "text": [
            "message = 안녕하세요\n"
          ]
        }
      ]
    },
    {
      "cell_type": "code",
      "source": [
        "# print_msg는 argument가 있는 반면 print_msg의 리턴값이 없으니 print로 들어가는 argument가 없다.\n",
        "print(print_msg('안녕하세요'))"
      ],
      "metadata": {
        "colab": {
          "base_uri": "https://localhost:8080/"
        },
        "id": "cJPvMlwIvmma",
        "outputId": "6dbed8f7-8f19-4534-8e29-8d79c3050ecb"
      },
      "execution_count": 99,
      "outputs": [
        {
          "output_type": "stream",
          "name": "stdout",
          "text": [
            "message = 안녕하세요\n",
            "None\n"
          ]
        }
      ]
    }
  ]
}