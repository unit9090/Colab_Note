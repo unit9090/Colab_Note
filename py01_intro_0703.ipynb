{
  "nbformat": 4,
  "nbformat_minor": 0,
  "metadata": {
    "colab": {
      "provenance": [],
      "authorship_tag": "ABX9TyMpCnzvGdkdxti8oIqhtP37",
      "include_colab_link": true
    },
    "kernelspec": {
      "name": "python3",
      "display_name": "Python 3"
    },
    "language_info": {
      "name": "python"
    }
  },
  "cells": [
    {
      "cell_type": "markdown",
      "metadata": {
        "id": "view-in-github",
        "colab_type": "text"
      },
      "source": [
        "<a href=\"https://colab.research.google.com/github/unit9090/Colab_Note/blob/main/py01_intro_0703.ipynb\" target=\"_parent\"><img src=\"https://colab.research.google.com/assets/colab-badge.svg\" alt=\"Open In Colab\"/></a>"
      ]
    },
    {
      "cell_type": "markdown",
      "source": [
        "**[0703]**\n",
        "# 파이썬 소개\n",
        "\n",
        "> Colab 소개\n",
        "\n",
        "아래에 코드 셀과 현재의 텍스트 셀로 나뉘며, 환경 세팅을 하지 않고도 python을 사용할 수 있게 해준다.\n",
        "\n",
        "그리고 해당 텍스트 셀을 사용할 땐 마크업 언어로 사용하면 된다.\n",
        "\n",
        "> 간단한 Python 코드\n",
        "\n",
        "코드 셀에서 실행을 하면 실행 버튼이 사라진 뒤 보이는 숫자가 내가 실행한 숫자이다."
      ],
      "metadata": {
        "id": "eMQRgBYN0mO2"
      }
    },
    {
      "cell_type": "code",
      "execution_count": null,
      "metadata": {
        "colab": {
          "base_uri": "https://localhost:8080/"
        },
        "id": "OeSGbQCNxVPC",
        "outputId": "366a731b-3491-4a10-8765-4a6a2d60af1e"
      },
      "outputs": [
        {
          "output_type": "stream",
          "name": "stdout",
          "text": [
            "안녕하세요, Python!\n"
          ]
        }
      ],
      "source": [
        "# inline comment(주석)\n",
        "print('안녕하세요, Python!')    # 파이썬은 ;(세미콜론)을 사용하지 않는다.\n",
        "\n",
        "# 파이썬에서 문자열을 나타낼 때 \"\", '' 든 상관없지만,\n",
        "# 보통 ''를 사용한다."
      ]
    },
    {
      "cell_type": "markdown",
      "source": [
        "# 파이썬 버전 확인"
      ],
      "metadata": {
        "id": "Xn8VJyB41xxd"
      }
    },
    {
      "cell_type": "code",
      "source": [
        "# java의 버전을 확인할 땐, 설치를 했기 때문에 cmd에서 확인하였지만\n",
        "# 가상머신에서는 cmd가 아닌 코드 셀에서 명령을 내려주면 된다.\n",
        "# !(느낌표)로 시작을 하면, cmd 언어로 구분하여 실행해준다.\n",
        "\n",
        "!python --version"
      ],
      "metadata": {
        "colab": {
          "base_uri": "https://localhost:8080/"
        },
        "id": "b5jitqoZ10zE",
        "outputId": "75434ee6-e558-44a2-99eb-3b3a12dfed8b"
      },
      "execution_count": null,
      "outputs": [
        {
          "output_type": "stream",
          "name": "stdout",
          "text": [
            "Python 3.10.12\n"
          ]
        }
      ]
    },
    {
      "cell_type": "markdown",
      "source": [
        "코드 셀에서 명령창(command prompt)에서 실행하는 명령어를 작성하고 실행할 때는 !로 시작한다."
      ],
      "metadata": {
        "id": "JEWmy5zc2kJj"
      }
    },
    {
      "cell_type": "markdown",
      "source": [
        "**[0704]**\n",
        "\n",
        "# 코드셀 실행 방법\n",
        "\n",
        "* 코드셀 왼쪽의 실행 버튼을 클릭.\n",
        "* Ctrl + Enter: 현재 포커스가 있는 코드셀을 실행.\n",
        "* Shift + Enter : 현재 포커스가 있는 코드셀을 실행하고, 그 다음 셀로 포커스를 이동.\n",
        "    * 현재 셀 아래에 다음 셀이 없는 경우에는 새로운 코드 셀을 자동으로 만들어줌.\n",
        "* 런타임 메뉴"
      ],
      "metadata": {
        "id": "wBrJGdYTZ9gI"
      }
    },
    {
      "cell_type": "code",
      "source": [],
      "metadata": {
        "id": "McO8oVkZZ9Nh"
      },
      "execution_count": null,
      "outputs": []
    }
  ]
}