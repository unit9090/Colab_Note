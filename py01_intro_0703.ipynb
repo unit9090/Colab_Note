{
  "nbformat": 4,
  "nbformat_minor": 0,
  "metadata": {
    "colab": {
      "provenance": [],
      "toc_visible": true,
      "authorship_tag": "ABX9TyPnuwEZZhBZo7vbboW9jzfC",
      "include_colab_link": true
    },
    "kernelspec": {
      "name": "python3",
      "display_name": "Python 3"
    },
    "language_info": {
      "name": "python"
    }
  },
  "cells": [
    {
      "cell_type": "markdown",
      "metadata": {
        "id": "view-in-github",
        "colab_type": "text"
      },
      "source": [
        "<a href=\"https://colab.research.google.com/github/unit9090/Colab_Note/blob/main/py01_intro_0703.ipynb\" target=\"_parent\"><img src=\"https://colab.research.google.com/assets/colab-badge.svg\" alt=\"Open In Colab\"/></a>"
      ]
    },
    {
      "cell_type": "markdown",
      "source": [
        "**[0703]**\n",
        "# 파이썬 소개\n",
        "\n",
        "> Colab 소개\n",
        "\n",
        "아래에 코드 셀과 현재의 텍스트 셀로 나뉘며, 환경 세팅을 하지 않고도 python을 사용할 수 있게 해준다.\n",
        "\n",
        "그리고 해당 텍스트 셀을 사용할 땐 마크업 언어로 사용하면 된다.\n",
        "\n",
        "> 간단한 Python 코드\n",
        "\n",
        "코드 셀에서 실행을 하면 실행 버튼이 사라진 뒤 보이는 숫자가 내가 실행한 숫자이다."
      ],
      "metadata": {
        "id": "eMQRgBYN0mO2"
      }
    },
    {
      "cell_type": "code",
      "execution_count": null,
      "metadata": {
        "colab": {
          "base_uri": "https://localhost:8080/"
        },
        "id": "OeSGbQCNxVPC",
        "outputId": "366a731b-3491-4a10-8765-4a6a2d60af1e"
      },
      "outputs": [
        {
          "output_type": "stream",
          "name": "stdout",
          "text": [
            "안녕하세요, Python!\n"
          ]
        }
      ],
      "source": [
        "# inline comment(주석)\n",
        "print('안녕하세요, Python!')    # 파이썬은 ;(세미콜론)을 사용하지 않는다.\n",
        "\n",
        "# 파이썬에서 문자열을 나타낼 때 \"\", '' 든 상관없지만,\n",
        "# 보통 ''를 사용한다."
      ]
    },
    {
      "cell_type": "markdown",
      "source": [
        "# 파이썬 버전 확인"
      ],
      "metadata": {
        "id": "Xn8VJyB41xxd"
      }
    },
    {
      "cell_type": "code",
      "source": [
        "# java의 버전을 확인할 땐, 설치를 했기 때문에 cmd에서 확인하였지만\n",
        "# 가상머신에서는 cmd가 아닌 코드 셀에서 명령을 내려주면 된다.\n",
        "# !(느낌표)로 시작을 하면, cmd 언어로 구분하여 실행해준다.\n",
        "\n",
        "!python --version"
      ],
      "metadata": {
        "colab": {
          "base_uri": "https://localhost:8080/"
        },
        "id": "b5jitqoZ10zE",
        "outputId": "75434ee6-e558-44a2-99eb-3b3a12dfed8b"
      },
      "execution_count": null,
      "outputs": [
        {
          "output_type": "stream",
          "name": "stdout",
          "text": [
            "Python 3.10.12\n"
          ]
        }
      ]
    },
    {
      "cell_type": "markdown",
      "source": [
        "코드 셀에서 명령창(command prompt)에서 실행하는 명령어를 작성하고 실행할 때는 !로 시작한다."
      ],
      "metadata": {
        "id": "JEWmy5zc2kJj"
      }
    },
    {
      "cell_type": "markdown",
      "source": [
        "**[0704]**\n",
        "\n",
        "# 코드셀 실행 방법\n",
        "\n",
        "* 코드셀 왼쪽의 실행 버튼을 클릭.\n",
        "* Ctrl + Enter: 현재 포커스가 있는 코드셀을 실행.\n",
        "* Shift + Enter : 현재 포커스가 있는 코드셀을 실행하고, 그 다음 셀로 포커스를 이동.\n",
        "    * 현재 셀 아래에 다음 셀이 없는 경우에는 새로운 코드 셀을 자동으로 만들어줌.\n",
        "* 런타임 메뉴"
      ],
      "metadata": {
        "id": "wBrJGdYTZ9gI"
      }
    },
    {
      "cell_type": "code",
      "source": [
        "# Shift + Enter로 새로운 셀 생성하면서 현재 포커스 코드 실행\n",
        "print('hello, python!')"
      ],
      "metadata": {
        "id": "McO8oVkZZ9Nh",
        "colab": {
          "base_uri": "https://localhost:8080/"
        },
        "outputId": "d238cde1-c3d0-4836-d9d2-cd6fabe0f84c"
      },
      "execution_count": 1,
      "outputs": [
        {
          "output_type": "stream",
          "name": "stdout",
          "text": [
            "hello, python!\n"
          ]
        }
      ]
    },
    {
      "cell_type": "markdown",
      "source": [
        "# `print()` 함수"
      ],
      "metadata": {
        "id": "eOB5ml_pbSMw"
      }
    },
    {
      "cell_type": "code",
      "source": [
        "print('hello', 'python', '안녕하세요')"
      ],
      "metadata": {
        "colab": {
          "base_uri": "https://localhost:8080/"
        },
        "id": "QMWWBLSMb91b",
        "outputId": "736de255-cc38-42a9-9228-ce93e11d1e13"
      },
      "execution_count": 4,
      "outputs": [
        {
          "output_type": "stream",
          "name": "stdout",
          "text": [
            "hello python 안녕하세요\n"
          ]
        }
      ]
    },
    {
      "cell_type": "markdown",
      "source": [
        "`print()` 함수에 아규먼트를 여러 개 전달하면, 아규먼트들을 공백으로 연결해서 콘솔에 출력함."
      ],
      "metadata": {
        "id": "h8PeV_BRcePZ"
      }
    },
    {
      "cell_type": "markdown",
      "source": [
        "## `format()` 메서드를 사용한 출력"
      ],
      "metadata": {
        "id": "5Pa07IhrbmCo"
      }
    },
    {
      "cell_type": "code",
      "source": [
        "print('{} + {} = {}'.format(1, 2, 3))"
      ],
      "metadata": {
        "colab": {
          "base_uri": "https://localhost:8080/"
        },
        "id": "F5G7FTxQbFCz",
        "outputId": "65c9c880-5f83-4b9a-af26-a110f7d6cc3e"
      },
      "execution_count": 8,
      "outputs": [
        {
          "output_type": "stream",
          "name": "stdout",
          "text": [
            "1 + 2 = 3\n"
          ]
        }
      ]
    },
    {
      "cell_type": "markdown",
      "source": [
        "## formatted string을 사용한 출력\n",
        "\n",
        "Python 3.6 이상의 버전에서 사용할 수 있음."
      ],
      "metadata": {
        "id": "jQk9SYM2ddGf"
      }
    },
    {
      "cell_type": "code",
      "source": [
        "# 변수이름 = 값\n",
        "x = 1\n",
        "y = 2\n",
        "print(f'{x} + {y} = {x + y}')"
      ],
      "metadata": {
        "colab": {
          "base_uri": "https://localhost:8080/"
        },
        "id": "zsgC_9AvdmuZ",
        "outputId": "aed0addc-2777-4012-9ed6-9a478ded8e95"
      },
      "execution_count": 12,
      "outputs": [
        {
          "output_type": "stream",
          "name": "stdout",
          "text": [
            "1 + 2 = 3\n"
          ]
        }
      ]
    },
    {
      "cell_type": "markdown",
      "source": [
        "## ipynb 노트북에서의 콘솔 출력\n",
        "\n",
        "* 식(expression): 값(value), 변수, 연산, 함수 호출\n",
        "    * x, x + y\n",
        "* 문장(statement): 코드의 최소 실행 단위\n",
        "    * z = x + y, result = add(x, y)\n",
        "* ipynb 노트북 코드셀에서 가장 마지막 줄에 있는 문장이 식(expression)이면, 그 식을 평가한 결과를 콘솔에 출력해 줌.\n",
        "    * 즉, 코드셀의 가장 마지막 줄에서는 print() 함수를 호출하지 않아도 출력됨."
      ],
      "metadata": {
        "id": "DCsgNQrsfD_f"
      }
    },
    {
      "cell_type": "code",
      "source": [
        "x = 1\n",
        "print(x)\n",
        "y = 2\n",
        "print(y)\n",
        "# print(x + y)\n",
        "x + y"
      ],
      "metadata": {
        "colab": {
          "base_uri": "https://localhost:8080/"
        },
        "id": "sHwoaifYgoU_",
        "outputId": "13fc5cae-3fa8-4735-b2f3-c7b2f328099c"
      },
      "execution_count": 15,
      "outputs": [
        {
          "output_type": "stream",
          "name": "stdout",
          "text": [
            "1\n",
            "2\n"
          ]
        },
        {
          "output_type": "execute_result",
          "data": {
            "text/plain": [
              "3"
            ]
          },
          "metadata": {},
          "execution_count": 15
        }
      ]
    }
  ]
}