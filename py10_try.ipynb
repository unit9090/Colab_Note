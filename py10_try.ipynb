{
  "nbformat": 4,
  "nbformat_minor": 0,
  "metadata": {
    "colab": {
      "provenance": [],
      "authorship_tag": "ABX9TyN6Q2qpFxayzhgRPDW4OE2f",
      "include_colab_link": true
    },
    "kernelspec": {
      "name": "python3",
      "display_name": "Python 3"
    },
    "language_info": {
      "name": "python"
    }
  },
  "cells": [
    {
      "cell_type": "markdown",
      "metadata": {
        "id": "view-in-github",
        "colab_type": "text"
      },
      "source": [
        "<a href=\"https://colab.research.google.com/github/unit9090/Colab_Note/blob/main/py10_try.ipynb\" target=\"_parent\"><img src=\"https://colab.research.google.com/assets/colab-badge.svg\" alt=\"Open In Colab\"/></a>"
      ]
    },
    {
      "cell_type": "markdown",
      "source": [
        "# 오류(Error) 처리\n",
        "\n",
        "* 오류가 발생한 위치와 원인을 파악해서 오류가 발생하지 않도록 코드 수정.\n",
        "* 오류가 발생하더라도 프로그램이 비정상적으로 종료되지 않고 계속 실행되도록 처리 --> try 구문\n",
        "    * Java는 반드시 try-catch 구문을 사용해야만 하는 Exception 종료들이 있음.\n",
        "        * NullPointerException: try-catch가 필수는 아님.\n",
        "        * IOException, SQLException, ...: try-catch가 필수.\n",
        "    * Python은 모든 오류 처리에서 try-except가 필수는 아님."
      ],
      "metadata": {
        "id": "KiGJA95XH72V"
      }
    },
    {
      "cell_type": "markdown",
      "source": [
        "**Python try-except 구문**\n",
        "\n",
        "```\n",
        "try:\n",
        "    (1) 실행할 코드 블록\n",
        "except [에러 클래스 이름 [as 별명]]:\n",
        "    (2) 에러가 발생했을 때 실행할 코드 블록\n",
        "[else:\n",
        "    (3) 에러가 발생하지 않았을 때 실행할 코드 블록]\n",
        "[finally:\n",
        "    (4) try 블록 실행 중에 에러 발생 여부와 상관 없이 항상 실행할 코드 블록]\n",
        "```\n",
        "\n",
        "* 에러가 발생하지 않는 경우: (1) -> (3) -> (4)\n",
        "* 에러가 발생한 경우: (1) -> (2) -> (4)\n",
        "* except 구문에서 에러 클래스의 이름을 생략하면, 모든 종류의 에러를 잡아서 처리할 수 있음.\n",
        "* 특정 종류의 에러만 처리하고자 할 때는, except 구문에서 에러 클래스 이름을 명시."
      ],
      "metadata": {
        "id": "sbPsiacEJzn1"
      }
    },
    {
      "cell_type": "code",
      "execution_count": 6,
      "metadata": {
        "colab": {
          "base_uri": "https://localhost:8080/"
        },
        "id": "muKU-WOZHwVk",
        "outputId": "038ea4da-aaf5-4136-99ba-653efd9d2ad0"
      },
      "outputs": [
        {
          "output_type": "stream",
          "name": "stdout",
          "text": [
            "정수 입력>>> eio\n",
            "정수로 입력해야 합니다.\n"
          ]
        }
      ],
      "source": [
        "try:\n",
        "    x = int(input('정수 입력>>> '))\n",
        "    print(x)\n",
        "except:\n",
        "    # except ValueError as v:\n",
        "    print('정수로 입력해야 합니다.')"
      ]
    },
    {
      "cell_type": "code",
      "source": [
        "try:\n",
        "    x = int(input('정수 입력>>> '))     #1\n",
        "except ValueError as e:\n",
        "    print(e)    # 2\n",
        "else:\n",
        "    print(f'x = {x}')   # 3\n",
        "finally:\n",
        "    print('=== end ===')    # 4"
      ],
      "metadata": {
        "colab": {
          "base_uri": "https://localhost:8080/"
        },
        "id": "zPG5a1foNtCG",
        "outputId": "38a3b8fc-d9a3-4298-d4f1-6cc97e4adf46"
      },
      "execution_count": 8,
      "outputs": [
        {
          "output_type": "stream",
          "name": "stdout",
          "text": [
            "정수 입력>>> 123\n",
            "x = 123\n",
            "=== end ===\n"
          ]
        }
      ]
    },
    {
      "cell_type": "markdown",
      "source": [
        "## Ex 1.\n",
        "\n",
        "정수 1개를 입력받고, 입력받은 정수를 출력하세요.\n",
        "\n",
        "정수로 변환할 수 없는 문자열이 입력된 경우에는 적절한 오류 메시지를 출력한 후 다시 입력을 받아야 함."
      ],
      "metadata": {
        "id": "A1Fxiv8hTDOT"
      }
    },
    {
      "cell_type": "code",
      "source": [
        "loop = True\n",
        "while loop:\n",
        "    try:\n",
        "        x = int(input('정수를 입력하세요. >>> '))\n",
        "    except:\n",
        "        print('정수를 입력해주세요.')\n",
        "    else:\n",
        "        print(f'x = {x}')\n",
        "        loop = False"
      ],
      "metadata": {
        "colab": {
          "base_uri": "https://localhost:8080/"
        },
        "id": "CsybDCG2TF1L",
        "outputId": "84261b0e-14d3-4880-9fe2-ce4c4a4a8724"
      },
      "execution_count": 10,
      "outputs": [
        {
          "output_type": "stream",
          "name": "stdout",
          "text": [
            "정수를 입력하세요. >>> d\n",
            "정수를 입력해주세요.\n",
            "정수를 입력하세요. >>> dkd\n",
            "정수를 입력해주세요.\n",
            "정수를 입력하세요. >>> ghg\n",
            "정수를 입력해주세요.\n",
            "정수를 입력하세요. >>> dkd\n",
            "정수를 입력해주세요.\n",
            "정수를 입력하세요. >>> 9\n",
            "x = 9\n"
          ]
        }
      ]
    },
    {
      "cell_type": "code",
      "source": [
        "while True:     # 무한 반복문 - 정수를 입력받았을 때 출력하고 반복문 종료\n",
        "    try:\n",
        "        n = int(input('정수 입력>>> '))\n",
        "        print(f'n = {n}')\n",
        "        break\n",
        "    except:\n",
        "        print('입력한 값은 정수가 아닙니다.')"
      ],
      "metadata": {
        "colab": {
          "base_uri": "https://localhost:8080/"
        },
        "id": "FgYh6H8UXj5h",
        "outputId": "3dd968cb-31e7-497c-eb1c-359e3efbe286"
      },
      "execution_count": 21,
      "outputs": [
        {
          "output_type": "stream",
          "name": "stdout",
          "text": [
            "정수 입력>>> ㅇ\\\n",
            "입력한 값은 정수가 아닙니다.\n",
            "정수 입력>>> ㅎㄷㅇ\n",
            "입력한 값은 정수가 아닙니다.\n",
            "정수 입력>>> 65\n",
            "n = 65\n"
          ]
        }
      ]
    },
    {
      "cell_type": "markdown",
      "source": [
        "## Ex 2. 단어 개수 세기\n",
        "\n",
        "리스트 words가 가지고 있는 단어들을 key로 하고, 그 단어가 리스트에 나오는 횟수를 값으로 하는 dict를 생성하고 출력하세요."
      ],
      "metadata": {
        "id": "NMiuI-KwTFL6"
      }
    },
    {
      "cell_type": "code",
      "source": [
        "words = ['java', 'python', 'javascript', 'python', 'sql', 'java', 'python']\n",
        "#> 결과: {'java': 2, 'python': 3, 'javascript': 1, 'sql': 1}"
      ],
      "metadata": {
        "id": "AVG0t0yrTIhS"
      },
      "execution_count": 12,
      "outputs": []
    },
    {
      "cell_type": "code",
      "source": [
        "from collections import Counter\n",
        "\n",
        "counter = Counter(words)\n",
        "dict(counter)"
      ],
      "metadata": {
        "colab": {
          "base_uri": "https://localhost:8080/"
        },
        "id": "W8zj53z7Ve2S",
        "outputId": "53f6b47d-0543-4453-a331-58b1b067ec55"
      },
      "execution_count": 19,
      "outputs": [
        {
          "output_type": "execute_result",
          "data": {
            "text/plain": [
              "{'java': 2, 'python': 3, 'javascript': 1, 'sql': 1}"
            ]
          },
          "metadata": {},
          "execution_count": 19
        }
      ]
    },
    {
      "cell_type": "code",
      "source": [
        "word_dict = {x: words.count(x) for x in words}\n",
        "word_dict"
      ],
      "metadata": {
        "colab": {
          "base_uri": "https://localhost:8080/"
        },
        "id": "2BxAxRk4TtQT",
        "outputId": "ba7d3731-9881-4ccf-dbd7-632115c5f1c2"
      },
      "execution_count": 14,
      "outputs": [
        {
          "output_type": "execute_result",
          "data": {
            "text/plain": [
              "{'java': 2, 'python': 3, 'javascript': 1, 'sql': 1}"
            ]
          },
          "metadata": {},
          "execution_count": 14
        }
      ]
    },
    {
      "cell_type": "code",
      "source": [
        "word_count = {}\n",
        "for x in words:\n",
        "    try:\n",
        "        word_count[x] += 1\n",
        "    except:\n",
        "        word_count[x] = 1\n",
        "word_count"
      ],
      "metadata": {
        "colab": {
          "base_uri": "https://localhost:8080/"
        },
        "id": "aa2uR_LFUkcS",
        "outputId": "c4e40873-271f-4be8-b952-c5d16ec6bc46"
      },
      "execution_count": 20,
      "outputs": [
        {
          "output_type": "execute_result",
          "data": {
            "text/plain": [
              "{'java': 2, 'python': 3, 'javascript': 1, 'sql': 1}"
            ]
          },
          "metadata": {},
          "execution_count": 20
        }
      ]
    },
    {
      "cell_type": "code",
      "source": [
        "teacher_count = {}  # 단어/단어 빈도수를 저장할 빈 dict\n",
        "for w in words:     # 리스트 words에서 단어를 순서대로 꺼내서 반복하면서\n",
        "    if w in teacher_count:  # 단어가 dict의 키(key)로 존재하면\n",
        "        teacher_count[w] += 1\n",
        "    else:\n",
        "        teacher_count[w] = 1\n",
        "\n",
        "teacher_count"
      ],
      "metadata": {
        "colab": {
          "base_uri": "https://localhost:8080/"
        },
        "id": "qHl2kZDxZAsh",
        "outputId": "29a60d6a-9c53-4255-f5d7-3d3a8a8dc35c"
      },
      "execution_count": 23,
      "outputs": [
        {
          "output_type": "execute_result",
          "data": {
            "text/plain": [
              "{'java': 2, 'python': 3, 'javascript': 1, 'sql': 1}"
            ]
          },
          "metadata": {},
          "execution_count": 23
        }
      ]
    },
    {
      "cell_type": "code",
      "source": [
        "# collections 모듈에서 defaultdict 함수를 임포트\n",
        "# form m(modul) import f(fuction)\n",
        "from collections import defaultdict"
      ],
      "metadata": {
        "id": "eGPZmSP3c64Y"
      },
      "execution_count": 24,
      "outputs": []
    },
    {
      "cell_type": "code",
      "source": [
        "word_count2 = defaultdict(int)\n",
        "for w in words:\n",
        "    word_count2[w] += 1\n",
        "\n",
        "print(word_count2)\n",
        "print(dict(word_count2))"
      ],
      "metadata": {
        "colab": {
          "base_uri": "https://localhost:8080/"
        },
        "id": "n8Mv_NgTeLVY",
        "outputId": "4db79480-0898-4a86-b59d-e36df348394d"
      },
      "execution_count": 26,
      "outputs": [
        {
          "output_type": "stream",
          "name": "stdout",
          "text": [
            "defaultdict(<class 'int'>, {'java': 2, 'python': 3, 'javascript': 1, 'sql': 1})\n",
            "{'java': 2, 'python': 3, 'javascript': 1, 'sql': 1}\n"
          ]
        }
      ]
    }
  ]
}