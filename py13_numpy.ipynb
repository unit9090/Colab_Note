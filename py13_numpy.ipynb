{
  "nbformat": 4,
  "nbformat_minor": 0,
  "metadata": {
    "colab": {
      "provenance": [],
      "authorship_tag": "ABX9TyP2XZKbto5f2j+4PCTDxV2r",
      "include_colab_link": true
    },
    "kernelspec": {
      "name": "python3",
      "display_name": "Python 3"
    },
    "language_info": {
      "name": "python"
    }
  },
  "cells": [
    {
      "cell_type": "markdown",
      "metadata": {
        "id": "view-in-github",
        "colab_type": "text"
      },
      "source": [
        "<a href=\"https://colab.research.google.com/github/unit9090/Colab_Note/blob/main/py13_numpy.ipynb\" target=\"_parent\"><img src=\"https://colab.research.google.com/assets/colab-badge.svg\" alt=\"Open In Colab\"/></a>"
      ]
    },
    {
      "cell_type": "markdown",
      "source": [
        "# 데이터 분석 패키지\n",
        "\n",
        "Google Colab에는 데이터 분석과 머신 러닝에 필요한 대부분의 패키지(라이브러리)들이 이미 설치가 되어 있음.\n",
        "\n",
        "개인 PC에 환경 설정을 하고 싶다면 python을 설치 후 아래의 라이브러리를 설치를 해주면 된다.\n",
        "* NumPy: 다차원 배열(n-dimensional array)을 다루는 패키지. 머신 러닝에서 중요하게 사용됨.\n",
        "    * https://numpy.org/\n",
        "    * https://numpy.org/doc/stable/user/index.html#user : 문서\n",
        "* pandas: 시리즈(Series), 데이터프레임(DataFrame)을 다루는 패키지. 데이터 분석에서 기본으로 사용되는 패키지.\n",
        "    * https://pandas.pydata.org/\n",
        "* matplotlib: 데이터 시각화(그래프).\n",
        "    * https://matplotlib.org/\n",
        "* seaborn: 데이터 시각화. 통계 작업.\n",
        "    * https://seaborn.pydata.org/\n",
        "\n",
        "Google Colab에서는 import만 해주면 됨."
      ],
      "metadata": {
        "id": "qFELvsRxVaxY"
      }
    },
    {
      "cell_type": "code",
      "source": [
        "import numpy as np          # numpy\n",
        "import pandas as pd         # pandas\n",
        "import matplotlib as mpl    # matplotlib\n",
        "import seaborn as sns       # seaborn"
      ],
      "metadata": {
        "id": "kUEEj1nhapk3"
      },
      "execution_count": 2,
      "outputs": []
    },
    {
      "cell_type": "code",
      "source": [
        "print('NumPy version:', np.__version__)\n",
        "print('pandas version:', pd.__version__)\n",
        "print('Matplotlib version:', mpl.__version__)\n",
        "print('seaborn version:', sns.__version__)"
      ],
      "metadata": {
        "colab": {
          "base_uri": "https://localhost:8080/"
        },
        "id": "vdEAiXGObVA_",
        "outputId": "f54badb8-13c1-40f0-aa22-acacf894bf45"
      },
      "execution_count": 4,
      "outputs": [
        {
          "output_type": "stream",
          "name": "stdout",
          "text": [
            "NumPy version: 1.22.4\n",
            "pandas version: 1.5.3\n",
            "Matplotlib version: 3.7.1\n",
            "seaborn version: 0.12.2\n"
          ]
        }
      ]
    },
    {
      "cell_type": "markdown",
      "source": [
        "# Python `list` class\n",
        "\n",
        "* 여러 개의 값들을 저장할 수 있는 데이터 타입.\n",
        "* 인덱스를 기반으로 값들을 저장, 참조하는 데이터 타입.\n",
        "    * indexing: 인덱스를 사용해서 원하는 위치의 값을 참조, 변경.\n",
        "    * slicing: `[start, end)` 인덱스 범위의 값들로 이루어진 부분집합을 잘라내는 방법.\n",
        "* `list + list`: 2개의 리스트를 이어붙이기(concatenate).\n",
        "* `list * int`, `int * list`: 리스트의 원소들을 정수만큼 반복해서 복제(replicate)."
      ],
      "metadata": {
        "id": "uoXalCkxcNjO"
      }
    },
    {
      "cell_type": "code",
      "source": [
        "list1 = [1, 2, 3, 4]\n",
        "list2 = [10, 20, 30, 40]"
      ],
      "metadata": {
        "id": "2uTkyGpRdKbO"
      },
      "execution_count": 5,
      "outputs": []
    },
    {
      "cell_type": "code",
      "source": [
        "# indexing:\n",
        "print(list1[0])                 # list1의 첫번째 원소\n",
        "print(list1[3], list1[-1])      # list1의 마지막 원소"
      ],
      "metadata": {
        "colab": {
          "base_uri": "https://localhost:8080/"
        },
        "id": "KQstplKDdQlm",
        "outputId": "abffcfd3-9266-40d1-fc0a-774063eb11fe"
      },
      "execution_count": 7,
      "outputs": [
        {
          "output_type": "stream",
          "name": "stdout",
          "text": [
            "1\n",
            "4 4\n"
          ]
        }
      ]
    },
    {
      "cell_type": "code",
      "source": [
        "# slicing\n",
        "print(list1[:3])                # list1에서 앞에서 3개 원소 자르기\n",
        "print(list1[-3:])               # list1에서 뒤에서 3개 원소 자르기"
      ],
      "metadata": {
        "colab": {
          "base_uri": "https://localhost:8080/"
        },
        "id": "A67bjDAwdiH_",
        "outputId": "e3bcbbac-6533-43e6-e37f-7ff64f5a77c7"
      },
      "execution_count": 8,
      "outputs": [
        {
          "output_type": "stream",
          "name": "stdout",
          "text": [
            "[1, 2, 3]\n",
            "[2, 3, 4]\n"
          ]
        }
      ]
    },
    {
      "cell_type": "code",
      "source": [
        "list1 + list2"
      ],
      "metadata": {
        "colab": {
          "base_uri": "https://localhost:8080/"
        },
        "id": "WrOmRi3Md1hB",
        "outputId": "852fefb8-d916-4ef2-b2bd-5186edb5620e"
      },
      "execution_count": 9,
      "outputs": [
        {
          "output_type": "execute_result",
          "data": {
            "text/plain": [
              "[1, 2, 3, 4, 10, 20, 30, 40]"
            ]
          },
          "metadata": {},
          "execution_count": 9
        }
      ]
    },
    {
      "cell_type": "code",
      "source": [
        "list1 * 3"
      ],
      "metadata": {
        "colab": {
          "base_uri": "https://localhost:8080/"
        },
        "id": "E6eLW6God41m",
        "outputId": "238f2f2d-8ea2-472b-f2f5-99ea9f4efaa5"
      },
      "execution_count": 12,
      "outputs": [
        {
          "output_type": "execute_result",
          "data": {
            "text/plain": [
              "[1, 2, 3, 4, 1, 2, 3, 4, 1, 2, 3, 4]"
            ]
          },
          "metadata": {},
          "execution_count": 12
        }
      ]
    },
    {
      "cell_type": "code",
      "source": [
        "# list1, list2에서 같은 인덱스 위치의 원소들끼리 덧셈\n",
        "[x + y for x, y in zip(list1, list2)]"
      ],
      "metadata": {
        "colab": {
          "base_uri": "https://localhost:8080/"
        },
        "id": "6HUr6DCheLI2",
        "outputId": "1c643601-ff52-4915-e488-29b459510287"
      },
      "execution_count": 13,
      "outputs": [
        {
          "output_type": "execute_result",
          "data": {
            "text/plain": [
              "[11, 22, 33, 44]"
            ]
          },
          "metadata": {},
          "execution_count": 13
        }
      ]
    },
    {
      "cell_type": "code",
      "source": [
        "# list1의 모든 원소에 3을 곱함.\n",
        "[3 * x for x in list1]"
      ],
      "metadata": {
        "colab": {
          "base_uri": "https://localhost:8080/"
        },
        "id": "vIyE8CVKeWM2",
        "outputId": "0521d744-bd5c-4f28-98d4-6bec9e020383"
      },
      "execution_count": 14,
      "outputs": [
        {
          "output_type": "execute_result",
          "data": {
            "text/plain": [
              "[3, 6, 9, 12]"
            ]
          },
          "metadata": {},
          "execution_count": 14
        }
      ]
    },
    {
      "cell_type": "markdown",
      "source": [
        "# NumPy\n",
        "\n",
        "* 배열(ndarray)을 쉽고 빠르게 연산(+, -, *, /, //, %)을 수행하는 라이브러리.\n",
        "* NumPy 패키지의 함수 또는 메서드들을 대부분 반복문의 기능을 가지고 있음.\n",
        "* np.ndarray 클래스: NumPy 패키지에서 기본 타입 클래스. n차원 배열(n-dimensional array).\n",
        "    * `ndarray`는 같은 인덱스(위치)에 있는 원소들끼리 연산을 수행."
      ],
      "metadata": {
        "id": "CQWif8Ysiybd"
      }
    },
    {
      "cell_type": "code",
      "source": [
        "array1 = np.array([1, 2, 3])    # python의 list 객체를 numpy의 ndarray 객체로 변환."
      ],
      "metadata": {
        "id": "-oGGqhdYjdpW"
      },
      "execution_count": 15,
      "outputs": []
    },
    {
      "cell_type": "code",
      "source": [
        "type(array1)"
      ],
      "metadata": {
        "colab": {
          "base_uri": "https://localhost:8080/"
        },
        "id": "L0CmV0U9kYgd",
        "outputId": "c3c237fd-dcbf-4318-aa0a-0347c69916db"
      },
      "execution_count": 17,
      "outputs": [
        {
          "output_type": "execute_result",
          "data": {
            "text/plain": [
              "numpy.ndarray"
            ]
          },
          "metadata": {},
          "execution_count": 17
        }
      ]
    },
    {
      "cell_type": "code",
      "source": [
        "print(array1)   # print() 함수는 __str__ 메서드의 리턴값을 출력"
      ],
      "metadata": {
        "colab": {
          "base_uri": "https://localhost:8080/"
        },
        "id": "xCvAasmVkeYk",
        "outputId": "8de27cff-f8e7-403a-8be1-821327f008d5"
      },
      "execution_count": 19,
      "outputs": [
        {
          "output_type": "stream",
          "name": "stdout",
          "text": [
            "[1 2 3]\n"
          ]
        }
      ]
    },
    {
      "cell_type": "code",
      "source": [
        "array1          # expression은 __repr__ 메서드의 리턴값을 출력"
      ],
      "metadata": {
        "colab": {
          "base_uri": "https://localhost:8080/"
        },
        "id": "82l55lxmkh6k",
        "outputId": "aaa82a64-c7e1-445c-b3fe-3e87a2a60265"
      },
      "execution_count": 20,
      "outputs": [
        {
          "output_type": "execute_result",
          "data": {
            "text/plain": [
              "array([1, 2, 3])"
            ]
          },
          "metadata": {},
          "execution_count": 20
        }
      ]
    },
    {
      "cell_type": "code",
      "source": [
        "array2 = np.array([4, 5, 6])\n",
        "print(array2)"
      ],
      "metadata": {
        "colab": {
          "base_uri": "https://localhost:8080/"
        },
        "id": "L_aodClklNLs",
        "outputId": "0c1036b0-0b07-4378-ffcb-fddffd793608"
      },
      "execution_count": 22,
      "outputs": [
        {
          "output_type": "stream",
          "name": "stdout",
          "text": [
            "[4 5 6]\n"
          ]
        }
      ]
    },
    {
      "cell_type": "code",
      "source": [
        "# ndarray의 사칙연산 - 같은 인덱스의 원소들끼리(element-wise) 연산 수행.\n",
        "print(array1 + array2)\n",
        "print(array1 - array2)\n",
        "print(array1 * array2)\n",
        "print(array1 / array2)"
      ],
      "metadata": {
        "colab": {
          "base_uri": "https://localhost:8080/"
        },
        "id": "uHhyW3oelT61",
        "outputId": "067fd8b4-89c2-4402-c088-00953b335cc1"
      },
      "execution_count": 23,
      "outputs": [
        {
          "output_type": "stream",
          "name": "stdout",
          "text": [
            "[5 7 9]\n",
            "[-3 -3 -3]\n",
            "[ 4 10 18]\n",
            "[0.25 0.4  0.5 ]\n"
          ]
        }
      ]
    },
    {
      "cell_type": "markdown",
      "source": [
        "## ndarray 클래스의 속성들"
      ],
      "metadata": {
        "id": "wpYT54Nymens"
      }
    },
    {
      "cell_type": "code",
      "source": [
        "print(array1)\n",
        "print('ndim:', array1.ndim)     # 차원(dimesion). 배열의 축(axis)의 개수.\n",
        "print('size:', array1.size)     # 배열의 크기. 원소 개수\n",
        "print('shape:', array1.shape)   # 배열의 모양. 각 차원에서의 원소 개수. (x축의 개수, y축의 개수)\n",
        "print('dtype:', array1.dtype)   # 배열 원소의 데이터 타입. int64는 ndarray에서 정의된 타입.(int8, int16, int32, int64, float8, float16, ...)"
      ],
      "metadata": {
        "colab": {
          "base_uri": "https://localhost:8080/"
        },
        "id": "g40e6-yVmgyd",
        "outputId": "9eafd60c-7acf-4ed8-a037-7d990b1d17cd"
      },
      "execution_count": 28,
      "outputs": [
        {
          "output_type": "stream",
          "name": "stdout",
          "text": [
            "[1 2 3]\n",
            "ndim: 1\n",
            "size: 3\n",
            "shape: (3,)\n",
            "dtype: int64\n"
          ]
        }
      ]
    },
    {
      "cell_type": "markdown",
      "source": [
        "`ndarray`는 한 가지 타입의 데이터들만 저장할 수 있는 데이터 타입 - list와 다른 점."
      ],
      "metadata": {
        "id": "IE51Ry0hoNbE"
      }
    },
    {
      "cell_type": "markdown",
      "source": [
        "## 2차원 배열"
      ],
      "metadata": {
        "id": "fZKSUyFoo0x0"
      }
    },
    {
      "cell_type": "code",
      "source": [
        "array_2d = np.array([\n",
        "    [1, 2, 3, 4],\n",
        "    [5, 6, 7, 8],\n",
        "    [9, 10, 11, 12]\n",
        "])"
      ],
      "metadata": {
        "id": "pQdtrMBWmiQ0"
      },
      "execution_count": 39,
      "outputs": []
    },
    {
      "cell_type": "code",
      "source": [
        "type(array_2d)"
      ],
      "metadata": {
        "colab": {
          "base_uri": "https://localhost:8080/"
        },
        "id": "nxjBk-9ApOEz",
        "outputId": "a45525e6-0e89-4544-d7c2-2f69af4da2e3"
      },
      "execution_count": 40,
      "outputs": [
        {
          "output_type": "execute_result",
          "data": {
            "text/plain": [
              "numpy.ndarray"
            ]
          },
          "metadata": {},
          "execution_count": 40
        }
      ]
    },
    {
      "cell_type": "code",
      "source": [
        "print(array_2d)"
      ],
      "metadata": {
        "colab": {
          "base_uri": "https://localhost:8080/"
        },
        "id": "Mu24iLUypcPj",
        "outputId": "5349964d-805f-4359-c0bf-381ad0b2d6f6"
      },
      "execution_count": 41,
      "outputs": [
        {
          "output_type": "stream",
          "name": "stdout",
          "text": [
            "[[ 1  2  3  4]\n",
            " [ 5  6  7  8]\n",
            " [ 9 10 11 12]]\n"
          ]
        }
      ]
    },
    {
      "cell_type": "code",
      "source": [
        "array_2d"
      ],
      "metadata": {
        "colab": {
          "base_uri": "https://localhost:8080/"
        },
        "id": "x3Ic49OyprrT",
        "outputId": "6afac8d1-fa1c-4a6e-f814-a1639ab7d803"
      },
      "execution_count": 42,
      "outputs": [
        {
          "output_type": "execute_result",
          "data": {
            "text/plain": [
              "array([[ 1,  2,  3,  4],\n",
              "       [ 5,  6,  7,  8],\n",
              "       [ 9, 10, 11, 12]])"
            ]
          },
          "metadata": {},
          "execution_count": 42
        }
      ]
    },
    {
      "cell_type": "code",
      "source": [
        "print('ndim:', array_2d.ndim)     # 차원\n",
        "print('size:', array_2d.size)     # 크기\n",
        "print('shape:', array_2d.shape)   # 모양\n",
        "print('dtype:', array_2d.dtype)   # 데이터 타입"
      ],
      "metadata": {
        "colab": {
          "base_uri": "https://localhost:8080/"
        },
        "id": "OwtSZSmsp2pj",
        "outputId": "cdb8316b-216e-42a5-d7ad-9cceb10f604e"
      },
      "execution_count": 43,
      "outputs": [
        {
          "output_type": "stream",
          "name": "stdout",
          "text": [
            "ndim: 2\n",
            "size: 12\n",
            "shape: (3, 4)\n",
            "dtype: int64\n"
          ]
        }
      ]
    },
    {
      "cell_type": "markdown",
      "source": [
        "### 2차원 `ndarray`의 인덱스 사용 방법:\n",
        "\n",
        "* `array[i][j]` - Python list와 같은 사용 방법.\n",
        "* `array[i, j]` - ndarray에서만 사용 가능."
      ],
      "metadata": {
        "id": "ih-VMb_lu9uJ"
      }
    },
    {
      "cell_type": "code",
      "source": [
        "array_2d[0, 0]      # array_2d[0][0]"
      ],
      "metadata": {
        "colab": {
          "base_uri": "https://localhost:8080/"
        },
        "id": "0zf8LByTv6K5",
        "outputId": "6c3e1428-581e-4449-fc18-5b3ef3bde4dd"
      },
      "execution_count": 45,
      "outputs": [
        {
          "output_type": "execute_result",
          "data": {
            "text/plain": [
              "1"
            ]
          },
          "metadata": {},
          "execution_count": 45
        }
      ]
    },
    {
      "cell_type": "code",
      "source": [
        "array_2d[1, 2]      # array_2d[1][2]"
      ],
      "metadata": {
        "colab": {
          "base_uri": "https://localhost:8080/"
        },
        "id": "sEjf3IohwHLr",
        "outputId": "44ebee1a-5387-45a5-a92b-4a7c9c6f8e55"
      },
      "execution_count": 46,
      "outputs": [
        {
          "output_type": "execute_result",
          "data": {
            "text/plain": [
              "7"
            ]
          },
          "metadata": {},
          "execution_count": 46
        }
      ]
    },
    {
      "cell_type": "markdown",
      "source": [
        "## `ndarray` 인덱스"
      ],
      "metadata": {
        "id": "247EOjTnwab7"
      }
    },
    {
      "cell_type": "code",
      "source": [
        "# [0, 100) 범위의 정수 난수 10개를 갖는 ndarray 객체를 생성:\n",
        "array = np.random.randint(0, 100, size = 10)\n",
        "print(array)"
      ],
      "metadata": {
        "colab": {
          "base_uri": "https://localhost:8080/"
        },
        "id": "Naf6q9RVwcw5",
        "outputId": "329f5de6-26ca-45cd-fb96-9629129a256b"
      },
      "execution_count": 48,
      "outputs": [
        {
          "output_type": "stream",
          "name": "stdout",
          "text": [
            "[58 69 79 92  2 19 58 35 18 89]\n"
          ]
        }
      ]
    },
    {
      "cell_type": "code",
      "source": [
        "# indexing:\n",
        "print(array[0])     # 첫번째 원소\n",
        "print(array[-1])    # 마지막 원소"
      ],
      "metadata": {
        "colab": {
          "base_uri": "https://localhost:8080/"
        },
        "id": "8vLMddwQxuGZ",
        "outputId": "a6354de9-5a1f-40a5-d1c8-124877345563"
      },
      "execution_count": 49,
      "outputs": [
        {
          "output_type": "stream",
          "name": "stdout",
          "text": [
            "58\n",
            "89\n"
          ]
        }
      ]
    },
    {
      "cell_type": "code",
      "source": [
        "# slicing:\n",
        "print(array[:3])    # 첫 3개 원소 자르기\n",
        "print(array[-3:])   # 마지막 3개 원소 자르기"
      ],
      "metadata": {
        "colab": {
          "base_uri": "https://localhost:8080/"
        },
        "id": "Kg3hy6JOx3ir",
        "outputId": "fd012d57-1d99-41ba-b7c6-8b48bab83a86"
      },
      "execution_count": 51,
      "outputs": [
        {
          "output_type": "stream",
          "name": "stdout",
          "text": [
            "[58 69 79]\n",
            "[35 18 89]\n"
          ]
        }
      ]
    },
    {
      "cell_type": "code",
      "source": [
        "print(array[0])     # indexing -> 아이템(값)\n",
        "print(array[0:1])   # slicing -> 배열(ndarray)"
      ],
      "metadata": {
        "colab": {
          "base_uri": "https://localhost:8080/"
        },
        "id": "sK35xdCByYxJ",
        "outputId": "4167ddb6-1417-4039-bf6f-1613bd8c43e2"
      },
      "execution_count": 52,
      "outputs": [
        {
          "output_type": "stream",
          "name": "stdout",
          "text": [
            "58\n",
            "[58]\n"
          ]
        }
      ]
    },
    {
      "cell_type": "markdown",
      "source": [
        "### fancy indexing\n",
        "\n",
        "* 배열과 비슷한 객체(ndarray, list, tuple, set, ...)를 사용해서 원하는 원소들을 참조하는 방법.\n",
        "* fancy indexing의 결과는 ndarray."
      ],
      "metadata": {
        "id": "SqRl1Z2kyrMQ"
      }
    },
    {
      "cell_type": "code",
      "source": [
        "print(array)\n",
        "print(array[0])     # indexing\n",
        "# fancy indexing - 인덱스 0, 2, 4 원소들 찾기\n",
        "print(array[[0, 2, 4]])     # 밖 - index, 안 - list => 배열에서 0, 2, 4을 골라라.\n",
        "print(array[[0]])           # fancy indexing => 결과는 배열!"
      ],
      "metadata": {
        "colab": {
          "base_uri": "https://localhost:8080/"
        },
        "id": "0ltFTN0VzI6C",
        "outputId": "5a4e4580-a5ad-4717-abd7-4fd84590e271"
      },
      "execution_count": 55,
      "outputs": [
        {
          "output_type": "stream",
          "name": "stdout",
          "text": [
            "[58 69 79 92  2 19 58 35 18 89]\n",
            "58\n",
            "[58 79  2]\n",
            "[58]\n"
          ]
        }
      ]
    },
    {
      "cell_type": "markdown",
      "source": [
        "### boolean indexing\n",
        "\n",
        "* 논리값(True/False)들의 배열(리스트, 튜플, ...)을 사용한 fancy indexing 방법.\n",
        "* 배열에서 조건을 만족하는 원소들로 이루어진 부분집합(ndarray)를 만드는 방법."
      ],
      "metadata": {
        "id": "1b3jGlmg0oaI"
      }
    },
    {
      "cell_type": "code",
      "source": [
        "print(array)\n",
        "# True와 False를 넘겨서 True인 것들만 뽑는 방법\n",
        "# 넘기는 True, False 값이 배열의 길이와 같아야 함.\n",
        "print(array[[True, False, True, False, True, False, True, False, True, False]])"
      ],
      "metadata": {
        "colab": {
          "base_uri": "https://localhost:8080/"
        },
        "id": "_XiR7e8Y1BH4",
        "outputId": "078c34d5-9786-4a02-f759-cde117ed69b1"
      },
      "execution_count": 59,
      "outputs": [
        {
          "output_type": "stream",
          "name": "stdout",
          "text": [
            "[58 69 79 92  2 19 58 35 18 89]\n",
            "[58 79  2 58 18]\n"
          ]
        }
      ]
    },
    {
      "cell_type": "code",
      "source": [
        "# 배열 array의 원소들 중 홀수들만 찾기:\n",
        "print(array % 2)\n",
        "print(array % 2 == 1)\n",
        "print(array[array % 2 == 1])"
      ],
      "metadata": {
        "colab": {
          "base_uri": "https://localhost:8080/"
        },
        "id": "9YyySRzb1C2J",
        "outputId": "19d92d5b-d868-4f85-8b6b-b5a1a7804e5e"
      },
      "execution_count": 63,
      "outputs": [
        {
          "output_type": "stream",
          "name": "stdout",
          "text": [
            "[0 1 1 0 0 1 0 1 0 1]\n",
            "[False  True  True False False  True False  True False  True]\n",
            "[69 79 19 35 89]\n"
          ]
        }
      ]
    },
    {
      "cell_type": "code",
      "source": [
        "# 배열 array의 원소들 중에서 50 이상인 숫자들의 배열을 찾기:\n",
        "print(array[array >= 50])"
      ],
      "metadata": {
        "colab": {
          "base_uri": "https://localhost:8080/"
        },
        "id": "HI_cdprG16GH",
        "outputId": "b87e3609-ed5f-487e-afeb-11342f931e7a"
      },
      "execution_count": 64,
      "outputs": [
        {
          "output_type": "stream",
          "name": "stdout",
          "text": [
            "[58 69 79 92 58 89]\n"
          ]
        }
      ]
    },
    {
      "cell_type": "markdown",
      "source": [
        "## NumPy의 통계 함수, 메서드\n",
        "\n",
        "* np.function(ndarray) 함수\n",
        "* np.ndarray.method() 메서드"
      ],
      "metadata": {
        "id": "oG4hZbNy3n2_"
      }
    },
    {
      "cell_type": "code",
      "source": [
        "array = np.array([1, 2, 3, 4, 5])\n",
        "print(array)"
      ],
      "metadata": {
        "colab": {
          "base_uri": "https://localhost:8080/"
        },
        "id": "5p9cBco83_Qg",
        "outputId": "051ce243-24fb-44a9-adb3-e5ceb3698b44"
      },
      "execution_count": 65,
      "outputs": [
        {
          "output_type": "stream",
          "name": "stdout",
          "text": [
            "[1 2 3 4 5]\n"
          ]
        }
      ]
    },
    {
      "cell_type": "code",
      "source": [
        "# 합계:\n",
        "print(np.sum(array))    # 함수\n",
        "print(array.sum())      # 메서드"
      ],
      "metadata": {
        "colab": {
          "base_uri": "https://localhost:8080/"
        },
        "id": "sRpv4c7u4Ya3",
        "outputId": "086add53-2200-4cd0-eaa4-70746b042fff"
      },
      "execution_count": 68,
      "outputs": [
        {
          "output_type": "stream",
          "name": "stdout",
          "text": [
            "15\n",
            "15\n"
          ]
        }
      ]
    },
    {
      "cell_type": "code",
      "source": [
        "# 평균\n",
        "print(np.mean(array))   # 함수\n",
        "print(array.mean())     # 메서드"
      ],
      "metadata": {
        "colab": {
          "base_uri": "https://localhost:8080/"
        },
        "id": "DjJ8im085Rye",
        "outputId": "61a6a4e7-4770-47ad-e430-b32ed695a008"
      },
      "execution_count": 70,
      "outputs": [
        {
          "output_type": "stream",
          "name": "stdout",
          "text": [
            "3.0\n",
            "3.0\n"
          ]
        }
      ]
    },
    {
      "cell_type": "code",
      "source": [],
      "metadata": {
        "id": "fQqB2xKJ5hFn"
      },
      "execution_count": null,
      "outputs": []
    }
  ]
}