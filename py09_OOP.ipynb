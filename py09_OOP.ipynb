{
  "nbformat": 4,
  "nbformat_minor": 0,
  "metadata": {
    "colab": {
      "provenance": [],
      "authorship_tag": "ABX9TyO41VkCcvDzal5KEl/boZ5V",
      "include_colab_link": true
    },
    "kernelspec": {
      "name": "python3",
      "display_name": "Python 3"
    },
    "language_info": {
      "name": "python"
    }
  },
  "cells": [
    {
      "cell_type": "markdown",
      "metadata": {
        "id": "view-in-github",
        "colab_type": "text"
      },
      "source": [
        "<a href=\"https://colab.research.google.com/github/unit9090/Colab_Note/blob/main/py09_OOP.ipynb\" target=\"_parent\"><img src=\"https://colab.research.google.com/assets/colab-badge.svg\" alt=\"Open In Colab\"/></a>"
      ]
    },
    {
      "cell_type": "markdown",
      "source": [
        "# 객체 지향 프로그래밍(OOP: Object-Oriented Programing)"
      ],
      "metadata": {
        "id": "RSZXupSDz2ZS"
      }
    },
    {
      "cell_type": "code",
      "execution_count": 36,
      "metadata": {
        "id": "8pTTU7Vkzxly"
      },
      "outputs": [],
      "source": [
        "class Student:\n",
        "    # 생성자 함수: 생성자를 호출하면 파이썬 인터프리터에 의해서 자동으로 호출되는 메서드.\n",
        "    # 클래스 안에서 def로 생성자를 만들 때, 첫 파라미터는 self이다.\n",
        "    def __init__(self, no, name, python, java, javascript):\n",
        "            self.no = no\n",
        "            self.name = name\n",
        "            self.python = python\n",
        "            self.java = java\n",
        "            self.javascript = javascript\n",
        "\n",
        "    # 메서드\n",
        "    def get_total(self):\n",
        "        # self 생략 불가\n",
        "        # 파이썬의 메서드는 멤버들을 접근할 때 반드시 self 키워드를 사용해야 함.\n",
        "        return self.python + self.java + self.javascript\n",
        "\n",
        "    def get_mean(self):\n",
        "        return self.get_total() / 3\n",
        "\n",
        "    def print_info(self):\n",
        "        print(f'Student(번호 = {self.no}, 이름 = {self.name}, python = {self.python}, java = {self.java}, javascript = {self.javascript})')"
      ]
    },
    {
      "cell_type": "code",
      "source": [
        "# Student 타입의 객체 생성\n",
        "student1 = Student(1, '홍길동', 100, 90, 50)    # 생성자 호출: 생성자 이름-클래스 이름, new 키워드를 사용하지 않음."
      ],
      "metadata": {
        "id": "5JuZatqU15wZ"
      },
      "execution_count": 37,
      "outputs": []
    },
    {
      "cell_type": "code",
      "source": [
        "print(student1)     # 객체 student1을 문자열로 출력"
      ],
      "metadata": {
        "colab": {
          "base_uri": "https://localhost:8080/"
        },
        "id": "ll9hyg4v4RIf",
        "outputId": "0f5ff802-2608-4551-ac76-879f30c351e6"
      },
      "execution_count": 38,
      "outputs": [
        {
          "output_type": "stream",
          "name": "stdout",
          "text": [
            "<__main__.Student object at 0x7f5d5d346200>\n"
          ]
        }
      ]
    },
    {
      "cell_type": "code",
      "source": [
        "student1            # 객체 student1의 식(expression)을 출력"
      ],
      "metadata": {
        "colab": {
          "base_uri": "https://localhost:8080/"
        },
        "id": "X7g99gYn4fkR",
        "outputId": "aaeb5e71-373c-41a2-ba34-b9585af8e668"
      },
      "execution_count": 39,
      "outputs": [
        {
          "output_type": "execute_result",
          "data": {
            "text/plain": [
              "<__main__.Student at 0x7f5d5d346200>"
            ]
          },
          "metadata": {},
          "execution_count": 39
        }
      ]
    },
    {
      "cell_type": "code",
      "source": [
        "student1.no"
      ],
      "metadata": {
        "colab": {
          "base_uri": "https://localhost:8080/"
        },
        "id": "7NJ90WPW4jfn",
        "outputId": "a54f0ca0-e3e7-4bfd-d430-20d6020f07ad"
      },
      "execution_count": 40,
      "outputs": [
        {
          "output_type": "execute_result",
          "data": {
            "text/plain": [
              "1"
            ]
          },
          "metadata": {},
          "execution_count": 40
        }
      ]
    },
    {
      "cell_type": "code",
      "source": [
        "student1.name"
      ],
      "metadata": {
        "colab": {
          "base_uri": "https://localhost:8080/",
          "height": 35
        },
        "id": "dJXCirAs5uUP",
        "outputId": "e1094fdd-17fa-485f-cd04-ac95cecc1417"
      },
      "execution_count": 41,
      "outputs": [
        {
          "output_type": "execute_result",
          "data": {
            "text/plain": [
              "'홍길동'"
            ],
            "application/vnd.google.colaboratory.intrinsic+json": {
              "type": "string"
            }
          },
          "metadata": {},
          "execution_count": 41
        }
      ]
    },
    {
      "cell_type": "code",
      "source": [
        "# 파이썬 인터프리터가 보내는 argument는 없지만 self를 넣어줌.\n",
        "# 그래서 parameter를 받을 수 있음.\n",
        "student1.get_total()"
      ],
      "metadata": {
        "colab": {
          "base_uri": "https://localhost:8080/"
        },
        "id": "2XrMGJRx5vru",
        "outputId": "d7deb1f7-7b19-48a3-fcd1-2489577e4279"
      },
      "execution_count": 42,
      "outputs": [
        {
          "output_type": "execute_result",
          "data": {
            "text/plain": [
              "240"
            ]
          },
          "metadata": {},
          "execution_count": 42
        }
      ]
    },
    {
      "cell_type": "code",
      "source": [
        "student1.get_mean()"
      ],
      "metadata": {
        "colab": {
          "base_uri": "https://localhost:8080/"
        },
        "id": "ezdXvoZx9OCG",
        "outputId": "28b46f4a-bb45-4a50-8b9d-7d1487155ad4"
      },
      "execution_count": 43,
      "outputs": [
        {
          "output_type": "execute_result",
          "data": {
            "text/plain": [
              "80.0"
            ]
          },
          "metadata": {},
          "execution_count": 43
        }
      ]
    },
    {
      "cell_type": "code",
      "source": [
        "student1.print_info()"
      ],
      "metadata": {
        "colab": {
          "base_uri": "https://localhost:8080/"
        },
        "id": "WkhKQkpR9RMu",
        "outputId": "6777220c-7ece-40d0-a000-3b903bc6c25f"
      },
      "execution_count": 44,
      "outputs": [
        {
          "output_type": "stream",
          "name": "stdout",
          "text": [
            "Student(번호 = 1, 이름 = 홍길동, python = 100, java = 90, javascript = 50)\n"
          ]
        }
      ]
    },
    {
      "cell_type": "code",
      "source": [
        "import math\n",
        "# math 모듈을 임포트 -> math.sqrt(): 루트"
      ],
      "metadata": {
        "id": "048ofnzeBjoE"
      },
      "execution_count": 45,
      "outputs": []
    },
    {
      "cell_type": "markdown",
      "source": [
        "* class: Point\n",
        "    * 2차원 평면의 점의 좌표 (x, y)를 표현하는 클래스\n",
        "* 생성자 함수: x, y를 초기화. x, y의 기본값은 0.\n",
        "* 메서드\n",
        "    * move: 점의 좌표를 원래 위치에서 dx, dy만큼 이동시키는 메서드\n",
        "    * distance: 현재 점의 위치에서 다른 점까지의 거리를 계산해서 리턴하는 메서드.\n",
        "        * `sqrt((x1 - x2) ** 2 + (y1 - y2) ** 2)`\n",
        "        (LaTex로 수식 표현 가능)"
      ],
      "metadata": {
        "id": "0b92PecDB6XW"
      }
    },
    {
      "cell_type": "code",
      "source": [
        "class Point:\n",
        "\n",
        "    def __init__(self, x = 0, y = 0):\n",
        "        self.x = x\n",
        "        self.y = y\n",
        "\n",
        "    def move(self, dx, dy):\n",
        "        self.x += dx\n",
        "        self.y += dy\n",
        "\n",
        "    def distance(self, p):\n",
        "        return math.sqrt((self.x - p.x) ** 2 + (self.y - p.y) ** 2)\n",
        "\n",
        "    def print_point(self):\n",
        "        print(f'x = {self.x}, y = {self.y}')"
      ],
      "metadata": {
        "id": "YiYZwciNBlVk"
      },
      "execution_count": 47,
      "outputs": []
    },
    {
      "cell_type": "code",
      "source": [
        "point1 = Point(2, 5)\n",
        "point1.print_point()\n",
        "point1.move(2, -1)\n",
        "point1.print_point()\n",
        "\n",
        "point2 = Point(1, 1)\n",
        "print(point1.distance(point2))\n",
        "\n",
        "point3 = Point()\n",
        "point3.print_point()"
      ],
      "metadata": {
        "colab": {
          "base_uri": "https://localhost:8080/"
        },
        "id": "1DpDgbLSDeLd",
        "outputId": "44a6c9e6-cc2a-4ced-9ec7-b6e8d7944b89"
      },
      "execution_count": 54,
      "outputs": [
        {
          "output_type": "stream",
          "name": "stdout",
          "text": [
            "x = 2, y = 5\n",
            "x = 4, y = 4\n",
            "4.242640687119285\n",
            "x = 0, y = 0\n"
          ]
        }
      ]
    },
    {
      "cell_type": "code",
      "source": [
        "pt1 = Point()\n",
        "pt1.move(1, 1)\n",
        "\n",
        "pt2 = Point(1, 2)\n",
        "pt1.distance(pt2)"
      ],
      "metadata": {
        "colab": {
          "base_uri": "https://localhost:8080/"
        },
        "id": "CwbrvM1pJogj",
        "outputId": "1ca1666a-db0f-4b9c-8c37-eecca66430f4"
      },
      "execution_count": 57,
      "outputs": [
        {
          "output_type": "execute_result",
          "data": {
            "text/plain": [
              "1.0"
            ]
          },
          "metadata": {},
          "execution_count": 57
        }
      ]
    },
    {
      "cell_type": "markdown",
      "source": [
        "# magic method"
      ],
      "metadata": {
        "id": "I5pNQXTaOueJ"
      }
    },
    {
      "cell_type": "markdown",
      "source": [
        "모든 클래스가 같은 이름으로 가지고 있는 특별한 메소드.\n",
        "\n",
        "특별한 경우에 파이썬 인터프리터에 의해서 호출되는 메서드.\n",
        "\n",
        "* `__init__()`:\n",
        "    * 생성자를 호출하면 자동으로 호출되는 메서드.\n",
        "    * 인스턴스의 필드(프로퍼티)들을 선언하고 초기화하는 메서드.\n",
        "\n",
        "* `__str__()`:\n",
        "    * `print()` 함수의 아규먼트 객체일 때 자동으로 호출되는 메서드.\n",
        "    * 문자열을 리턴하는 메서드.\n",
        "* `__repr__()`:\n",
        "    * representation의 약자로 만들어진 메서드.\n",
        "    * 식(expression)을 출력할 때 자동으로 호출되는 메서드.\n",
        "    * `print()` 함수의 동작 방식:\n",
        "        * 객체를 출력하기 위해서, 그 객체의 `__str__()` 메서드를 호출함.\n",
        "        * `__str__()` 메서드가 없는 경우에는, `__repr__()` 메서드를 호출함.\n",
        "        * `__str__()` 메서드와 `__repr__()` 메서드가 모두 없는 경우에는, 기본 문자열 (... object at 0x...)로 출력."
      ],
      "metadata": {
        "id": "r433BwF9Oxwa"
      }
    },
    {
      "cell_type": "code",
      "source": [
        "class T:\n",
        "    '''\n",
        "    # print만 class T instance를 출력\n",
        "    def __str__(self):\n",
        "        return 'class T instance'\n",
        "    '''\n",
        "\n",
        "    # print도 representation도 T를 출력\n",
        "    def __repr__(self):\n",
        "        return 'T'"
      ],
      "metadata": {
        "id": "wBfK-3gORbNQ"
      },
      "execution_count": 68,
      "outputs": []
    },
    {
      "cell_type": "code",
      "source": [
        "t = T()     # 생성자 호출 -> __init__() 메서드 호출"
      ],
      "metadata": {
        "id": "bVdXqTyPRs4Q"
      },
      "execution_count": 69,
      "outputs": []
    },
    {
      "cell_type": "code",
      "source": [
        "print(t)    # __str__() 메서드 자동 호출"
      ],
      "metadata": {
        "colab": {
          "base_uri": "https://localhost:8080/"
        },
        "id": "N3iCmPokRv7z",
        "outputId": "e28296b3-86bb-4a52-fbfe-efd7bd97386c"
      },
      "execution_count": 70,
      "outputs": [
        {
          "output_type": "stream",
          "name": "stdout",
          "text": [
            "T\n"
          ]
        }
      ]
    },
    {
      "cell_type": "code",
      "source": [
        "t           # __repr__() 메서드 자동 호출"
      ],
      "metadata": {
        "colab": {
          "base_uri": "https://localhost:8080/"
        },
        "id": "qWKnyNldRxog",
        "outputId": "0801e167-5070-4e2d-962d-dc554a500979"
      },
      "execution_count": 71,
      "outputs": [
        {
          "output_type": "execute_result",
          "data": {
            "text/plain": [
              "T"
            ]
          },
          "metadata": {},
          "execution_count": 71
        }
      ]
    },
    {
      "cell_type": "markdown",
      "source": [
        "* `__eq__()`:\n",
        "    * equal\n",
        "    * `==` 연산자를 사용했을 때 자동으로 호출되는 메서드.\n",
        "    * 두 객체가 같은 지(True) 다른 지(False)를 리턴."
      ],
      "metadata": {
        "id": "DXQaVSzAT49A"
      }
    },
    {
      "cell_type": "code",
      "source": [
        "list1 = [1, 2, 3]\n",
        "list2 = [1, 2, 3]\n",
        "list1 == list2      # list 클래스가 __eq__ 메서드를 구현하고 있기 때문에."
      ],
      "metadata": {
        "colab": {
          "base_uri": "https://localhost:8080/"
        },
        "id": "HyGpr_3cUrvX",
        "outputId": "2d03e59a-7e0f-457d-aa5f-874b1274e0a8"
      },
      "execution_count": 73,
      "outputs": [
        {
          "output_type": "execute_result",
          "data": {
            "text/plain": [
              "True"
            ]
          },
          "metadata": {},
          "execution_count": 73
        }
      ]
    },
    {
      "cell_type": "code",
      "source": [
        "class Number:\n",
        "\n",
        "    def __init__(self, n):\n",
        "        self.n = n\n",
        "\n",
        "    def __repr__(self):\n",
        "        return str(self.n)\n",
        "\n",
        "    def __eq__(self, other):\n",
        "        return self.n == other.n"
      ],
      "metadata": {
        "id": "LIA9WgZeVGU3"
      },
      "execution_count": 81,
      "outputs": []
    },
    {
      "cell_type": "code",
      "source": [
        "n1 = Number(1)\n",
        "n1"
      ],
      "metadata": {
        "colab": {
          "base_uri": "https://localhost:8080/"
        },
        "id": "Mij00DKRVYJE",
        "outputId": "bc30dff4-b214-4392-a31a-b4e6efe17b56"
      },
      "execution_count": 82,
      "outputs": [
        {
          "output_type": "execute_result",
          "data": {
            "text/plain": [
              "1"
            ]
          },
          "metadata": {},
          "execution_count": 82
        }
      ]
    },
    {
      "cell_type": "code",
      "source": [
        "n2 = Number(1)\n",
        "n2"
      ],
      "metadata": {
        "colab": {
          "base_uri": "https://localhost:8080/"
        },
        "id": "6-OKOSUzV2Y3",
        "outputId": "26341058-bc09-4561-8812-4e7b15673115"
      },
      "execution_count": 84,
      "outputs": [
        {
          "output_type": "execute_result",
          "data": {
            "text/plain": [
              "1"
            ]
          },
          "metadata": {},
          "execution_count": 84
        }
      ]
    },
    {
      "cell_type": "code",
      "source": [
        "n1 == n2    # n1.__eq__(n2)"
      ],
      "metadata": {
        "colab": {
          "base_uri": "https://localhost:8080/"
        },
        "id": "x274t_nnV-J_",
        "outputId": "b2309ae5-6476-43f1-b55d-0618877a38da"
      },
      "execution_count": 85,
      "outputs": [
        {
          "output_type": "execute_result",
          "data": {
            "text/plain": [
              "True"
            ]
          },
          "metadata": {},
          "execution_count": 85
        }
      ]
    },
    {
      "cell_type": "markdown",
      "source": [
        "# Exercise\n",
        "\n",
        "* class Score\n",
        "    * 프로퍼티: korean, math, science (int 타입)\n",
        "    * 메서드: `__init__`, `__repr__`, `__eq__`,  `get_total`, `get_mean`\n",
        "\n",
        "* class Studnet\n",
        "    * 프로퍼티: no(int), name(str), score(Score)\n",
        "    * 메서드: `__init__`, `__repr__`"
      ],
      "metadata": {
        "id": "_T9yXXihoIuC"
      }
    },
    {
      "cell_type": "code",
      "source": [
        "class Score:\n",
        "\n",
        "    def __init__(self, korean, math, science):\n",
        "        self.korean = korean\n",
        "        self.math = math\n",
        "        self.science = science\n",
        "\n",
        "    def __repr__(self):\n",
        "        return f'Score(korean = {self.korean}, math = {self.math}, science = {self.science})'\n",
        "\n",
        "    def __eq__(self, s):\n",
        "        return self.korean == s.korean and \\\n",
        "                self.math == s.math and \\\n",
        "                self.science == s.science\n",
        "\n",
        "        # return self.korean == s.korean and self.math == s.math and self.science == s.science\n",
        "\n",
        "    def get_total(self):\n",
        "        return self.korean + self.math + self.science\n",
        "\n",
        "    def get_mean(self):\n",
        "        return self.get_total() / 3\n"
      ],
      "metadata": {
        "id": "kRRMJs1SWDcI"
      },
      "execution_count": 110,
      "outputs": []
    },
    {
      "cell_type": "code",
      "source": [
        "class Student:\n",
        "    def __init__(self, no, name, score):\n",
        "        self.no = no\n",
        "        self.name = name\n",
        "        self.score = score\n",
        "\n",
        "    def __repr__(self):\n",
        "        return f'Studnet(no = {self.no}, name = {self.name}, score = {self.score})'"
      ],
      "metadata": {
        "id": "x-hA7bR3pk9x"
      },
      "execution_count": 111,
      "outputs": []
    },
    {
      "cell_type": "code",
      "source": [
        "score1 = Score(100, 20, 30)\n",
        "score1"
      ],
      "metadata": {
        "colab": {
          "base_uri": "https://localhost:8080/"
        },
        "id": "KhANRjHzqD-B",
        "outputId": "031c7a07-6b47-406b-ba0b-50b34f25ef71"
      },
      "execution_count": 112,
      "outputs": [
        {
          "output_type": "execute_result",
          "data": {
            "text/plain": [
              "Score(korean = 100, math = 20, science = 30)"
            ]
          },
          "metadata": {},
          "execution_count": 112
        }
      ]
    },
    {
      "cell_type": "code",
      "source": [
        "score2 = Score(40, 40, 100)\n",
        "score2"
      ],
      "metadata": {
        "colab": {
          "base_uri": "https://localhost:8080/"
        },
        "id": "ZLD7jcrzqKbI",
        "outputId": "db182c98-a29e-42f9-fb29-ed0ebc9565d7"
      },
      "execution_count": 113,
      "outputs": [
        {
          "output_type": "execute_result",
          "data": {
            "text/plain": [
              "Score(korean = 40, math = 40, science = 100)"
            ]
          },
          "metadata": {},
          "execution_count": 113
        }
      ]
    },
    {
      "cell_type": "code",
      "source": [
        "score3 = Score(100, 20, 30)\n",
        "score3"
      ],
      "metadata": {
        "colab": {
          "base_uri": "https://localhost:8080/"
        },
        "id": "VNZpa6EYqQK4",
        "outputId": "4308e3b9-2c29-4e0b-bcb0-ca3591b30b11"
      },
      "execution_count": 114,
      "outputs": [
        {
          "output_type": "execute_result",
          "data": {
            "text/plain": [
              "Score(korean = 100, math = 20, science = 30)"
            ]
          },
          "metadata": {},
          "execution_count": 114
        }
      ]
    },
    {
      "cell_type": "code",
      "source": [
        "print(score1 == score2)\n",
        "print(score1 == score3)"
      ],
      "metadata": {
        "colab": {
          "base_uri": "https://localhost:8080/"
        },
        "id": "WOe0O6vUqVLo",
        "outputId": "32cfda8c-e512-4d6c-dcfb-fe9fa0caf31b"
      },
      "execution_count": 115,
      "outputs": [
        {
          "output_type": "stream",
          "name": "stdout",
          "text": [
            "False\n",
            "True\n"
          ]
        }
      ]
    },
    {
      "cell_type": "code",
      "source": [
        "print('score1 total =', score1.get_total())\n",
        "print('score1 mean =',score1.get_mean())\n",
        "\n",
        "print('score2 total =', score2.get_total())\n",
        "print('score2 mean =',score2.get_mean())\n",
        "\n",
        "print('score3 total =', score3.get_total())\n",
        "print('score3 mean =',score3.get_mean())"
      ],
      "metadata": {
        "colab": {
          "base_uri": "https://localhost:8080/"
        },
        "id": "qGVPiieyqcuZ",
        "outputId": "bab846ed-ef21-4f40-e8e1-7810d8649535"
      },
      "execution_count": 116,
      "outputs": [
        {
          "output_type": "stream",
          "name": "stdout",
          "text": [
            "score1 total = 150\n",
            "score1 mean = 50.0\n",
            "score2 total = 180\n",
            "score2 mean = 60.0\n",
            "score3 total = 150\n",
            "score3 mean = 50.0\n"
          ]
        }
      ]
    },
    {
      "cell_type": "code",
      "source": [
        "student1 = Student(1, '홍길동', score1)\n",
        "student2 = Student(2, '김길동', score2)\n",
        "student3 = Student(3, '이길동', score3)\n",
        "student4 = Student(4, '오길동', Score(1, 2, 3))\n",
        "\n",
        "print(student1)\n",
        "print(student2)\n",
        "print(student3)\n",
        "print(student4)\n",
        "print(student1.score == student2.score)"
      ],
      "metadata": {
        "colab": {
          "base_uri": "https://localhost:8080/"
        },
        "id": "4CzWME_drDCQ",
        "outputId": "99a1a11f-8e22-4292-ef47-3a9cde6bb2fe"
      },
      "execution_count": 120,
      "outputs": [
        {
          "output_type": "stream",
          "name": "stdout",
          "text": [
            "Studnet(no = 1, name = 홍길동, score = Score(korean = 100, math = 20, science = 30))\n",
            "Studnet(no = 2, name = 김길동, score = Score(korean = 40, math = 40, science = 100))\n",
            "Studnet(no = 3, name = 이길동, score = Score(korean = 100, math = 20, science = 30))\n",
            "Studnet(no = 4, name = 오길동, score = Score(korean = 1, math = 2, science = 3))\n",
            "False\n"
          ]
        }
      ]
    },
    {
      "cell_type": "markdown",
      "source": [
        "# 상속(Inheritance)"
      ],
      "metadata": {
        "id": "tdC4ohhT6BXu"
      }
    },
    {
      "cell_type": "markdown",
      "source": [
        "* super class(상위 클래스), parent class(부모 클래스), base class(기본 클래스)\n",
        "* sub class(하위 클래스), child class(자식 클래스), derived class(유도 클래스)\n",
        "* 상속: 상위 클래스의 속성(데이터)들과 기능(메서드)들을 하위 클래스에서 재상용하는 것.\n",
        "* 일반적으로 **IS-A** 관계가 성립하는 객체들을 상속으로 사용해서 구현함.\n",
        "    * 학생은 사람이다.(Student IS A Person)"
      ],
      "metadata": {
        "id": "BqpgzX0n6EdF"
      }
    },
    {
      "cell_type": "code",
      "source": [
        "class Person:\n",
        "    def __init__(self, name, age = 0):\n",
        "        self.name = name\n",
        "        self.age = age\n",
        "\n",
        "    def hello(self):\n",
        "        print(f'안녕하세요. 저는 {self.name}입니다. 나이는 {self.age}살 입니다.')"
      ],
      "metadata": {
        "id": "WHWuSMZc7akM"
      },
      "execution_count": 121,
      "outputs": []
    },
    {
      "cell_type": "code",
      "source": [
        "gildong = Person('홍길동')\n",
        "gildong.hello()"
      ],
      "metadata": {
        "colab": {
          "base_uri": "https://localhost:8080/"
        },
        "id": "N0Gqu_Wm8ld3",
        "outputId": "418100f2-d7b3-4384-8436-82c0d947626f"
      },
      "execution_count": 122,
      "outputs": [
        {
          "output_type": "stream",
          "name": "stdout",
          "text": [
            "안녕하세요. 저는 홍길동입니다. 나이는 0살 입니다.\n"
          ]
        }
      ]
    },
    {
      "cell_type": "code",
      "source": [
        "# Person을 상속하는 Student 클래스 정의\n",
        "class Student(Person):\n",
        "    # __init__()을 만들지 않은 경우, 부모의 __init__()을 상속받는다.\n",
        "\n",
        "    # 생성자 method override\n",
        "    def __init__(self, name, age = 0, school = 'Test'):\n",
        "        # 하위 클래스에서 상위 클래스의 생성자 함수를 호출:\n",
        "        super().__init__(name, age)\n",
        "        # 하위 클래스에 추가된 필드\n",
        "        self.school = school\n",
        "\n",
        "    # hello method override\n",
        "    def hello(self):\n",
        "        super().hello()\n",
        "        print(f'학교는 {self.school}입니다.')"
      ],
      "metadata": {
        "id": "2hzEZj8f85dO"
      },
      "execution_count": 128,
      "outputs": []
    },
    {
      "cell_type": "code",
      "source": [
        "stu = Student(name = '오쌤', age = 16, school = '아이티윌')\n",
        "stu.hello()"
      ],
      "metadata": {
        "colab": {
          "base_uri": "https://localhost:8080/"
        },
        "id": "5_uDof-69FCn",
        "outputId": "ce6afcf2-13aa-425a-9210-f30aa5c4ff0c"
      },
      "execution_count": 129,
      "outputs": [
        {
          "output_type": "stream",
          "name": "stdout",
          "text": [
            "안녕하세요. 저는 오쌤입니다. 나이는 16살 입니다.\n",
            "학교는 아이티윌입니다.\n"
          ]
        }
      ]
    },
    {
      "cell_type": "markdown",
      "source": [
        "**Method Override**\n",
        "\n",
        "* 상위 클래스의 메서드를 하위 클래스에서 재정의하는 것.\n",
        "    * **파이썬**에서는 메서드의 이름만 같으면 (파라미터 타입/개수와 상관 없이) 메서드가 재정의됨.\n",
        "        * 파이썬은 같은 이름으로 2개 이상의 메서드(함수)를 가질 수 없음 - overloading은 제공하지 않음.\n",
        "    * **자바**에서는 메서드 이름, 파라미터 타입/개수/순서가 모두 동일한 경우에 메서드가 재정의됨.\n",
        "        * 파라미터가 다르면 같은 이름의 메서드가 2개 이상 있을 수 있음 - overloading\n",
        "* 하위 클래스에서 재정의(overrid)된 상위 클래스의 메서드를 명시적으로 호출하기 위해서는 `super().method_name(...)`의 형식으로 호출함."
      ],
      "metadata": {
        "id": "ljzMt7_-84A1"
      }
    },
    {
      "cell_type": "code",
      "source": [
        "def a():\n",
        "    print('a')"
      ],
      "metadata": {
        "id": "GVx1NTFQEzzv"
      },
      "execution_count": 130,
      "outputs": []
    },
    {
      "cell_type": "code",
      "source": [
        "def a(msg):\n",
        "    print(msg)"
      ],
      "metadata": {
        "id": "_CBKWVc8FRBw"
      },
      "execution_count": 131,
      "outputs": []
    },
    {
      "cell_type": "code",
      "source": [
        "a('test')"
      ],
      "metadata": {
        "colab": {
          "base_uri": "https://localhost:8080/"
        },
        "id": "t4i9PGakFVPf",
        "outputId": "5a3e683e-8ac7-4014-9bf5-4d7eebcea236"
      },
      "execution_count": 133,
      "outputs": [
        {
          "output_type": "stream",
          "name": "stdout",
          "text": [
            "test\n"
          ]
        }
      ]
    },
    {
      "cell_type": "markdown",
      "source": [
        "파이썬은 함수(메서드) 오버로딩을 제공하지 않음.\n",
        "\n",
        "파라미터가 다르다고 해서 같은 이름으로 함수(메서드)를 정의할 수 없음.\n",
        "\n",
        "같은 이름으로 함수를 정의하면, 가장 마지막에서 정의한 함수만 남음.\n",
        "\n",
        "파이썬은 함수(메서드) 오버로딩 대신에, default argument를 이용하면, 같은 이름의 함수를 여러가지 방법으로 호출할 수 있음."
      ],
      "metadata": {
        "id": "jHyOTnxXGHQG"
      }
    },
    {
      "cell_type": "code",
      "source": [
        "def a(msg = 'a'):\n",
        "    print(msg)"
      ],
      "metadata": {
        "id": "69p0mm3cFxqv"
      },
      "execution_count": 134,
      "outputs": []
    },
    {
      "cell_type": "code",
      "source": [
        "a()\n",
        "a('TEST')"
      ],
      "metadata": {
        "colab": {
          "base_uri": "https://localhost:8080/"
        },
        "id": "1hVODZ50Grm4",
        "outputId": "f7140718-07fc-47fe-91eb-3e472d189a31"
      },
      "execution_count": 135,
      "outputs": [
        {
          "output_type": "stream",
          "name": "stdout",
          "text": [
            "a\n",
            "TEST\n"
          ]
        }
      ]
    }
  ]
}